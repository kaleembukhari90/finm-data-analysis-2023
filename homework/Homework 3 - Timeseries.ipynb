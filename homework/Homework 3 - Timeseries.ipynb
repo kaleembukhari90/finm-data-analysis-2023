{
 "cells": [
  {
   "cell_type": "markdown",
   "id": "7a2dd39f",
   "metadata": {},
   "source": [
    "# Solution 3 - Timeseries\n",
    "## Data Analysis\n",
    "### FINM August Review \n",
    "\n",
    "Mark Hendricks\n",
    "\n",
    "hendricks@uchicago.edu"
   ]
  },
  {
   "cell_type": "markdown",
   "id": "fa52fe39",
   "metadata": {},
   "source": [
    "# Data\n",
    "* This homework uses the file, `data/money_inflation_spy_data.xlsx`.\n",
    "* Find the data in the Github repo associated with the module, (link on Canvas.)\n",
    "\n",
    "The data file contains...\n",
    "* Macroeconomic Data\n",
    "    - Core CPI price index, denoted as $p$. \n",
    "    - M2 Money Supply, denoted as $m$.\n",
    "* Financial data\n",
    "    - Returns on the S&P 500, (via the SPY ETF)\n",
    "* See the “build data” folder for the details on how the data was constructed\n",
    "\n",
    "$$\\newcommand{\\spy}{\\text{spy}}$$\n",
    "$$\\newcommand{\\hyg}{\\text{hyg}}$$"
   ]
  },
  {
   "cell_type": "markdown",
   "id": "6fd4dfc5",
   "metadata": {},
   "source": [
    "# 1. Assessing the OLS Model\n",
    "\n",
    "This problem considers the predictability of inflation over various horizons. To do so, note the following:\n",
    "* $i_{t,t+h}$: Inflation is the h-period growth rate of CPI: \n",
    "\n",
    "$$i_{t,t+h} ≡ \\frac{p_{t+h}}{p_t} − 1$$\n",
    "\n",
    "* $g_{t,t+h}$: Money growth considered below is the growth rate of M2 Money supply:\n",
    "\n",
    "$$g_{t,t+h} ≡ \\frac{m_{t+h}}{m_t} − 1$$"
   ]
  },
  {
   "cell_type": "markdown",
   "id": "0c6693ba",
   "metadata": {},
   "source": [
    "## 1. \n",
    "\n",
    "Estimate an OLS regression to see if CPI and Money are contemporaneously correlated: \n",
    "\n",
    "$$p_t = \\alpha + \\beta m_t + \\epsilon_t$$\n",
    "\n",
    "* Note that this is not a lagged regression, but rather a contemporaneous time-series regression. (We are not predicting a period ahead but rather fitting one series to the other at the same time period.)\n",
    "\n",
    "- (a) Report the estimated R-squared. \n",
    "- (b) Report the point-estimate of $\\beta$.\n",
    "\n",
    "## 2. \n",
    "\n",
    "This time, examine a regression of growth rates. Specifically, estimate an OLS regression to see if inflation and money growth are contemporaneously correlated:\n",
    "\n",
    "$$i_{t,t+h} = \\alpha + \\beta g_{t,t+h} + \\epsilon_{t,t+h}$$\n",
    "\n",
    "* Note that this is not a lagged regression, but rather a regular time-series regression.\n",
    "\n",
    "Answer the questions below for a one-year horizon: $h = 12$. \n",
    "- (a) Report the estimated R-squared.\n",
    "- (b) Report the point-estimate of $\\beta$.\n",
    "\n",
    "## 3. \n",
    "\n",
    "The result of regressing inflation on money growth is very different from regressing CPI on Money. \n",
    "\n",
    "- (a) What do you conclude? \n",
    "- (b) Does it seem that variation in money contemporaneously explains variation in inflation?\n",
    "- (c) In particular, what is wrong with one of the two regression models? Consider plotting the raw dependent and independent variable of each.\n",
    "\n",
    "## 4.\n",
    "\n",
    "Answer the remaining questions regarding the estimation of inflation on money growth in 1.2 above.\n",
    "\n",
    "Do the sample residuals, $e$ seem to be iid? That is,\n",
    "- (a) do they seem to be drawn from a constant variance? \n",
    "- (b) do they have serial correlation?\n",
    "\n",
    "Assess this informally by plotting the time-series of estimated sample residuals, $e$."
   ]
  },
  {
   "cell_type": "markdown",
   "id": "cbc28f23",
   "metadata": {},
   "source": [
    "## 5.\n",
    "\n",
    "\n",
    "Suppose that the residuals do not fit the classic OLS assumptions. (Technically speaking, consider that they are heteroskedastic and have serial correlation.)\n",
    "\n",
    "- (a) Report whether the estimates for $\\alpha$ or $\\beta$ are statistically significant relative to 0, for a significance level of 5%. (Check the reported p-value for each of the estimates, perhaps using stats-models OLS function.)\n",
    "- (b) Do you have concerns about the accuracy of the reported p-values?\n",
    "- (c) Do you have concerns about the estimated beta? For small samples, for large samples?\n",
    "\n",
    "## 6. \n",
    "\n",
    "- (a) Assess the residuals with the Durbin-Watson test for serial correlation. \n",
    "- (b) Formally assess heteroskedasticity of the residuals with White’s test.\n",
    "\n",
    "### Hints\n",
    "\n",
    "- (a) This is reported by default in the stats-models OLS estimation summary. A value less than 2 would indicate potential issues with serial correlation.\n",
    "- (b) See the documentation for the stats-model package.\n",
    "\n",
    "## 7. \n",
    "\n",
    "Try redoing this entire problem, but this time with a lagged, forecasting regression instead of a contemporaneous regression. Namely, replace the equation in 1.2 with,\n",
    "\n",
    "$$i_{t,t+h} = \\alpha + \\beta g_{t-h,t} + \\epsilon_{t,t+h}$$\n",
    "\n",
    "What do you think of the ability of past inflation and money growth to forecast future inflation?\n",
    "\n",
    "### Hint\n",
    "This should be easy to reform just this equation and then rerun the same code."
   ]
  },
  {
   "cell_type": "markdown",
   "id": "b1d6af22",
   "metadata": {},
   "source": [
    "***"
   ]
  },
  {
   "cell_type": "markdown",
   "id": "f5f97a24",
   "metadata": {},
   "source": [
    "# 2 Models of Volatility"
   ]
  },
  {
   "cell_type": "markdown",
   "id": "78f14bef",
   "metadata": {},
   "source": [
    "We will calculate a time-series of volatility estimates using a few different methods. For each, we use $\\sigma_t$ to denote our estimate of the time-$t$ return volatility, as based on data over periods through $t-1$, but not including $t$ itself. \n",
    "\n",
    "This problem uses data from `data/money_inflation_spy_data.xlsx`.\n",
    "\n",
    "Estimate the following using the SPY return series. We use a common (but biased) version of the usual variance estimator by ignoring $\\mu$ and dividing by the number of data points, rather than by the degrees of freedom. "
   ]
  },
  {
   "cell_type": "markdown",
   "id": "07bc741b",
   "metadata": {},
   "source": [
    "### Expanding Series\n",
    "$$\\begin{align*}\n",
    "\\sigma^2_{t} =& \\frac{1}{t-1}\\sum_{\\tau=1}^{t-1} r_\\tau ^ 2\n",
    "\\end{align*}$$\n",
    "\n",
    "Begin the calculation at $t=61$, so that the first estimate is based on 60 data points.\n",
    "\n",
    "### Rolling Window\n",
    "\\begin{align*}\n",
    "\\sigma^2_{t} =& \\frac{1}{m}\\sum_{l=1}^{m} r_{t-l}^2\n",
    "\\end{align*}\n",
    "Use $m=60$, and begin the calculation at the $t=61$, (so that the calculation has a full 60 data points.) Consider using pandas method `df.rolling(60).std()`, where `df` is replaced by the name of your pandas dataframe."
   ]
  },
  {
   "cell_type": "markdown",
   "id": "d80d846c",
   "metadata": {},
   "source": [
    "### IGARCH \n",
    "(famously used in *JP Morgan's Risk Metrics*)\n",
    "$$\\begin{align*}\n",
    "\\sigma^2_{t} =& \\theta \\sigma^2_{t-1} + (1-\\theta) r_{t-1}^2\n",
    "\\end{align*}$$\n",
    "\n",
    "Rather than estimating $\\theta$, simply use $\\theta = 0.97$, and initialize with $\\sigma_1 = 0.15\\left(\\frac{1}{\\sqrt{12}}\\right)$.\n",
    "\n",
    "\n",
    "### GARCH(1,1)\n",
    "$$\\begin{align*}\n",
    "\\sigma^2_{t} =& \\omega + \\theta \\sigma^2_{t-1} + \\gamma r_{t-1}^2\n",
    "\\end{align*}$$\n",
    "\n",
    "To estimate GARCH(1,1), try using the ARCH package in Python. The default estimation implementation is fine, (and will account for $\\mu$ and degrees of freedom.) "
   ]
  },
  {
   "cell_type": "markdown",
   "id": "c31d7139",
   "metadata": {},
   "source": [
    "For each of these methods, \n",
    "\n",
    "## 2.1\n",
    "Plot $\\sigma_t$. (Plot the volatility, the square-root of the variance.)\n",
    "\n",
    "## 2.2\n",
    "Report the estimation for October 2008, April 2020, and May 2023."
   ]
  },
  {
   "cell_type": "markdown",
   "id": "436d0a48",
   "metadata": {},
   "source": [
    "***"
   ]
  }
 ],
 "metadata": {
  "hide_input": false,
  "kernelspec": {
   "display_name": "Python 3 (ipykernel)",
   "language": "python",
   "name": "python3"
  },
  "language_info": {
   "codemirror_mode": {
    "name": "ipython",
    "version": 3
   },
   "file_extension": ".py",
   "mimetype": "text/x-python",
   "name": "python",
   "nbconvert_exporter": "python",
   "pygments_lexer": "ipython3",
   "version": "3.9.6"
  },
  "toc": {
   "base_numbering": 1,
   "nav_menu": {},
   "number_sections": true,
   "sideBar": true,
   "skip_h1_title": false,
   "title_cell": "Table of Contents",
   "title_sidebar": "Contents",
   "toc_cell": false,
   "toc_position": {},
   "toc_section_display": true,
   "toc_window_display": false
  },
  "varInspector": {
   "cols": {
    "lenName": 16,
    "lenType": 16,
    "lenVar": 40
   },
   "kernels_config": {
    "python": {
     "delete_cmd_postfix": "",
     "delete_cmd_prefix": "del ",
     "library": "var_list.py",
     "varRefreshCmd": "print(var_dic_list())"
    },
    "r": {
     "delete_cmd_postfix": ") ",
     "delete_cmd_prefix": "rm(",
     "library": "var_list.r",
     "varRefreshCmd": "cat(var_dic_list()) "
    }
   },
   "types_to_exclude": [
    "module",
    "function",
    "builtin_function_or_method",
    "instance",
    "_Feature"
   ],
   "window_display": false
  }
 },
 "nbformat": 4,
 "nbformat_minor": 5
}
