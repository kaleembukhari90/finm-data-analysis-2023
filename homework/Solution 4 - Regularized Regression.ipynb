{
 "cells": [
  {
   "cell_type": "markdown",
   "id": "a86bc78a",
   "metadata": {},
   "source": [
    "# Solution 4 - Regularized Regression\n",
    "## Data Analysis\n",
    "### FINM August Review \n",
    "\n",
    "Mark Hendricks\n",
    "\n",
    "hendricks@uchicago.edu"
   ]
  },
  {
   "cell_type": "markdown",
   "id": "695f4428",
   "metadata": {},
   "source": [
    "# Penalized Regression"
   ]
  },
  {
   "cell_type": "markdown",
   "id": "54679f33",
   "metadata": {},
   "source": [
    "$$\\newcommand{\\nsecs}{450}$$\n",
    "$$\\newcommand{\\target}{GLD}$$\n",
    "$$\\newcommand{\\spy}{\\text{spy}}$$\n",
    "$$\\newcommand{\\hyg}{\\text{hyg}}$$\n",
    "\n",
    "## Data\n",
    "* This homework uses the file, `data/spx_returns_weekly.xlsx`.\n",
    "* Find the data in the Github repo associated with the module, (link on Canvas.)\n",
    "\n",
    "The data file contains...\n",
    "* Return rates, $r^{\\target}_t$, for the \\target, (an ETF,) which tracks the returns on gold.\n",
    "* Return rates, $r^i_t$, for $\\nsecs$ single-name equities. \n",
    "\n",
    "#### Note\n",
    "These are less than 500 return series in the sample due to filtering out securities with insufficient return histories."
   ]
  },
  {
   "cell_type": "markdown",
   "id": "54a05ac6",
   "metadata": {},
   "source": [
    "## Model\n",
    "Consider a regression of $\\target$, denoted $r^{\\target}$, on all $\\nsecs$ returns of the S&P 500 stocks.\n",
    "\n",
    "$$\n",
    "r^{\\target}_t = \\alpha + \\sum_{j=1}^k \\beta^j r^j_t + \\epsilon_t\n",
    "\\label{eq:REG}\n",
    "$$\n",
    "\n",
    "We refer to this equation below as the `MODEL`."
   ]
  },
  {
   "cell_type": "markdown",
   "id": "5b0ff294",
   "metadata": {},
   "source": [
    "# 1. \n",
    "\n",
    "Estimate the `MODEL` with OLS.\n",
    "\n",
    "#### Note\n",
    "For this OLS estimation, along with the estimations below, try using scikit-learn in Python\n",
    "\n",
    "`from sklearn import LinearRegression Lasso Ridge`\n",
    "\n",
    "For OLS specifically, try\n",
    "\n",
    "`model_ols = LinearRegression().fit(X,y)`\n",
    "\n",
    "### 1.1. \n",
    "Report the estimated intercept and betas. \n",
    "### 1.2. \n",
    "Report the R-squared.\n",
    "### 1.3. \n",
    "Which factors have the largest betas in explaining $r^{\\target}$?\n",
    "### 1.4. \n",
    "Calculate $\\beta^j \\sigma^j$ for each regressor. Which of these is largest in magnitude, and thus most influential in explaining $r^{\\target}$?\n",
    "\n",
    "#### Note\n",
    "The beta being large may simply be because the regressor volatility is small. By scaling by the volatility, we get a better idea of which regressor is driving the most variation.\n",
    "\n",
    "### 1.5. \n",
    "Report the matrix condition number of $R'R$, where $R$ denotes the matrix of single-name equity return data. Why should this condition number give us pause about trusting the OLS estimates out-of-sample?\n",
    "\n",
    "#### Note\n",
    "To get the matrix condition number, consider using, in Python, `numpy.linalg.cond()`."
   ]
  },
  {
   "cell_type": "markdown",
   "id": "2329bba9",
   "metadata": {},
   "source": [
    "# <span style='color:red'>Solution 1</span>"
   ]
  },
  {
   "cell_type": "code",
   "execution_count": 1,
   "id": "104eaed7",
   "metadata": {
    "scrolled": false
   },
   "outputs": [],
   "source": [
    "import pandas as pd\n",
    "import numpy as np\n",
    "import statsmodels.api as sm\n",
    "from sklearn.linear_model import LinearRegression, Lasso, Ridge, LassoCV, RidgeCV\n",
    "\n",
    "import matplotlib.pyplot as plt\n",
    "import seaborn as sns"
   ]
  },
  {
   "cell_type": "code",
   "execution_count": 2,
   "id": "018ed67d",
   "metadata": {},
   "outputs": [],
   "source": [
    "FILEIN = '../data/spx_returns_weekly.xlsx'\n",
    "rets_sp500 = pd.read_excel(FILEIN, sheet_name=2, index_col=0)\n",
    "rets_gld = pd.read_excel(FILEIN, sheet_name=3, index_col=0)[['GLD']]\n",
    "\n",
    "NSECS = rets_sp500.shape[1]"
   ]
  },
  {
   "cell_type": "markdown",
   "id": "fc437d37",
   "metadata": {},
   "source": [
    "## <span style='color:red'>1.1</span>"
   ]
  },
  {
   "cell_type": "code",
   "execution_count": 3,
   "id": "3cc046f4",
   "metadata": {
    "scrolled": false
   },
   "outputs": [
    {
     "data": {
      "text/html": [
       "<div>\n",
       "<style scoped>\n",
       "    .dataframe tbody tr th:only-of-type {\n",
       "        vertical-align: middle;\n",
       "    }\n",
       "\n",
       "    .dataframe tbody tr th {\n",
       "        vertical-align: top;\n",
       "    }\n",
       "\n",
       "    .dataframe thead th {\n",
       "        text-align: right;\n",
       "    }\n",
       "</style>\n",
       "<table border=\"1\" class=\"dataframe\">\n",
       "  <thead>\n",
       "    <tr style=\"text-align: right;\">\n",
       "      <th></th>\n",
       "      <th>Beta</th>\n",
       "    </tr>\n",
       "  </thead>\n",
       "  <tbody>\n",
       "    <tr>\n",
       "      <th>A</th>\n",
       "      <td>-0.043032</td>\n",
       "    </tr>\n",
       "    <tr>\n",
       "      <th>AAP</th>\n",
       "      <td>0.025405</td>\n",
       "    </tr>\n",
       "    <tr>\n",
       "      <th>AAPL</th>\n",
       "      <td>-0.123871</td>\n",
       "    </tr>\n",
       "    <tr>\n",
       "      <th>ABC</th>\n",
       "      <td>0.051529</td>\n",
       "    </tr>\n",
       "    <tr>\n",
       "      <th>ABT</th>\n",
       "      <td>0.052008</td>\n",
       "    </tr>\n",
       "    <tr>\n",
       "      <th>...</th>\n",
       "      <td>...</td>\n",
       "    </tr>\n",
       "    <tr>\n",
       "      <th>XYL</th>\n",
       "      <td>0.036713</td>\n",
       "    </tr>\n",
       "    <tr>\n",
       "      <th>YUM</th>\n",
       "      <td>-0.048369</td>\n",
       "    </tr>\n",
       "    <tr>\n",
       "      <th>ZBH</th>\n",
       "      <td>0.082023</td>\n",
       "    </tr>\n",
       "    <tr>\n",
       "      <th>ZBRA</th>\n",
       "      <td>0.023090</td>\n",
       "    </tr>\n",
       "    <tr>\n",
       "      <th>ZION</th>\n",
       "      <td>-0.020294</td>\n",
       "    </tr>\n",
       "  </tbody>\n",
       "</table>\n",
       "<p>450 rows × 1 columns</p>\n",
       "</div>"
      ],
      "text/plain": [
       "          Beta\n",
       "A    -0.043032\n",
       "AAP   0.025405\n",
       "AAPL -0.123871\n",
       "ABC   0.051529\n",
       "ABT   0.052008\n",
       "...        ...\n",
       "XYL   0.036713\n",
       "YUM  -0.048369\n",
       "ZBH   0.082023\n",
       "ZBRA  0.023090\n",
       "ZION -0.020294\n",
       "\n",
       "[450 rows x 1 columns]"
      ]
     },
     "execution_count": 3,
     "metadata": {},
     "output_type": "execute_result"
    }
   ],
   "source": [
    "ols_model = sm.OLS(rets_gld, sm.add_constant(rets_sp500)).fit()\n",
    "\n",
    "# Coefficients\n",
    "coef_ols = ols_model.params[1:].to_frame('Beta')\n",
    "coef_ols"
   ]
  },
  {
   "cell_type": "markdown",
   "id": "451ec0f7",
   "metadata": {},
   "source": [
    "## <span style='color:red'>1.2</span>"
   ]
  },
  {
   "cell_type": "code",
   "execution_count": 4,
   "id": "e146205c",
   "metadata": {},
   "outputs": [
    {
     "data": {
      "text/plain": [
       "1.0"
      ]
     },
     "execution_count": 4,
     "metadata": {},
     "output_type": "execute_result"
    }
   ],
   "source": [
    "# R-Squared\n",
    "ols_model.rsquared"
   ]
  },
  {
   "cell_type": "markdown",
   "id": "40d67b51",
   "metadata": {},
   "source": [
    "## <span style='color:red'>1.3</span>"
   ]
  },
  {
   "cell_type": "code",
   "execution_count": 5,
   "id": "3e6a50c8",
   "metadata": {
    "scrolled": true
   },
   "outputs": [
    {
     "data": {
      "text/plain": [
       "ADM     -0.229537\n",
       "USB      0.205234\n",
       "BAC     -0.196413\n",
       "TT      -0.194916\n",
       "BRK/B    0.186784\n",
       "dtype: float64"
      ]
     },
     "execution_count": 5,
     "metadata": {},
     "output_type": "execute_result"
    }
   ],
   "source": [
    "ols_model.params.loc[lambda x: x.abs().nlargest(5).index]"
   ]
  },
  {
   "cell_type": "markdown",
   "id": "5306e303",
   "metadata": {},
   "source": [
    "## <span style='color:red'>1.4</span>"
   ]
  },
  {
   "cell_type": "code",
   "execution_count": 6,
   "id": "b011fbcf",
   "metadata": {},
   "outputs": [
    {
     "data": {
      "text/plain": [
       "HBAN   -0.009053\n",
       "BAC    -0.008871\n",
       "NXPI    0.008689\n",
       "WELL    0.008576\n",
       "USB     0.008383\n",
       "dtype: float64"
      ]
     },
     "execution_count": 6,
     "metadata": {},
     "output_type": "execute_result"
    }
   ],
   "source": [
    "sigma_beta_ols = rets_sp500.std() * coef_ols['Beta']\n",
    "\n",
    "sigma_beta_ols.loc[lambda x: x.abs().nlargest(5).index]"
   ]
  },
  {
   "cell_type": "markdown",
   "id": "df975232",
   "metadata": {},
   "source": [
    "Scaling by $\\sigma_j$ allows us to have a more useful comparison between regression coefficients. In doing so, we find the largest (in magnitude) of the coefficients, and thus the most influential regressor, is NEM. "
   ]
  },
  {
   "cell_type": "markdown",
   "id": "609eed08",
   "metadata": {},
   "source": [
    "## <span style='color:red'>1.5</span>"
   ]
  },
  {
   "cell_type": "code",
   "execution_count": 7,
   "id": "49c298fb",
   "metadata": {},
   "outputs": [
    {
     "data": {
      "text/plain": [
       "2.412211133620911e+20"
      ]
     },
     "execution_count": 7,
     "metadata": {},
     "output_type": "execute_result"
    }
   ],
   "source": [
    "# Excluding intercept\n",
    "np.linalg.cond(rets_sp500.T @ rets_sp500)"
   ]
  },
  {
   "cell_type": "markdown",
   "id": "2a3c1c83",
   "metadata": {},
   "source": [
    "## <span style='color:red'>1.6</span>"
   ]
  },
  {
   "cell_type": "code",
   "execution_count": 8,
   "id": "b41c8182",
   "metadata": {},
   "outputs": [
    {
     "data": {
      "text/plain": [
       "2.107960405894822e+19"
      ]
     },
     "execution_count": 8,
     "metadata": {},
     "output_type": "execute_result"
    }
   ],
   "source": [
    "# Including intercept\n",
    "np.linalg.cond(sm.add_constant(rets_sp500).T @ sm.add_constant(rets_sp500))"
   ]
  },
  {
   "cell_type": "markdown",
   "id": "a14a1722",
   "metadata": {},
   "source": [
    "A large condition number should give us pause as it indicates that very small change in the inputs to our training data would yield very large changes in our model's fitted parameters. In the case of linear regression, a high condition number raises concerns about multicollinearity, which can easily distort both the interpretation of coefficients and their out-of-sample performance. The condition numbers produced here are extremely large."
   ]
  },
  {
   "cell_type": "markdown",
   "id": "cb71f055",
   "metadata": {},
   "source": [
    "***"
   ]
  },
  {
   "cell_type": "markdown",
   "id": "e05e923a",
   "metadata": {},
   "source": [
    "# 2. \n",
    "\n",
    "Estimate `MODEL` with Ridge Regression. \n",
    "* Use a penalty of 0.5 in the estimation.\n",
    "* Try using `est = Ridge(alpha=0.5).fit(X,y)`\n",
    "\n",
    "### 2.1.\n",
    "Report the R-squared.\n",
    "### 2.2.\n",
    "Based on $\\beta^j \\sigma^j$, which factor is most influential for $r^{\\target}$?"
   ]
  },
  {
   "cell_type": "markdown",
   "id": "89f128ac",
   "metadata": {},
   "source": [
    "# <span style='color:red'>Solution 2</span>"
   ]
  },
  {
   "cell_type": "markdown",
   "id": "bda12adb",
   "metadata": {},
   "source": [
    "## <span style='color:red'>2.1.</span>"
   ]
  },
  {
   "cell_type": "code",
   "execution_count": 9,
   "id": "b5843aa2",
   "metadata": {},
   "outputs": [
    {
     "data": {
      "text/html": [
       "<div>\n",
       "<style scoped>\n",
       "    .dataframe tbody tr th:only-of-type {\n",
       "        vertical-align: middle;\n",
       "    }\n",
       "\n",
       "    .dataframe tbody tr th {\n",
       "        vertical-align: top;\n",
       "    }\n",
       "\n",
       "    .dataframe thead th {\n",
       "        text-align: right;\n",
       "    }\n",
       "</style>\n",
       "<table border=\"1\" class=\"dataframe\">\n",
       "  <thead>\n",
       "    <tr style=\"text-align: right;\">\n",
       "      <th></th>\n",
       "      <th>Beta</th>\n",
       "    </tr>\n",
       "  </thead>\n",
       "  <tbody>\n",
       "    <tr>\n",
       "      <th>A</th>\n",
       "      <td>0.010218</td>\n",
       "    </tr>\n",
       "    <tr>\n",
       "      <th>AAP</th>\n",
       "      <td>-0.005708</td>\n",
       "    </tr>\n",
       "    <tr>\n",
       "      <th>AAPL</th>\n",
       "      <td>-0.006889</td>\n",
       "    </tr>\n",
       "    <tr>\n",
       "      <th>ABC</th>\n",
       "      <td>-0.005544</td>\n",
       "    </tr>\n",
       "    <tr>\n",
       "      <th>ABT</th>\n",
       "      <td>0.001727</td>\n",
       "    </tr>\n",
       "    <tr>\n",
       "      <th>...</th>\n",
       "      <td>...</td>\n",
       "    </tr>\n",
       "    <tr>\n",
       "      <th>XYL</th>\n",
       "      <td>0.005624</td>\n",
       "    </tr>\n",
       "    <tr>\n",
       "      <th>YUM</th>\n",
       "      <td>-0.001340</td>\n",
       "    </tr>\n",
       "    <tr>\n",
       "      <th>ZBH</th>\n",
       "      <td>-0.003692</td>\n",
       "    </tr>\n",
       "    <tr>\n",
       "      <th>ZBRA</th>\n",
       "      <td>-0.001346</td>\n",
       "    </tr>\n",
       "    <tr>\n",
       "      <th>ZION</th>\n",
       "      <td>0.002353</td>\n",
       "    </tr>\n",
       "  </tbody>\n",
       "</table>\n",
       "<p>450 rows × 1 columns</p>\n",
       "</div>"
      ],
      "text/plain": [
       "          Beta\n",
       "A     0.010218\n",
       "AAP  -0.005708\n",
       "AAPL -0.006889\n",
       "ABC  -0.005544\n",
       "ABT   0.001727\n",
       "...        ...\n",
       "XYL   0.005624\n",
       "YUM  -0.001340\n",
       "ZBH  -0.003692\n",
       "ZBRA -0.001346\n",
       "ZION  0.002353\n",
       "\n",
       "[450 rows x 1 columns]"
      ]
     },
     "execution_count": 9,
     "metadata": {},
     "output_type": "execute_result"
    }
   ],
   "source": [
    "model_Ridge = Ridge(alpha=0.5, fit_intercept=True).fit(rets_sp500, rets_gld)\n",
    "\n",
    "coef_ridge = pd.DataFrame(data=model_Ridge.coef_.reshape(NSECS), index=rets_sp500.columns, columns=['Beta'])\n",
    "coef_ridge"
   ]
  },
  {
   "cell_type": "code",
   "execution_count": 10,
   "id": "e5e1273c",
   "metadata": {},
   "outputs": [
    {
     "data": {
      "text/plain": [
       "0.7583844171757809"
      ]
     },
     "execution_count": 10,
     "metadata": {},
     "output_type": "execute_result"
    }
   ],
   "source": [
    "model_Ridge.score(rets_sp500, rets_gld)"
   ]
  },
  {
   "cell_type": "markdown",
   "id": "fd209f7d",
   "metadata": {},
   "source": [
    "## <span style='color:red'>2.2.</span>"
   ]
  },
  {
   "cell_type": "code",
   "execution_count": 11,
   "id": "ae468c25",
   "metadata": {},
   "outputs": [
    {
     "data": {
      "text/plain": [
       "NEM     0.005581\n",
       "FCX     0.002333\n",
       "SCHW   -0.001821\n",
       "ENPH    0.001305\n",
       "BA      0.001286\n",
       "dtype: float64"
      ]
     },
     "execution_count": 11,
     "metadata": {},
     "output_type": "execute_result"
    }
   ],
   "source": [
    "sigma_beta_ridge = rets_sp500.std() * coef_ridge['Beta']\n",
    "\n",
    "sigma_beta_ridge.loc[lambda x: x.abs().nlargest(5).index]"
   ]
  },
  {
   "cell_type": "markdown",
   "id": "44640bdd",
   "metadata": {},
   "source": [
    "We find that NEM again seems to be most influential."
   ]
  },
  {
   "cell_type": "markdown",
   "id": "307c2fca",
   "metadata": {},
   "source": [
    "***"
   ]
  },
  {
   "cell_type": "markdown",
   "id": "34ee441d",
   "metadata": {},
   "source": [
    "# 3. \n",
    "\n",
    "Estimate `MODEL` with LASSO Regression. \n",
    "* Use a penalty of 2e-5 in the estimation.\n",
    "* Try using `est = Lasso(alpha=3e-4).fit(X,y)`\n",
    "\n",
    "### 3.1.\n",
    "Report the estimated intercept and betas. \n",
    "### 3.2.\n",
    "Report the R-squared.\n",
    "### 3.3.\n",
    "Based on $\\beta^j \\sigma^j$, which factor is most influential for $r^{\\target}$?\n",
    "### 3.4.\n",
    "How many regressors have a non-zero beta estimates? "
   ]
  },
  {
   "cell_type": "markdown",
   "id": "6ea99f41",
   "metadata": {},
   "source": [
    "# <span style='color:red'>Solution 3</span>"
   ]
  },
  {
   "cell_type": "markdown",
   "id": "0dacf3e0",
   "metadata": {},
   "source": [
    "## <span style='color:red'>3.1.</span>"
   ]
  },
  {
   "cell_type": "code",
   "execution_count": 12,
   "id": "0773b742",
   "metadata": {},
   "outputs": [
    {
     "data": {
      "text/html": [
       "<div>\n",
       "<style scoped>\n",
       "    .dataframe tbody tr th:only-of-type {\n",
       "        vertical-align: middle;\n",
       "    }\n",
       "\n",
       "    .dataframe tbody tr th {\n",
       "        vertical-align: top;\n",
       "    }\n",
       "\n",
       "    .dataframe thead th {\n",
       "        text-align: right;\n",
       "    }\n",
       "</style>\n",
       "<table border=\"1\" class=\"dataframe\">\n",
       "  <thead>\n",
       "    <tr style=\"text-align: right;\">\n",
       "      <th></th>\n",
       "      <th>Beta</th>\n",
       "    </tr>\n",
       "  </thead>\n",
       "  <tbody>\n",
       "    <tr>\n",
       "      <th>A</th>\n",
       "      <td>0.001665</td>\n",
       "    </tr>\n",
       "    <tr>\n",
       "      <th>AAP</th>\n",
       "      <td>-0.000000</td>\n",
       "    </tr>\n",
       "    <tr>\n",
       "      <th>AAPL</th>\n",
       "      <td>-0.000000</td>\n",
       "    </tr>\n",
       "    <tr>\n",
       "      <th>ABC</th>\n",
       "      <td>-0.000000</td>\n",
       "    </tr>\n",
       "    <tr>\n",
       "      <th>ABT</th>\n",
       "      <td>0.000000</td>\n",
       "    </tr>\n",
       "    <tr>\n",
       "      <th>...</th>\n",
       "      <td>...</td>\n",
       "    </tr>\n",
       "    <tr>\n",
       "      <th>XYL</th>\n",
       "      <td>0.000000</td>\n",
       "    </tr>\n",
       "    <tr>\n",
       "      <th>YUM</th>\n",
       "      <td>-0.000000</td>\n",
       "    </tr>\n",
       "    <tr>\n",
       "      <th>ZBH</th>\n",
       "      <td>-0.000000</td>\n",
       "    </tr>\n",
       "    <tr>\n",
       "      <th>ZBRA</th>\n",
       "      <td>-0.000000</td>\n",
       "    </tr>\n",
       "    <tr>\n",
       "      <th>ZION</th>\n",
       "      <td>0.000000</td>\n",
       "    </tr>\n",
       "  </tbody>\n",
       "</table>\n",
       "<p>450 rows × 1 columns</p>\n",
       "</div>"
      ],
      "text/plain": [
       "          Beta\n",
       "A     0.001665\n",
       "AAP  -0.000000\n",
       "AAPL -0.000000\n",
       "ABC  -0.000000\n",
       "ABT   0.000000\n",
       "...        ...\n",
       "XYL   0.000000\n",
       "YUM  -0.000000\n",
       "ZBH  -0.000000\n",
       "ZBRA -0.000000\n",
       "ZION  0.000000\n",
       "\n",
       "[450 rows x 1 columns]"
      ]
     },
     "execution_count": 12,
     "metadata": {},
     "output_type": "execute_result"
    }
   ],
   "source": [
    "model_Lasso = Lasso(alpha=2e-5, fit_intercept=True).fit(rets_sp500, rets_gld)\n",
    "\n",
    "coef_lasso = pd.DataFrame(data=model_Lasso.coef_.reshape(NSECS), index=rets_sp500.columns, columns=['Beta'])\n",
    "coef_lasso"
   ]
  },
  {
   "cell_type": "markdown",
   "id": "bda4b02d",
   "metadata": {},
   "source": [
    "## <span style='color:red'>3.2.</span>"
   ]
  },
  {
   "cell_type": "code",
   "execution_count": 13,
   "id": "0c47787e",
   "metadata": {},
   "outputs": [
    {
     "data": {
      "text/plain": [
       "0.7307483294870771"
      ]
     },
     "execution_count": 13,
     "metadata": {},
     "output_type": "execute_result"
    }
   ],
   "source": [
    "model_Lasso.score(rets_sp500, rets_gld)"
   ]
  },
  {
   "cell_type": "markdown",
   "id": "5833b711",
   "metadata": {},
   "source": [
    "## <span style='color:red'>3.3.</span>"
   ]
  },
  {
   "cell_type": "code",
   "execution_count": 14,
   "id": "3a3893b3",
   "metadata": {},
   "outputs": [
    {
     "data": {
      "text/plain": [
       "NEM     0.011094\n",
       "O       0.002503\n",
       "SCHW   -0.002404\n",
       "RJF    -0.001902\n",
       "RHI    -0.001468\n",
       "dtype: float64"
      ]
     },
     "execution_count": 14,
     "metadata": {},
     "output_type": "execute_result"
    }
   ],
   "source": [
    "sigma_beta_lasso = rets_sp500.std() * coef_lasso['Beta']\n",
    "\n",
    "sigma_beta_lasso.loc[lambda x: x.abs().nlargest(5).index]"
   ]
  },
  {
   "cell_type": "markdown",
   "id": "5a125db3",
   "metadata": {},
   "source": [
    "NEM is the largest coefficient, and is significantly larger than even the second largest coefficient."
   ]
  },
  {
   "cell_type": "markdown",
   "id": "4a8c5796",
   "metadata": {},
   "source": [
    "## <span style='color:red'>3.4.</span>"
   ]
  },
  {
   "cell_type": "code",
   "execution_count": 15,
   "id": "5f1f8699",
   "metadata": {},
   "outputs": [
    {
     "data": {
      "text/plain": [
       "79"
      ]
     },
     "execution_count": 15,
     "metadata": {},
     "output_type": "execute_result"
    }
   ],
   "source": [
    "(coef_lasso != 0).sum()[0]"
   ]
  },
  {
   "cell_type": "markdown",
   "id": "003e03e0",
   "metadata": {},
   "source": [
    "***"
   ]
  },
  {
   "cell_type": "markdown",
   "id": "39a54ec9",
   "metadata": {},
   "source": [
    "# 4.\n",
    "\n",
    "How do the estimations compare across the three methods?\n",
    "\n",
    "### 4.1.\n",
    "Create a histogram of estimated betas across the three methods, (OLS, Ridge, LASSO.) \n",
    "\n",
    "Are they all nonzero? Are there positive and negative values? Do they range widely in magnitude? \n",
    "\n",
    "### 4.2.\n",
    "Which has the largest R-squared? Is this a surprise?"
   ]
  },
  {
   "cell_type": "markdown",
   "id": "e5c07c0a",
   "metadata": {},
   "source": [
    "# <span style='color:red'>Solution 4</span>"
   ]
  },
  {
   "cell_type": "markdown",
   "id": "3c890f70",
   "metadata": {},
   "source": [
    "## <span style='color:red'>4.1.</span>"
   ]
  },
  {
   "cell_type": "code",
   "execution_count": 16,
   "id": "a4757aef",
   "metadata": {},
   "outputs": [
    {
     "data": {
      "text/plain": [
       "<Axes: title={'center': 'OLS Coefficients'}, ylabel='Frequency'>"
      ]
     },
     "execution_count": 16,
     "metadata": {},
     "output_type": "execute_result"
    },
    {
     "data": {
      "image/png": "[encoded data removed]",
      "text/plain": [
       "<Figure size 1200x500 with 1 Axes>"
      ]
     },
     "metadata": {},
     "output_type": "display_data"
    }
   ],
   "source": [
    "coef_ols.plot(kind='hist', bins=50, figsize=(12, 5), title='OLS Coefficients')"
   ]
  },
  {
   "cell_type": "code",
   "execution_count": 17,
   "id": "475e92e0",
   "metadata": {},
   "outputs": [
    {
     "data": {
      "text/plain": [
       "<Axes: title={'center': 'Ridge Coefficients'}, ylabel='Frequency'>"
      ]
     },
     "execution_count": 17,
     "metadata": {},
     "output_type": "execute_result"
    },
    {
     "data": {
      "image/png": "[encoded data removed]",
      "text/plain": [
       "<Figure size 1200x500 with 1 Axes>"
      ]
     },
     "metadata": {},
     "output_type": "display_data"
    }
   ],
   "source": [
    "coef_ridge.plot(kind='hist', bins=50, figsize=(12, 5), title='Ridge Coefficients')"
   ]
  },
  {
   "cell_type": "code",
   "execution_count": 18,
   "id": "fe9f668e",
   "metadata": {},
   "outputs": [
    {
     "data": {
      "text/plain": [
       "<Axes: title={'center': 'Lasso Coefficients'}, ylabel='Frequency'>"
      ]
     },
     "execution_count": 18,
     "metadata": {},
     "output_type": "execute_result"
    },
    {
     "data": {
      "image/png": "[encoded data removed]",
      "text/plain": [
       "<Figure size 1200x500 with 1 Axes>"
      ]
     },
     "metadata": {},
     "output_type": "display_data"
    }
   ],
   "source": [
    "coef_lasso.plot(kind='hist', bins=50, figsize=(12, 5), title='Lasso Coefficients')"
   ]
  },
  {
   "cell_type": "markdown",
   "id": "8d0e755a",
   "metadata": {},
   "source": [
    "Immediately, it is quite clear that the penalized regressions (Lasso and Ridge) have notably smaller coefficients in general. It is also clear that the penalized regressions tend to push many coefficients towards 0, but some get pushed away from 0. This reflects the notion that the penalties serve to give more \"responsibility\" to certain regressors.\n",
    "\n",
    "Unsurprisingly, all 3 models had coefficients distributed near 0, with Lasso having a significant proportion of them being equal to 0."
   ]
  },
  {
   "cell_type": "markdown",
   "id": "c0c8ad9b",
   "metadata": {},
   "source": [
    "## <span style='color:red'>4.2.</span>"
   ]
  },
  {
   "cell_type": "markdown",
   "id": "60852386",
   "metadata": {},
   "source": [
    "From above, we found that OLS had the largest r-squared, which is entirely unsurprising given that this is referring to *in sample* performance. OLS was given far more \"power\" to fit the training data."
   ]
  },
  {
   "cell_type": "markdown",
   "id": "00105445",
   "metadata": {},
   "source": [
    "***"
   ]
  },
  {
   "cell_type": "markdown",
   "id": "b3f4bd66",
   "metadata": {},
   "source": [
    "# 5.\n",
    "\n",
    "Try using cross-validation (with K-folds) to estimate the penalty parameter for Ridge and LASSO.\n",
    "\n",
    "Estimate this CV using two functions from  `sklearn.linear_model`\n",
    "* RidgeCV\n",
    "* LassoCV\n",
    "\n",
    "Feel free to use the default parameters, including the default number of folds.\n",
    "\n",
    "Report the CV penalty parameter for Lasso and Ridge."
   ]
  },
  {
   "cell_type": "markdown",
   "id": "543dfc2f",
   "metadata": {},
   "source": [
    "# <span style='color:red'>Solution 5</span>"
   ]
  },
  {
   "cell_type": "code",
   "execution_count": 19,
   "id": "300ba24d",
   "metadata": {},
   "outputs": [],
   "source": [
    "model_ridge_cv = RidgeCV().fit(rets_sp500, np.ravel(rets_gld))"
   ]
  },
  {
   "cell_type": "code",
   "execution_count": 20,
   "id": "a1bc790f",
   "metadata": {},
   "outputs": [
    {
     "data": {
      "text/plain": [
       "0.1"
      ]
     },
     "execution_count": 20,
     "metadata": {},
     "output_type": "execute_result"
    }
   ],
   "source": [
    "model_ridge_cv.alpha_"
   ]
  },
  {
   "cell_type": "code",
   "execution_count": 21,
   "id": "3ed1b4bf",
   "metadata": {},
   "outputs": [
    {
     "name": "stderr",
     "output_type": "stream",
     "text": [
      "/Users/markhendricks/Projects/finm-data-analysis-2023/venv/lib/python3.9/site-packages/sklearn/linear_model/_coordinate_descent.py:628: ConvergenceWarning: Objective did not converge. You might want to increase the number of iterations, check the scale of the features or consider increasing regularisation. Duality gap: 1.862e-05, tolerance: 1.123e-05\n",
      "  model = cd_fast.enet_coordinate_descent(\n",
      "/Users/markhendricks/Projects/finm-data-analysis-2023/venv/lib/python3.9/site-packages/sklearn/linear_model/_coordinate_descent.py:628: ConvergenceWarning: Objective did not converge. You might want to increase the number of iterations, check the scale of the features or consider increasing regularisation. Duality gap: 3.210e-05, tolerance: 1.123e-05\n",
      "  model = cd_fast.enet_coordinate_descent(\n",
      "/Users/markhendricks/Projects/finm-data-analysis-2023/venv/lib/python3.9/site-packages/sklearn/linear_model/_coordinate_descent.py:628: ConvergenceWarning: Objective did not converge. You might want to increase the number of iterations, check the scale of the features or consider increasing regularisation. Duality gap: 6.776e-05, tolerance: 1.123e-05\n",
      "  model = cd_fast.enet_coordinate_descent(\n",
      "/Users/markhendricks/Projects/finm-data-analysis-2023/venv/lib/python3.9/site-packages/sklearn/linear_model/_coordinate_descent.py:628: ConvergenceWarning: Objective did not converge. You might want to increase the number of iterations, check the scale of the features or consider increasing regularisation. Duality gap: 9.742e-05, tolerance: 1.123e-05\n",
      "  model = cd_fast.enet_coordinate_descent(\n",
      "/Users/markhendricks/Projects/finm-data-analysis-2023/venv/lib/python3.9/site-packages/sklearn/linear_model/_coordinate_descent.py:628: ConvergenceWarning: Objective did not converge. You might want to increase the number of iterations, check the scale of the features or consider increasing regularisation. Duality gap: 6.963e-05, tolerance: 1.123e-05\n",
      "  model = cd_fast.enet_coordinate_descent(\n",
      "/Users/markhendricks/Projects/finm-data-analysis-2023/venv/lib/python3.9/site-packages/sklearn/linear_model/_coordinate_descent.py:628: ConvergenceWarning: Objective did not converge. You might want to increase the number of iterations, check the scale of the features or consider increasing regularisation. Duality gap: 5.812e-05, tolerance: 1.123e-05\n",
      "  model = cd_fast.enet_coordinate_descent(\n",
      "/Users/markhendricks/Projects/finm-data-analysis-2023/venv/lib/python3.9/site-packages/sklearn/linear_model/_coordinate_descent.py:628: ConvergenceWarning: Objective did not converge. You might want to increase the number of iterations, check the scale of the features or consider increasing regularisation. Duality gap: 7.459e-05, tolerance: 1.123e-05\n",
      "  model = cd_fast.enet_coordinate_descent(\n",
      "/Users/markhendricks/Projects/finm-data-analysis-2023/venv/lib/python3.9/site-packages/sklearn/linear_model/_coordinate_descent.py:628: ConvergenceWarning: Objective did not converge. You might want to increase the number of iterations, check the scale of the features or consider increasing regularisation. Duality gap: 5.188e-05, tolerance: 1.123e-05\n",
      "  model = cd_fast.enet_coordinate_descent(\n",
      "/Users/markhendricks/Projects/finm-data-analysis-2023/venv/lib/python3.9/site-packages/sklearn/linear_model/_coordinate_descent.py:628: ConvergenceWarning: Objective did not converge. You might want to increase the number of iterations, check the scale of the features or consider increasing regularisation. Duality gap: 4.393e-05, tolerance: 1.123e-05\n",
      "  model = cd_fast.enet_coordinate_descent(\n",
      "/Users/markhendricks/Projects/finm-data-analysis-2023/venv/lib/python3.9/site-packages/sklearn/linear_model/_coordinate_descent.py:628: ConvergenceWarning: Objective did not converge. You might want to increase the number of iterations, check the scale of the features or consider increasing regularisation. Duality gap: 8.377e-05, tolerance: 1.123e-05\n",
      "  model = cd_fast.enet_coordinate_descent(\n",
      "/Users/markhendricks/Projects/finm-data-analysis-2023/venv/lib/python3.9/site-packages/sklearn/linear_model/_coordinate_descent.py:628: ConvergenceWarning: Objective did not converge. You might want to increase the number of iterations, check the scale of the features or consider increasing regularisation. Duality gap: 9.969e-05, tolerance: 1.123e-05\n",
      "  model = cd_fast.enet_coordinate_descent(\n",
      "/Users/markhendricks/Projects/finm-data-analysis-2023/venv/lib/python3.9/site-packages/sklearn/linear_model/_coordinate_descent.py:628: ConvergenceWarning: Objective did not converge. You might want to increase the number of iterations, check the scale of the features or consider increasing regularisation. Duality gap: 9.148e-05, tolerance: 1.123e-05\n",
      "  model = cd_fast.enet_coordinate_descent(\n",
      "/Users/markhendricks/Projects/finm-data-analysis-2023/venv/lib/python3.9/site-packages/sklearn/linear_model/_coordinate_descent.py:628: ConvergenceWarning: Objective did not converge. You might want to increase the number of iterations, check the scale of the features or consider increasing regularisation. Duality gap: 1.761e-04, tolerance: 1.123e-05\n",
      "  model = cd_fast.enet_coordinate_descent(\n",
      "/Users/markhendricks/Projects/finm-data-analysis-2023/venv/lib/python3.9/site-packages/sklearn/linear_model/_coordinate_descent.py:628: ConvergenceWarning: Objective did not converge. You might want to increase the number of iterations, check the scale of the features or consider increasing regularisation. Duality gap: 1.860e-04, tolerance: 1.123e-05\n",
      "  model = cd_fast.enet_coordinate_descent(\n",
      "/Users/markhendricks/Projects/finm-data-analysis-2023/venv/lib/python3.9/site-packages/sklearn/linear_model/_coordinate_descent.py:628: ConvergenceWarning: Objective did not converge. You might want to increase the number of iterations, check the scale of the features or consider increasing regularisation. Duality gap: 1.121e-04, tolerance: 1.123e-05\n",
      "  model = cd_fast.enet_coordinate_descent(\n",
      "/Users/markhendricks/Projects/finm-data-analysis-2023/venv/lib/python3.9/site-packages/sklearn/linear_model/_coordinate_descent.py:628: ConvergenceWarning: Objective did not converge. You might want to increase the number of iterations, check the scale of the features or consider increasing regularisation. Duality gap: 1.630e-04, tolerance: 1.123e-05\n",
      "  model = cd_fast.enet_coordinate_descent(\n",
      "/Users/markhendricks/Projects/finm-data-analysis-2023/venv/lib/python3.9/site-packages/sklearn/linear_model/_coordinate_descent.py:628: ConvergenceWarning: Objective did not converge. You might want to increase the number of iterations, check the scale of the features or consider increasing regularisation. Duality gap: 2.244e-04, tolerance: 1.123e-05\n",
      "  model = cd_fast.enet_coordinate_descent(\n",
      "/Users/markhendricks/Projects/finm-data-analysis-2023/venv/lib/python3.9/site-packages/sklearn/linear_model/_coordinate_descent.py:628: ConvergenceWarning: Objective did not converge. You might want to increase the number of iterations, check the scale of the features or consider increasing regularisation. Duality gap: 1.532e-04, tolerance: 1.123e-05\n",
      "  model = cd_fast.enet_coordinate_descent(\n",
      "/Users/markhendricks/Projects/finm-data-analysis-2023/venv/lib/python3.9/site-packages/sklearn/linear_model/_coordinate_descent.py:628: ConvergenceWarning: Objective did not converge. You might want to increase the number of iterations, check the scale of the features or consider increasing regularisation. Duality gap: 1.602e-04, tolerance: 1.123e-05\n",
      "  model = cd_fast.enet_coordinate_descent(\n",
      "/Users/markhendricks/Projects/finm-data-analysis-2023/venv/lib/python3.9/site-packages/sklearn/linear_model/_coordinate_descent.py:628: ConvergenceWarning: Objective did not converge. You might want to increase the number of iterations, check the scale of the features or consider increasing regularisation. Duality gap: 2.079e-04, tolerance: 1.123e-05\n",
      "  model = cd_fast.enet_coordinate_descent(\n",
      "/Users/markhendricks/Projects/finm-data-analysis-2023/venv/lib/python3.9/site-packages/sklearn/linear_model/_coordinate_descent.py:628: ConvergenceWarning: Objective did not converge. You might want to increase the number of iterations, check the scale of the features or consider increasing regularisation. Duality gap: 1.784e-04, tolerance: 1.123e-05\n",
      "  model = cd_fast.enet_coordinate_descent(\n",
      "/Users/markhendricks/Projects/finm-data-analysis-2023/venv/lib/python3.9/site-packages/sklearn/linear_model/_coordinate_descent.py:628: ConvergenceWarning: Objective did not converge. You might want to increase the number of iterations, check the scale of the features or consider increasing regularisation. Duality gap: 8.464e-05, tolerance: 1.123e-05\n",
      "  model = cd_fast.enet_coordinate_descent(\n",
      "/Users/markhendricks/Projects/finm-data-analysis-2023/venv/lib/python3.9/site-packages/sklearn/linear_model/_coordinate_descent.py:628: ConvergenceWarning: Objective did not converge. You might want to increase the number of iterations, check the scale of the features or consider increasing regularisation. Duality gap: 3.081e-04, tolerance: 1.123e-05\n",
      "  model = cd_fast.enet_coordinate_descent(\n",
      "/Users/markhendricks/Projects/finm-data-analysis-2023/venv/lib/python3.9/site-packages/sklearn/linear_model/_coordinate_descent.py:628: ConvergenceWarning: Objective did not converge. You might want to increase the number of iterations, check the scale of the features or consider increasing regularisation. Duality gap: 2.856e-04, tolerance: 1.123e-05\n",
      "  model = cd_fast.enet_coordinate_descent(\n",
      "/Users/markhendricks/Projects/finm-data-analysis-2023/venv/lib/python3.9/site-packages/sklearn/linear_model/_coordinate_descent.py:628: ConvergenceWarning: Objective did not converge. You might want to increase the number of iterations, check the scale of the features or consider increasing regularisation. Duality gap: 2.940e-04, tolerance: 1.123e-05\n",
      "  model = cd_fast.enet_coordinate_descent(\n",
      "/Users/markhendricks/Projects/finm-data-analysis-2023/venv/lib/python3.9/site-packages/sklearn/linear_model/_coordinate_descent.py:628: ConvergenceWarning: Objective did not converge. You might want to increase the number of iterations, check the scale of the features or consider increasing regularisation. Duality gap: 2.982e-04, tolerance: 1.123e-05\n",
      "  model = cd_fast.enet_coordinate_descent(\n",
      "/Users/markhendricks/Projects/finm-data-analysis-2023/venv/lib/python3.9/site-packages/sklearn/linear_model/_coordinate_descent.py:628: ConvergenceWarning: Objective did not converge. You might want to increase the number of iterations, check the scale of the features or consider increasing regularisation. Duality gap: 2.790e-04, tolerance: 1.123e-05\n",
      "  model = cd_fast.enet_coordinate_descent(\n",
      "/Users/markhendricks/Projects/finm-data-analysis-2023/venv/lib/python3.9/site-packages/sklearn/linear_model/_coordinate_descent.py:628: ConvergenceWarning: Objective did not converge. You might want to increase the number of iterations, check the scale of the features or consider increasing regularisation. Duality gap: 2.901e-04, tolerance: 1.123e-05\n",
      "  model = cd_fast.enet_coordinate_descent(\n",
      "/Users/markhendricks/Projects/finm-data-analysis-2023/venv/lib/python3.9/site-packages/sklearn/linear_model/_coordinate_descent.py:628: ConvergenceWarning: Objective did not converge. You might want to increase the number of iterations, check the scale of the features or consider increasing regularisation. Duality gap: 3.779e-04, tolerance: 1.123e-05\n",
      "  model = cd_fast.enet_coordinate_descent(\n",
      "/Users/markhendricks/Projects/finm-data-analysis-2023/venv/lib/python3.9/site-packages/sklearn/linear_model/_coordinate_descent.py:628: ConvergenceWarning: Objective did not converge. You might want to increase the number of iterations, check the scale of the features or consider increasing regularisation. Duality gap: 3.495e-04, tolerance: 1.123e-05\n",
      "  model = cd_fast.enet_coordinate_descent(\n",
      "/Users/markhendricks/Projects/finm-data-analysis-2023/venv/lib/python3.9/site-packages/sklearn/linear_model/_coordinate_descent.py:628: ConvergenceWarning: Objective did not converge. You might want to increase the number of iterations, check the scale of the features or consider increasing regularisation. Duality gap: 4.457e-04, tolerance: 1.123e-05\n",
      "  model = cd_fast.enet_coordinate_descent(\n",
      "/Users/markhendricks/Projects/finm-data-analysis-2023/venv/lib/python3.9/site-packages/sklearn/linear_model/_coordinate_descent.py:628: ConvergenceWarning: Objective did not converge. You might want to increase the number of iterations, check the scale of the features or consider increasing regularisation. Duality gap: 5.683e-04, tolerance: 1.123e-05\n",
      "  model = cd_fast.enet_coordinate_descent(\n",
      "/Users/markhendricks/Projects/finm-data-analysis-2023/venv/lib/python3.9/site-packages/sklearn/linear_model/_coordinate_descent.py:628: ConvergenceWarning: Objective did not converge. You might want to increase the number of iterations, check the scale of the features or consider increasing regularisation. Duality gap: 7.170e-04, tolerance: 1.123e-05\n",
      "  model = cd_fast.enet_coordinate_descent(\n"
     ]
    },
    {
     "name": "stderr",
     "output_type": "stream",
     "text": [
      "/Users/markhendricks/Projects/finm-data-analysis-2023/venv/lib/python3.9/site-packages/sklearn/linear_model/_coordinate_descent.py:628: ConvergenceWarning: Objective did not converge. You might want to increase the number of iterations, check the scale of the features or consider increasing regularisation. Duality gap: 7.798e-04, tolerance: 1.123e-05\n",
      "  model = cd_fast.enet_coordinate_descent(\n",
      "/Users/markhendricks/Projects/finm-data-analysis-2023/venv/lib/python3.9/site-packages/sklearn/linear_model/_coordinate_descent.py:628: ConvergenceWarning: Objective did not converge. You might want to increase the number of iterations, check the scale of the features or consider increasing regularisation. Duality gap: 8.160e-04, tolerance: 1.123e-05\n",
      "  model = cd_fast.enet_coordinate_descent(\n",
      "/Users/markhendricks/Projects/finm-data-analysis-2023/venv/lib/python3.9/site-packages/sklearn/linear_model/_coordinate_descent.py:628: ConvergenceWarning: Objective did not converge. You might want to increase the number of iterations, check the scale of the features or consider increasing regularisation. Duality gap: 7.901e-04, tolerance: 1.123e-05\n",
      "  model = cd_fast.enet_coordinate_descent(\n",
      "/Users/markhendricks/Projects/finm-data-analysis-2023/venv/lib/python3.9/site-packages/sklearn/linear_model/_coordinate_descent.py:628: ConvergenceWarning: Objective did not converge. You might want to increase the number of iterations, check the scale of the features or consider increasing regularisation. Duality gap: 6.671e-04, tolerance: 1.123e-05\n",
      "  model = cd_fast.enet_coordinate_descent(\n",
      "/Users/markhendricks/Projects/finm-data-analysis-2023/venv/lib/python3.9/site-packages/sklearn/linear_model/_coordinate_descent.py:628: ConvergenceWarning: Objective did not converge. You might want to increase the number of iterations, check the scale of the features or consider increasing regularisation. Duality gap: 5.459e-04, tolerance: 1.123e-05\n",
      "  model = cd_fast.enet_coordinate_descent(\n",
      "/Users/markhendricks/Projects/finm-data-analysis-2023/venv/lib/python3.9/site-packages/sklearn/linear_model/_coordinate_descent.py:628: ConvergenceWarning: Objective did not converge. You might want to increase the number of iterations, check the scale of the features or consider increasing regularisation. Duality gap: 4.750e-04, tolerance: 1.123e-05\n",
      "  model = cd_fast.enet_coordinate_descent(\n",
      "/Users/markhendricks/Projects/finm-data-analysis-2023/venv/lib/python3.9/site-packages/sklearn/linear_model/_coordinate_descent.py:628: ConvergenceWarning: Objective did not converge. You might want to increase the number of iterations, check the scale of the features or consider increasing regularisation. Duality gap: 5.113e-04, tolerance: 1.123e-05\n",
      "  model = cd_fast.enet_coordinate_descent(\n",
      "/Users/markhendricks/Projects/finm-data-analysis-2023/venv/lib/python3.9/site-packages/sklearn/linear_model/_coordinate_descent.py:628: ConvergenceWarning: Objective did not converge. You might want to increase the number of iterations, check the scale of the features or consider increasing regularisation. Duality gap: 4.356e-04, tolerance: 1.123e-05\n",
      "  model = cd_fast.enet_coordinate_descent(\n",
      "/Users/markhendricks/Projects/finm-data-analysis-2023/venv/lib/python3.9/site-packages/sklearn/linear_model/_coordinate_descent.py:628: ConvergenceWarning: Objective did not converge. You might want to increase the number of iterations, check the scale of the features or consider increasing regularisation. Duality gap: 3.479e-04, tolerance: 1.123e-05\n",
      "  model = cd_fast.enet_coordinate_descent(\n",
      "/Users/markhendricks/Projects/finm-data-analysis-2023/venv/lib/python3.9/site-packages/sklearn/linear_model/_coordinate_descent.py:628: ConvergenceWarning: Objective did not converge. You might want to increase the number of iterations, check the scale of the features or consider increasing regularisation. Duality gap: 3.470e-04, tolerance: 1.123e-05\n",
      "  model = cd_fast.enet_coordinate_descent(\n",
      "/Users/markhendricks/Projects/finm-data-analysis-2023/venv/lib/python3.9/site-packages/sklearn/linear_model/_coordinate_descent.py:628: ConvergenceWarning: Objective did not converge. You might want to increase the number of iterations, check the scale of the features or consider increasing regularisation. Duality gap: 3.046e-04, tolerance: 1.123e-05\n",
      "  model = cd_fast.enet_coordinate_descent(\n",
      "/Users/markhendricks/Projects/finm-data-analysis-2023/venv/lib/python3.9/site-packages/sklearn/linear_model/_coordinate_descent.py:628: ConvergenceWarning: Objective did not converge. You might want to increase the number of iterations, check the scale of the features or consider increasing regularisation. Duality gap: 2.951e-04, tolerance: 1.123e-05\n",
      "  model = cd_fast.enet_coordinate_descent(\n",
      "/Users/markhendricks/Projects/finm-data-analysis-2023/venv/lib/python3.9/site-packages/sklearn/linear_model/_coordinate_descent.py:628: ConvergenceWarning: Objective did not converge. You might want to increase the number of iterations, check the scale of the features or consider increasing regularisation. Duality gap: 3.391e-04, tolerance: 1.123e-05\n",
      "  model = cd_fast.enet_coordinate_descent(\n",
      "/Users/markhendricks/Projects/finm-data-analysis-2023/venv/lib/python3.9/site-packages/sklearn/linear_model/_coordinate_descent.py:628: ConvergenceWarning: Objective did not converge. You might want to increase the number of iterations, check the scale of the features or consider increasing regularisation. Duality gap: 3.849e-04, tolerance: 1.123e-05\n",
      "  model = cd_fast.enet_coordinate_descent(\n",
      "/Users/markhendricks/Projects/finm-data-analysis-2023/venv/lib/python3.9/site-packages/sklearn/linear_model/_coordinate_descent.py:628: ConvergenceWarning: Objective did not converge. You might want to increase the number of iterations, check the scale of the features or consider increasing regularisation. Duality gap: 4.049e-04, tolerance: 1.123e-05\n",
      "  model = cd_fast.enet_coordinate_descent(\n",
      "/Users/markhendricks/Projects/finm-data-analysis-2023/venv/lib/python3.9/site-packages/sklearn/linear_model/_coordinate_descent.py:628: ConvergenceWarning: Objective did not converge. You might want to increase the number of iterations, check the scale of the features or consider increasing regularisation. Duality gap: 4.422e-04, tolerance: 1.123e-05\n",
      "  model = cd_fast.enet_coordinate_descent(\n",
      "/Users/markhendricks/Projects/finm-data-analysis-2023/venv/lib/python3.9/site-packages/sklearn/linear_model/_coordinate_descent.py:628: ConvergenceWarning: Objective did not converge. You might want to increase the number of iterations, check the scale of the features or consider increasing regularisation. Duality gap: 4.789e-04, tolerance: 1.123e-05\n",
      "  model = cd_fast.enet_coordinate_descent(\n",
      "/Users/markhendricks/Projects/finm-data-analysis-2023/venv/lib/python3.9/site-packages/sklearn/linear_model/_coordinate_descent.py:628: ConvergenceWarning: Objective did not converge. You might want to increase the number of iterations, check the scale of the features or consider increasing regularisation. Duality gap: 4.647e-04, tolerance: 1.123e-05\n",
      "  model = cd_fast.enet_coordinate_descent(\n",
      "/Users/markhendricks/Projects/finm-data-analysis-2023/venv/lib/python3.9/site-packages/sklearn/linear_model/_coordinate_descent.py:628: ConvergenceWarning: Objective did not converge. You might want to increase the number of iterations, check the scale of the features or consider increasing regularisation. Duality gap: 4.042e-04, tolerance: 1.123e-05\n",
      "  model = cd_fast.enet_coordinate_descent(\n",
      "/Users/markhendricks/Projects/finm-data-analysis-2023/venv/lib/python3.9/site-packages/sklearn/linear_model/_coordinate_descent.py:628: ConvergenceWarning: Objective did not converge. You might want to increase the number of iterations, check the scale of the features or consider increasing regularisation. Duality gap: 3.734e-04, tolerance: 1.123e-05\n",
      "  model = cd_fast.enet_coordinate_descent(\n",
      "/Users/markhendricks/Projects/finm-data-analysis-2023/venv/lib/python3.9/site-packages/sklearn/linear_model/_coordinate_descent.py:628: ConvergenceWarning: Objective did not converge. You might want to increase the number of iterations, check the scale of the features or consider increasing regularisation. Duality gap: 3.826e-04, tolerance: 1.123e-05\n",
      "  model = cd_fast.enet_coordinate_descent(\n",
      "/Users/markhendricks/Projects/finm-data-analysis-2023/venv/lib/python3.9/site-packages/sklearn/linear_model/_coordinate_descent.py:628: ConvergenceWarning: Objective did not converge. You might want to increase the number of iterations, check the scale of the features or consider increasing regularisation. Duality gap: 3.675e-04, tolerance: 1.123e-05\n",
      "  model = cd_fast.enet_coordinate_descent(\n",
      "/Users/markhendricks/Projects/finm-data-analysis-2023/venv/lib/python3.9/site-packages/sklearn/linear_model/_coordinate_descent.py:628: ConvergenceWarning: Objective did not converge. You might want to increase the number of iterations, check the scale of the features or consider increasing regularisation. Duality gap: 3.282e-05, tolerance: 1.316e-05\n",
      "  model = cd_fast.enet_coordinate_descent(\n",
      "/Users/markhendricks/Projects/finm-data-analysis-2023/venv/lib/python3.9/site-packages/sklearn/linear_model/_coordinate_descent.py:628: ConvergenceWarning: Objective did not converge. You might want to increase the number of iterations, check the scale of the features or consider increasing regularisation. Duality gap: 3.274e-05, tolerance: 1.316e-05\n",
      "  model = cd_fast.enet_coordinate_descent(\n",
      "/Users/markhendricks/Projects/finm-data-analysis-2023/venv/lib/python3.9/site-packages/sklearn/linear_model/_coordinate_descent.py:628: ConvergenceWarning: Objective did not converge. You might want to increase the number of iterations, check the scale of the features or consider increasing regularisation. Duality gap: 4.180e-05, tolerance: 1.316e-05\n",
      "  model = cd_fast.enet_coordinate_descent(\n"
     ]
    },
    {
     "name": "stderr",
     "output_type": "stream",
     "text": [
      "/Users/markhendricks/Projects/finm-data-analysis-2023/venv/lib/python3.9/site-packages/sklearn/linear_model/_coordinate_descent.py:628: ConvergenceWarning: Objective did not converge. You might want to increase the number of iterations, check the scale of the features or consider increasing regularisation. Duality gap: 2.880e-05, tolerance: 1.316e-05\n",
      "  model = cd_fast.enet_coordinate_descent(\n",
      "/Users/markhendricks/Projects/finm-data-analysis-2023/venv/lib/python3.9/site-packages/sklearn/linear_model/_coordinate_descent.py:628: ConvergenceWarning: Objective did not converge. You might want to increase the number of iterations, check the scale of the features or consider increasing regularisation. Duality gap: 7.598e-05, tolerance: 1.316e-05\n",
      "  model = cd_fast.enet_coordinate_descent(\n",
      "/Users/markhendricks/Projects/finm-data-analysis-2023/venv/lib/python3.9/site-packages/sklearn/linear_model/_coordinate_descent.py:628: ConvergenceWarning: Objective did not converge. You might want to increase the number of iterations, check the scale of the features or consider increasing regularisation. Duality gap: 1.227e-04, tolerance: 1.316e-05\n",
      "  model = cd_fast.enet_coordinate_descent(\n",
      "/Users/markhendricks/Projects/finm-data-analysis-2023/venv/lib/python3.9/site-packages/sklearn/linear_model/_coordinate_descent.py:628: ConvergenceWarning: Objective did not converge. You might want to increase the number of iterations, check the scale of the features or consider increasing regularisation. Duality gap: 1.088e-04, tolerance: 1.316e-05\n",
      "  model = cd_fast.enet_coordinate_descent(\n",
      "/Users/markhendricks/Projects/finm-data-analysis-2023/venv/lib/python3.9/site-packages/sklearn/linear_model/_coordinate_descent.py:628: ConvergenceWarning: Objective did not converge. You might want to increase the number of iterations, check the scale of the features or consider increasing regularisation. Duality gap: 1.849e-04, tolerance: 1.316e-05\n",
      "  model = cd_fast.enet_coordinate_descent(\n",
      "/Users/markhendricks/Projects/finm-data-analysis-2023/venv/lib/python3.9/site-packages/sklearn/linear_model/_coordinate_descent.py:628: ConvergenceWarning: Objective did not converge. You might want to increase the number of iterations, check the scale of the features or consider increasing regularisation. Duality gap: 1.703e-04, tolerance: 1.316e-05\n",
      "  model = cd_fast.enet_coordinate_descent(\n",
      "/Users/markhendricks/Projects/finm-data-analysis-2023/venv/lib/python3.9/site-packages/sklearn/linear_model/_coordinate_descent.py:628: ConvergenceWarning: Objective did not converge. You might want to increase the number of iterations, check the scale of the features or consider increasing regularisation. Duality gap: 1.140e-04, tolerance: 1.316e-05\n",
      "  model = cd_fast.enet_coordinate_descent(\n",
      "/Users/markhendricks/Projects/finm-data-analysis-2023/venv/lib/python3.9/site-packages/sklearn/linear_model/_coordinate_descent.py:628: ConvergenceWarning: Objective did not converge. You might want to increase the number of iterations, check the scale of the features or consider increasing regularisation. Duality gap: 8.215e-05, tolerance: 1.316e-05\n",
      "  model = cd_fast.enet_coordinate_descent(\n",
      "/Users/markhendricks/Projects/finm-data-analysis-2023/venv/lib/python3.9/site-packages/sklearn/linear_model/_coordinate_descent.py:628: ConvergenceWarning: Objective did not converge. You might want to increase the number of iterations, check the scale of the features or consider increasing regularisation. Duality gap: 7.099e-05, tolerance: 1.316e-05\n",
      "  model = cd_fast.enet_coordinate_descent(\n",
      "/Users/markhendricks/Projects/finm-data-analysis-2023/venv/lib/python3.9/site-packages/sklearn/linear_model/_coordinate_descent.py:628: ConvergenceWarning: Objective did not converge. You might want to increase the number of iterations, check the scale of the features or consider increasing regularisation. Duality gap: 9.996e-05, tolerance: 1.316e-05\n",
      "  model = cd_fast.enet_coordinate_descent(\n",
      "/Users/markhendricks/Projects/finm-data-analysis-2023/venv/lib/python3.9/site-packages/sklearn/linear_model/_coordinate_descent.py:628: ConvergenceWarning: Objective did not converge. You might want to increase the number of iterations, check the scale of the features or consider increasing regularisation. Duality gap: 9.052e-05, tolerance: 1.316e-05\n",
      "  model = cd_fast.enet_coordinate_descent(\n",
      "/Users/markhendricks/Projects/finm-data-analysis-2023/venv/lib/python3.9/site-packages/sklearn/linear_model/_coordinate_descent.py:628: ConvergenceWarning: Objective did not converge. You might want to increase the number of iterations, check the scale of the features or consider increasing regularisation. Duality gap: 8.094e-05, tolerance: 1.316e-05\n",
      "  model = cd_fast.enet_coordinate_descent(\n",
      "/Users/markhendricks/Projects/finm-data-analysis-2023/venv/lib/python3.9/site-packages/sklearn/linear_model/_coordinate_descent.py:628: ConvergenceWarning: Objective did not converge. You might want to increase the number of iterations, check the scale of the features or consider increasing regularisation. Duality gap: 1.379e-04, tolerance: 1.316e-05\n",
      "  model = cd_fast.enet_coordinate_descent(\n",
      "/Users/markhendricks/Projects/finm-data-analysis-2023/venv/lib/python3.9/site-packages/sklearn/linear_model/_coordinate_descent.py:628: ConvergenceWarning: Objective did not converge. You might want to increase the number of iterations, check the scale of the features or consider increasing regularisation. Duality gap: 2.061e-04, tolerance: 1.316e-05\n",
      "  model = cd_fast.enet_coordinate_descent(\n",
      "/Users/markhendricks/Projects/finm-data-analysis-2023/venv/lib/python3.9/site-packages/sklearn/linear_model/_coordinate_descent.py:628: ConvergenceWarning: Objective did not converge. You might want to increase the number of iterations, check the scale of the features or consider increasing regularisation. Duality gap: 1.190e-04, tolerance: 1.316e-05\n",
      "  model = cd_fast.enet_coordinate_descent(\n",
      "/Users/markhendricks/Projects/finm-data-analysis-2023/venv/lib/python3.9/site-packages/sklearn/linear_model/_coordinate_descent.py:628: ConvergenceWarning: Objective did not converge. You might want to increase the number of iterations, check the scale of the features or consider increasing regularisation. Duality gap: 5.513e-05, tolerance: 1.316e-05\n",
      "  model = cd_fast.enet_coordinate_descent(\n",
      "/Users/markhendricks/Projects/finm-data-analysis-2023/venv/lib/python3.9/site-packages/sklearn/linear_model/_coordinate_descent.py:628: ConvergenceWarning: Objective did not converge. You might want to increase the number of iterations, check the scale of the features or consider increasing regularisation. Duality gap: 9.004e-05, tolerance: 1.316e-05\n",
      "  model = cd_fast.enet_coordinate_descent(\n",
      "/Users/markhendricks/Projects/finm-data-analysis-2023/venv/lib/python3.9/site-packages/sklearn/linear_model/_coordinate_descent.py:628: ConvergenceWarning: Objective did not converge. You might want to increase the number of iterations, check the scale of the features or consider increasing regularisation. Duality gap: 1.244e-04, tolerance: 1.316e-05\n",
      "  model = cd_fast.enet_coordinate_descent(\n",
      "/Users/markhendricks/Projects/finm-data-analysis-2023/venv/lib/python3.9/site-packages/sklearn/linear_model/_coordinate_descent.py:628: ConvergenceWarning: Objective did not converge. You might want to increase the number of iterations, check the scale of the features or consider increasing regularisation. Duality gap: 1.386e-04, tolerance: 1.316e-05\n",
      "  model = cd_fast.enet_coordinate_descent(\n",
      "/Users/markhendricks/Projects/finm-data-analysis-2023/venv/lib/python3.9/site-packages/sklearn/linear_model/_coordinate_descent.py:628: ConvergenceWarning: Objective did not converge. You might want to increase the number of iterations, check the scale of the features or consider increasing regularisation. Duality gap: 1.059e-04, tolerance: 1.316e-05\n",
      "  model = cd_fast.enet_coordinate_descent(\n",
      "/Users/markhendricks/Projects/finm-data-analysis-2023/venv/lib/python3.9/site-packages/sklearn/linear_model/_coordinate_descent.py:628: ConvergenceWarning: Objective did not converge. You might want to increase the number of iterations, check the scale of the features or consider increasing regularisation. Duality gap: 1.348e-04, tolerance: 1.316e-05\n",
      "  model = cd_fast.enet_coordinate_descent(\n",
      "/Users/markhendricks/Projects/finm-data-analysis-2023/venv/lib/python3.9/site-packages/sklearn/linear_model/_coordinate_descent.py:628: ConvergenceWarning: Objective did not converge. You might want to increase the number of iterations, check the scale of the features or consider increasing regularisation. Duality gap: 6.995e-05, tolerance: 1.316e-05\n",
      "  model = cd_fast.enet_coordinate_descent(\n",
      "/Users/markhendricks/Projects/finm-data-analysis-2023/venv/lib/python3.9/site-packages/sklearn/linear_model/_coordinate_descent.py:628: ConvergenceWarning: Objective did not converge. You might want to increase the number of iterations, check the scale of the features or consider increasing regularisation. Duality gap: 1.589e-04, tolerance: 1.316e-05\n",
      "  model = cd_fast.enet_coordinate_descent(\n",
      "/Users/markhendricks/Projects/finm-data-analysis-2023/venv/lib/python3.9/site-packages/sklearn/linear_model/_coordinate_descent.py:628: ConvergenceWarning: Objective did not converge. You might want to increase the number of iterations, check the scale of the features or consider increasing regularisation. Duality gap: 2.163e-04, tolerance: 1.316e-05\n",
      "  model = cd_fast.enet_coordinate_descent(\n",
      "/Users/markhendricks/Projects/finm-data-analysis-2023/venv/lib/python3.9/site-packages/sklearn/linear_model/_coordinate_descent.py:628: ConvergenceWarning: Objective did not converge. You might want to increase the number of iterations, check the scale of the features or consider increasing regularisation. Duality gap: 1.726e-04, tolerance: 1.316e-05\n",
      "  model = cd_fast.enet_coordinate_descent(\n",
      "/Users/markhendricks/Projects/finm-data-analysis-2023/venv/lib/python3.9/site-packages/sklearn/linear_model/_coordinate_descent.py:628: ConvergenceWarning: Objective did not converge. You might want to increase the number of iterations, check the scale of the features or consider increasing regularisation. Duality gap: 2.519e-04, tolerance: 1.316e-05\n",
      "  model = cd_fast.enet_coordinate_descent(\n",
      "/Users/markhendricks/Projects/finm-data-analysis-2023/venv/lib/python3.9/site-packages/sklearn/linear_model/_coordinate_descent.py:628: ConvergenceWarning: Objective did not converge. You might want to increase the number of iterations, check the scale of the features or consider increasing regularisation. Duality gap: 2.469e-04, tolerance: 1.316e-05\n",
      "  model = cd_fast.enet_coordinate_descent(\n",
      "/Users/markhendricks/Projects/finm-data-analysis-2023/venv/lib/python3.9/site-packages/sklearn/linear_model/_coordinate_descent.py:628: ConvergenceWarning: Objective did not converge. You might want to increase the number of iterations, check the scale of the features or consider increasing regularisation. Duality gap: 4.711e-04, tolerance: 1.316e-05\n",
      "  model = cd_fast.enet_coordinate_descent(\n",
      "/Users/markhendricks/Projects/finm-data-analysis-2023/venv/lib/python3.9/site-packages/sklearn/linear_model/_coordinate_descent.py:628: ConvergenceWarning: Objective did not converge. You might want to increase the number of iterations, check the scale of the features or consider increasing regularisation. Duality gap: 6.072e-04, tolerance: 1.316e-05\n",
      "  model = cd_fast.enet_coordinate_descent(\n",
      "/Users/markhendricks/Projects/finm-data-analysis-2023/venv/lib/python3.9/site-packages/sklearn/linear_model/_coordinate_descent.py:628: ConvergenceWarning: Objective did not converge. You might want to increase the number of iterations, check the scale of the features or consider increasing regularisation. Duality gap: 7.228e-04, tolerance: 1.316e-05\n",
      "  model = cd_fast.enet_coordinate_descent(\n",
      "/Users/markhendricks/Projects/finm-data-analysis-2023/venv/lib/python3.9/site-packages/sklearn/linear_model/_coordinate_descent.py:628: ConvergenceWarning: Objective did not converge. You might want to increase the number of iterations, check the scale of the features or consider increasing regularisation. Duality gap: 7.138e-04, tolerance: 1.316e-05\n",
      "  model = cd_fast.enet_coordinate_descent(\n",
      "/Users/markhendricks/Projects/finm-data-analysis-2023/venv/lib/python3.9/site-packages/sklearn/linear_model/_coordinate_descent.py:628: ConvergenceWarning: Objective did not converge. You might want to increase the number of iterations, check the scale of the features or consider increasing regularisation. Duality gap: 6.583e-04, tolerance: 1.316e-05\n",
      "  model = cd_fast.enet_coordinate_descent(\n",
      "/Users/markhendricks/Projects/finm-data-analysis-2023/venv/lib/python3.9/site-packages/sklearn/linear_model/_coordinate_descent.py:628: ConvergenceWarning: Objective did not converge. You might want to increase the number of iterations, check the scale of the features or consider increasing regularisation. Duality gap: 5.344e-04, tolerance: 1.316e-05\n",
      "  model = cd_fast.enet_coordinate_descent(\n",
      "/Users/markhendricks/Projects/finm-data-analysis-2023/venv/lib/python3.9/site-packages/sklearn/linear_model/_coordinate_descent.py:628: ConvergenceWarning: Objective did not converge. You might want to increase the number of iterations, check the scale of the features or consider increasing regularisation. Duality gap: 4.193e-04, tolerance: 1.316e-05\n",
      "  model = cd_fast.enet_coordinate_descent(\n"
     ]
    },
    {
     "name": "stderr",
     "output_type": "stream",
     "text": [
      "/Users/markhendricks/Projects/finm-data-analysis-2023/venv/lib/python3.9/site-packages/sklearn/linear_model/_coordinate_descent.py:628: ConvergenceWarning: Objective did not converge. You might want to increase the number of iterations, check the scale of the features or consider increasing regularisation. Duality gap: 6.308e-04, tolerance: 1.316e-05\n",
      "  model = cd_fast.enet_coordinate_descent(\n",
      "/Users/markhendricks/Projects/finm-data-analysis-2023/venv/lib/python3.9/site-packages/sklearn/linear_model/_coordinate_descent.py:628: ConvergenceWarning: Objective did not converge. You might want to increase the number of iterations, check the scale of the features or consider increasing regularisation. Duality gap: 7.380e-04, tolerance: 1.316e-05\n",
      "  model = cd_fast.enet_coordinate_descent(\n",
      "/Users/markhendricks/Projects/finm-data-analysis-2023/venv/lib/python3.9/site-packages/sklearn/linear_model/_coordinate_descent.py:628: ConvergenceWarning: Objective did not converge. You might want to increase the number of iterations, check the scale of the features or consider increasing regularisation. Duality gap: 7.765e-04, tolerance: 1.316e-05\n",
      "  model = cd_fast.enet_coordinate_descent(\n",
      "/Users/markhendricks/Projects/finm-data-analysis-2023/venv/lib/python3.9/site-packages/sklearn/linear_model/_coordinate_descent.py:628: ConvergenceWarning: Objective did not converge. You might want to increase the number of iterations, check the scale of the features or consider increasing regularisation. Duality gap: 7.154e-04, tolerance: 1.316e-05\n",
      "  model = cd_fast.enet_coordinate_descent(\n",
      "/Users/markhendricks/Projects/finm-data-analysis-2023/venv/lib/python3.9/site-packages/sklearn/linear_model/_coordinate_descent.py:628: ConvergenceWarning: Objective did not converge. You might want to increase the number of iterations, check the scale of the features or consider increasing regularisation. Duality gap: 5.938e-04, tolerance: 1.316e-05\n",
      "  model = cd_fast.enet_coordinate_descent(\n",
      "/Users/markhendricks/Projects/finm-data-analysis-2023/venv/lib/python3.9/site-packages/sklearn/linear_model/_coordinate_descent.py:628: ConvergenceWarning: Objective did not converge. You might want to increase the number of iterations, check the scale of the features or consider increasing regularisation. Duality gap: 4.555e-04, tolerance: 1.316e-05\n",
      "  model = cd_fast.enet_coordinate_descent(\n",
      "/Users/markhendricks/Projects/finm-data-analysis-2023/venv/lib/python3.9/site-packages/sklearn/linear_model/_coordinate_descent.py:628: ConvergenceWarning: Objective did not converge. You might want to increase the number of iterations, check the scale of the features or consider increasing regularisation. Duality gap: 3.058e-04, tolerance: 1.316e-05\n",
      "  model = cd_fast.enet_coordinate_descent(\n",
      "/Users/markhendricks/Projects/finm-data-analysis-2023/venv/lib/python3.9/site-packages/sklearn/linear_model/_coordinate_descent.py:628: ConvergenceWarning: Objective did not converge. You might want to increase the number of iterations, check the scale of the features or consider increasing regularisation. Duality gap: 2.699e-04, tolerance: 1.316e-05\n",
      "  model = cd_fast.enet_coordinate_descent(\n",
      "/Users/markhendricks/Projects/finm-data-analysis-2023/venv/lib/python3.9/site-packages/sklearn/linear_model/_coordinate_descent.py:628: ConvergenceWarning: Objective did not converge. You might want to increase the number of iterations, check the scale of the features or consider increasing regularisation. Duality gap: 3.006e-04, tolerance: 1.316e-05\n",
      "  model = cd_fast.enet_coordinate_descent(\n",
      "/Users/markhendricks/Projects/finm-data-analysis-2023/venv/lib/python3.9/site-packages/sklearn/linear_model/_coordinate_descent.py:628: ConvergenceWarning: Objective did not converge. You might want to increase the number of iterations, check the scale of the features or consider increasing regularisation. Duality gap: 4.434e-04, tolerance: 1.316e-05\n",
      "  model = cd_fast.enet_coordinate_descent(\n",
      "/Users/markhendricks/Projects/finm-data-analysis-2023/venv/lib/python3.9/site-packages/sklearn/linear_model/_coordinate_descent.py:628: ConvergenceWarning: Objective did not converge. You might want to increase the number of iterations, check the scale of the features or consider increasing regularisation. Duality gap: 5.180e-04, tolerance: 1.316e-05\n",
      "  model = cd_fast.enet_coordinate_descent(\n",
      "/Users/markhendricks/Projects/finm-data-analysis-2023/venv/lib/python3.9/site-packages/sklearn/linear_model/_coordinate_descent.py:628: ConvergenceWarning: Objective did not converge. You might want to increase the number of iterations, check the scale of the features or consider increasing regularisation. Duality gap: 6.219e-04, tolerance: 1.316e-05\n",
      "  model = cd_fast.enet_coordinate_descent(\n",
      "/Users/markhendricks/Projects/finm-data-analysis-2023/venv/lib/python3.9/site-packages/sklearn/linear_model/_coordinate_descent.py:628: ConvergenceWarning: Objective did not converge. You might want to increase the number of iterations, check the scale of the features or consider increasing regularisation. Duality gap: 5.882e-04, tolerance: 1.316e-05\n",
      "  model = cd_fast.enet_coordinate_descent(\n",
      "/Users/markhendricks/Projects/finm-data-analysis-2023/venv/lib/python3.9/site-packages/sklearn/linear_model/_coordinate_descent.py:628: ConvergenceWarning: Objective did not converge. You might want to increase the number of iterations, check the scale of the features or consider increasing regularisation. Duality gap: 5.353e-04, tolerance: 1.316e-05\n",
      "  model = cd_fast.enet_coordinate_descent(\n",
      "/Users/markhendricks/Projects/finm-data-analysis-2023/venv/lib/python3.9/site-packages/sklearn/linear_model/_coordinate_descent.py:628: ConvergenceWarning: Objective did not converge. You might want to increase the number of iterations, check the scale of the features or consider increasing regularisation. Duality gap: 5.974e-04, tolerance: 1.316e-05\n",
      "  model = cd_fast.enet_coordinate_descent(\n",
      "/Users/markhendricks/Projects/finm-data-analysis-2023/venv/lib/python3.9/site-packages/sklearn/linear_model/_coordinate_descent.py:628: ConvergenceWarning: Objective did not converge. You might want to increase the number of iterations, check the scale of the features or consider increasing regularisation. Duality gap: 6.001e-04, tolerance: 1.316e-05\n",
      "  model = cd_fast.enet_coordinate_descent(\n",
      "/Users/markhendricks/Projects/finm-data-analysis-2023/venv/lib/python3.9/site-packages/sklearn/linear_model/_coordinate_descent.py:628: ConvergenceWarning: Objective did not converge. You might want to increase the number of iterations, check the scale of the features or consider increasing regularisation. Duality gap: 5.377e-04, tolerance: 1.316e-05\n",
      "  model = cd_fast.enet_coordinate_descent(\n",
      "/Users/markhendricks/Projects/finm-data-analysis-2023/venv/lib/python3.9/site-packages/sklearn/linear_model/_coordinate_descent.py:628: ConvergenceWarning: Objective did not converge. You might want to increase the number of iterations, check the scale of the features or consider increasing regularisation. Duality gap: 4.778e-04, tolerance: 1.316e-05\n",
      "  model = cd_fast.enet_coordinate_descent(\n",
      "/Users/markhendricks/Projects/finm-data-analysis-2023/venv/lib/python3.9/site-packages/sklearn/linear_model/_coordinate_descent.py:628: ConvergenceWarning: Objective did not converge. You might want to increase the number of iterations, check the scale of the features or consider increasing regularisation. Duality gap: 4.354e-04, tolerance: 1.316e-05\n",
      "  model = cd_fast.enet_coordinate_descent(\n",
      "/Users/markhendricks/Projects/finm-data-analysis-2023/venv/lib/python3.9/site-packages/sklearn/linear_model/_coordinate_descent.py:628: ConvergenceWarning: Objective did not converge. You might want to increase the number of iterations, check the scale of the features or consider increasing regularisation. Duality gap: 4.894e-04, tolerance: 1.316e-05\n",
      "  model = cd_fast.enet_coordinate_descent(\n",
      "/Users/markhendricks/Projects/finm-data-analysis-2023/venv/lib/python3.9/site-packages/sklearn/linear_model/_coordinate_descent.py:628: ConvergenceWarning: Objective did not converge. You might want to increase the number of iterations, check the scale of the features or consider increasing regularisation. Duality gap: 5.895e-04, tolerance: 1.316e-05\n",
      "  model = cd_fast.enet_coordinate_descent(\n",
      "/Users/markhendricks/Projects/finm-data-analysis-2023/venv/lib/python3.9/site-packages/sklearn/linear_model/_coordinate_descent.py:628: ConvergenceWarning: Objective did not converge. You might want to increase the number of iterations, check the scale of the features or consider increasing regularisation. Duality gap: 1.259e-05, tolerance: 1.054e-05\n",
      "  model = cd_fast.enet_coordinate_descent(\n"
     ]
    },
    {
     "name": "stderr",
     "output_type": "stream",
     "text": [
      "/Users/markhendricks/Projects/finm-data-analysis-2023/venv/lib/python3.9/site-packages/sklearn/linear_model/_coordinate_descent.py:628: ConvergenceWarning: Objective did not converge. You might want to increase the number of iterations, check the scale of the features or consider increasing regularisation. Duality gap: 1.301e-05, tolerance: 1.054e-05\n",
      "  model = cd_fast.enet_coordinate_descent(\n",
      "/Users/markhendricks/Projects/finm-data-analysis-2023/venv/lib/python3.9/site-packages/sklearn/linear_model/_coordinate_descent.py:628: ConvergenceWarning: Objective did not converge. You might want to increase the number of iterations, check the scale of the features or consider increasing regularisation. Duality gap: 1.660e-05, tolerance: 1.054e-05\n",
      "  model = cd_fast.enet_coordinate_descent(\n",
      "/Users/markhendricks/Projects/finm-data-analysis-2023/venv/lib/python3.9/site-packages/sklearn/linear_model/_coordinate_descent.py:628: ConvergenceWarning: Objective did not converge. You might want to increase the number of iterations, check the scale of the features or consider increasing regularisation. Duality gap: 4.492e-05, tolerance: 1.054e-05\n",
      "  model = cd_fast.enet_coordinate_descent(\n",
      "/Users/markhendricks/Projects/finm-data-analysis-2023/venv/lib/python3.9/site-packages/sklearn/linear_model/_coordinate_descent.py:628: ConvergenceWarning: Objective did not converge. You might want to increase the number of iterations, check the scale of the features or consider increasing regularisation. Duality gap: 2.760e-05, tolerance: 1.054e-05\n",
      "  model = cd_fast.enet_coordinate_descent(\n",
      "/Users/markhendricks/Projects/finm-data-analysis-2023/venv/lib/python3.9/site-packages/sklearn/linear_model/_coordinate_descent.py:628: ConvergenceWarning: Objective did not converge. You might want to increase the number of iterations, check the scale of the features or consider increasing regularisation. Duality gap: 5.868e-05, tolerance: 1.054e-05\n",
      "  model = cd_fast.enet_coordinate_descent(\n",
      "/Users/markhendricks/Projects/finm-data-analysis-2023/venv/lib/python3.9/site-packages/sklearn/linear_model/_coordinate_descent.py:628: ConvergenceWarning: Objective did not converge. You might want to increase the number of iterations, check the scale of the features or consider increasing regularisation. Duality gap: 1.012e-04, tolerance: 1.054e-05\n",
      "  model = cd_fast.enet_coordinate_descent(\n",
      "/Users/markhendricks/Projects/finm-data-analysis-2023/venv/lib/python3.9/site-packages/sklearn/linear_model/_coordinate_descent.py:628: ConvergenceWarning: Objective did not converge. You might want to increase the number of iterations, check the scale of the features or consider increasing regularisation. Duality gap: 1.180e-04, tolerance: 1.054e-05\n",
      "  model = cd_fast.enet_coordinate_descent(\n",
      "/Users/markhendricks/Projects/finm-data-analysis-2023/venv/lib/python3.9/site-packages/sklearn/linear_model/_coordinate_descent.py:628: ConvergenceWarning: Objective did not converge. You might want to increase the number of iterations, check the scale of the features or consider increasing regularisation. Duality gap: 8.962e-05, tolerance: 1.054e-05\n",
      "  model = cd_fast.enet_coordinate_descent(\n",
      "/Users/markhendricks/Projects/finm-data-analysis-2023/venv/lib/python3.9/site-packages/sklearn/linear_model/_coordinate_descent.py:628: ConvergenceWarning: Objective did not converge. You might want to increase the number of iterations, check the scale of the features or consider increasing regularisation. Duality gap: 4.753e-05, tolerance: 1.054e-05\n",
      "  model = cd_fast.enet_coordinate_descent(\n",
      "/Users/markhendricks/Projects/finm-data-analysis-2023/venv/lib/python3.9/site-packages/sklearn/linear_model/_coordinate_descent.py:628: ConvergenceWarning: Objective did not converge. You might want to increase the number of iterations, check the scale of the features or consider increasing regularisation. Duality gap: 1.251e-04, tolerance: 1.054e-05\n",
      "  model = cd_fast.enet_coordinate_descent(\n",
      "/Users/markhendricks/Projects/finm-data-analysis-2023/venv/lib/python3.9/site-packages/sklearn/linear_model/_coordinate_descent.py:628: ConvergenceWarning: Objective did not converge. You might want to increase the number of iterations, check the scale of the features or consider increasing regularisation. Duality gap: 1.248e-04, tolerance: 1.054e-05\n",
      "  model = cd_fast.enet_coordinate_descent(\n",
      "/Users/markhendricks/Projects/finm-data-analysis-2023/venv/lib/python3.9/site-packages/sklearn/linear_model/_coordinate_descent.py:628: ConvergenceWarning: Objective did not converge. You might want to increase the number of iterations, check the scale of the features or consider increasing regularisation. Duality gap: 9.154e-05, tolerance: 1.054e-05\n",
      "  model = cd_fast.enet_coordinate_descent(\n",
      "/Users/markhendricks/Projects/finm-data-analysis-2023/venv/lib/python3.9/site-packages/sklearn/linear_model/_coordinate_descent.py:628: ConvergenceWarning: Objective did not converge. You might want to increase the number of iterations, check the scale of the features or consider increasing regularisation. Duality gap: 7.014e-05, tolerance: 1.054e-05\n",
      "  model = cd_fast.enet_coordinate_descent(\n",
      "/Users/markhendricks/Projects/finm-data-analysis-2023/venv/lib/python3.9/site-packages/sklearn/linear_model/_coordinate_descent.py:628: ConvergenceWarning: Objective did not converge. You might want to increase the number of iterations, check the scale of the features or consider increasing regularisation. Duality gap: 5.488e-05, tolerance: 1.054e-05\n",
      "  model = cd_fast.enet_coordinate_descent(\n",
      "/Users/markhendricks/Projects/finm-data-analysis-2023/venv/lib/python3.9/site-packages/sklearn/linear_model/_coordinate_descent.py:628: ConvergenceWarning: Objective did not converge. You might want to increase the number of iterations, check the scale of the features or consider increasing regularisation. Duality gap: 1.055e-04, tolerance: 1.054e-05\n",
      "  model = cd_fast.enet_coordinate_descent(\n",
      "/Users/markhendricks/Projects/finm-data-analysis-2023/venv/lib/python3.9/site-packages/sklearn/linear_model/_coordinate_descent.py:628: ConvergenceWarning: Objective did not converge. You might want to increase the number of iterations, check the scale of the features or consider increasing regularisation. Duality gap: 1.643e-04, tolerance: 1.054e-05\n",
      "  model = cd_fast.enet_coordinate_descent(\n",
      "/Users/markhendricks/Projects/finm-data-analysis-2023/venv/lib/python3.9/site-packages/sklearn/linear_model/_coordinate_descent.py:628: ConvergenceWarning: Objective did not converge. You might want to increase the number of iterations, check the scale of the features or consider increasing regularisation. Duality gap: 1.881e-04, tolerance: 1.054e-05\n",
      "  model = cd_fast.enet_coordinate_descent(\n",
      "/Users/markhendricks/Projects/finm-data-analysis-2023/venv/lib/python3.9/site-packages/sklearn/linear_model/_coordinate_descent.py:628: ConvergenceWarning: Objective did not converge. You might want to increase the number of iterations, check the scale of the features or consider increasing regularisation. Duality gap: 2.367e-04, tolerance: 1.054e-05\n",
      "  model = cd_fast.enet_coordinate_descent(\n",
      "/Users/markhendricks/Projects/finm-data-analysis-2023/venv/lib/python3.9/site-packages/sklearn/linear_model/_coordinate_descent.py:628: ConvergenceWarning: Objective did not converge. You might want to increase the number of iterations, check the scale of the features or consider increasing regularisation. Duality gap: 2.481e-04, tolerance: 1.054e-05\n",
      "  model = cd_fast.enet_coordinate_descent(\n",
      "/Users/markhendricks/Projects/finm-data-analysis-2023/venv/lib/python3.9/site-packages/sklearn/linear_model/_coordinate_descent.py:628: ConvergenceWarning: Objective did not converge. You might want to increase the number of iterations, check the scale of the features or consider increasing regularisation. Duality gap: 1.650e-04, tolerance: 1.054e-05\n",
      "  model = cd_fast.enet_coordinate_descent(\n",
      "/Users/markhendricks/Projects/finm-data-analysis-2023/venv/lib/python3.9/site-packages/sklearn/linear_model/_coordinate_descent.py:628: ConvergenceWarning: Objective did not converge. You might want to increase the number of iterations, check the scale of the features or consider increasing regularisation. Duality gap: 1.329e-04, tolerance: 1.054e-05\n",
      "  model = cd_fast.enet_coordinate_descent(\n",
      "/Users/markhendricks/Projects/finm-data-analysis-2023/venv/lib/python3.9/site-packages/sklearn/linear_model/_coordinate_descent.py:628: ConvergenceWarning: Objective did not converge. You might want to increase the number of iterations, check the scale of the features or consider increasing regularisation. Duality gap: 1.867e-04, tolerance: 1.054e-05\n",
      "  model = cd_fast.enet_coordinate_descent(\n",
      "/Users/markhendricks/Projects/finm-data-analysis-2023/venv/lib/python3.9/site-packages/sklearn/linear_model/_coordinate_descent.py:628: ConvergenceWarning: Objective did not converge. You might want to increase the number of iterations, check the scale of the features or consider increasing regularisation. Duality gap: 2.584e-04, tolerance: 1.054e-05\n",
      "  model = cd_fast.enet_coordinate_descent(\n",
      "/Users/markhendricks/Projects/finm-data-analysis-2023/venv/lib/python3.9/site-packages/sklearn/linear_model/_coordinate_descent.py:628: ConvergenceWarning: Objective did not converge. You might want to increase the number of iterations, check the scale of the features or consider increasing regularisation. Duality gap: 2.956e-04, tolerance: 1.054e-05\n",
      "  model = cd_fast.enet_coordinate_descent(\n",
      "/Users/markhendricks/Projects/finm-data-analysis-2023/venv/lib/python3.9/site-packages/sklearn/linear_model/_coordinate_descent.py:628: ConvergenceWarning: Objective did not converge. You might want to increase the number of iterations, check the scale of the features or consider increasing regularisation. Duality gap: 2.477e-04, tolerance: 1.054e-05\n",
      "  model = cd_fast.enet_coordinate_descent(\n",
      "/Users/markhendricks/Projects/finm-data-analysis-2023/venv/lib/python3.9/site-packages/sklearn/linear_model/_coordinate_descent.py:628: ConvergenceWarning: Objective did not converge. You might want to increase the number of iterations, check the scale of the features or consider increasing regularisation. Duality gap: 1.895e-04, tolerance: 1.054e-05\n",
      "  model = cd_fast.enet_coordinate_descent(\n",
      "/Users/markhendricks/Projects/finm-data-analysis-2023/venv/lib/python3.9/site-packages/sklearn/linear_model/_coordinate_descent.py:628: ConvergenceWarning: Objective did not converge. You might want to increase the number of iterations, check the scale of the features or consider increasing regularisation. Duality gap: 1.433e-04, tolerance: 1.054e-05\n",
      "  model = cd_fast.enet_coordinate_descent(\n",
      "/Users/markhendricks/Projects/finm-data-analysis-2023/venv/lib/python3.9/site-packages/sklearn/linear_model/_coordinate_descent.py:628: ConvergenceWarning: Objective did not converge. You might want to increase the number of iterations, check the scale of the features or consider increasing regularisation. Duality gap: 2.111e-04, tolerance: 1.054e-05\n",
      "  model = cd_fast.enet_coordinate_descent(\n",
      "/Users/markhendricks/Projects/finm-data-analysis-2023/venv/lib/python3.9/site-packages/sklearn/linear_model/_coordinate_descent.py:628: ConvergenceWarning: Objective did not converge. You might want to increase the number of iterations, check the scale of the features or consider increasing regularisation. Duality gap: 3.713e-04, tolerance: 1.054e-05\n",
      "  model = cd_fast.enet_coordinate_descent(\n",
      "/Users/markhendricks/Projects/finm-data-analysis-2023/venv/lib/python3.9/site-packages/sklearn/linear_model/_coordinate_descent.py:628: ConvergenceWarning: Objective did not converge. You might want to increase the number of iterations, check the scale of the features or consider increasing regularisation. Duality gap: 3.684e-04, tolerance: 1.054e-05\n",
      "  model = cd_fast.enet_coordinate_descent(\n",
      "/Users/markhendricks/Projects/finm-data-analysis-2023/venv/lib/python3.9/site-packages/sklearn/linear_model/_coordinate_descent.py:628: ConvergenceWarning: Objective did not converge. You might want to increase the number of iterations, check the scale of the features or consider increasing regularisation. Duality gap: 2.655e-04, tolerance: 1.054e-05\n",
      "  model = cd_fast.enet_coordinate_descent(\n",
      "/Users/markhendricks/Projects/finm-data-analysis-2023/venv/lib/python3.9/site-packages/sklearn/linear_model/_coordinate_descent.py:628: ConvergenceWarning: Objective did not converge. You might want to increase the number of iterations, check the scale of the features or consider increasing regularisation. Duality gap: 1.720e-04, tolerance: 1.054e-05\n",
      "  model = cd_fast.enet_coordinate_descent(\n",
      "/Users/markhendricks/Projects/finm-data-analysis-2023/venv/lib/python3.9/site-packages/sklearn/linear_model/_coordinate_descent.py:628: ConvergenceWarning: Objective did not converge. You might want to increase the number of iterations, check the scale of the features or consider increasing regularisation. Duality gap: 1.731e-04, tolerance: 1.054e-05\n",
      "  model = cd_fast.enet_coordinate_descent(\n",
      "/Users/markhendricks/Projects/finm-data-analysis-2023/venv/lib/python3.9/site-packages/sklearn/linear_model/_coordinate_descent.py:628: ConvergenceWarning: Objective did not converge. You might want to increase the number of iterations, check the scale of the features or consider increasing regularisation. Duality gap: 2.353e-04, tolerance: 1.054e-05\n",
      "  model = cd_fast.enet_coordinate_descent(\n",
      "/Users/markhendricks/Projects/finm-data-analysis-2023/venv/lib/python3.9/site-packages/sklearn/linear_model/_coordinate_descent.py:628: ConvergenceWarning: Objective did not converge. You might want to increase the number of iterations, check the scale of the features or consider increasing regularisation. Duality gap: 2.574e-04, tolerance: 1.054e-05\n",
      "  model = cd_fast.enet_coordinate_descent(\n"
     ]
    },
    {
     "name": "stderr",
     "output_type": "stream",
     "text": [
      "/Users/markhendricks/Projects/finm-data-analysis-2023/venv/lib/python3.9/site-packages/sklearn/linear_model/_coordinate_descent.py:628: ConvergenceWarning: Objective did not converge. You might want to increase the number of iterations, check the scale of the features or consider increasing regularisation. Duality gap: 2.944e-04, tolerance: 1.054e-05\n",
      "  model = cd_fast.enet_coordinate_descent(\n",
      "/Users/markhendricks/Projects/finm-data-analysis-2023/venv/lib/python3.9/site-packages/sklearn/linear_model/_coordinate_descent.py:628: ConvergenceWarning: Objective did not converge. You might want to increase the number of iterations, check the scale of the features or consider increasing regularisation. Duality gap: 3.585e-04, tolerance: 1.054e-05\n",
      "  model = cd_fast.enet_coordinate_descent(\n",
      "/Users/markhendricks/Projects/finm-data-analysis-2023/venv/lib/python3.9/site-packages/sklearn/linear_model/_coordinate_descent.py:628: ConvergenceWarning: Objective did not converge. You might want to increase the number of iterations, check the scale of the features or consider increasing regularisation. Duality gap: 4.430e-04, tolerance: 1.054e-05\n",
      "  model = cd_fast.enet_coordinate_descent(\n",
      "/Users/markhendricks/Projects/finm-data-analysis-2023/venv/lib/python3.9/site-packages/sklearn/linear_model/_coordinate_descent.py:628: ConvergenceWarning: Objective did not converge. You might want to increase the number of iterations, check the scale of the features or consider increasing regularisation. Duality gap: 4.714e-04, tolerance: 1.054e-05\n",
      "  model = cd_fast.enet_coordinate_descent(\n",
      "/Users/markhendricks/Projects/finm-data-analysis-2023/venv/lib/python3.9/site-packages/sklearn/linear_model/_coordinate_descent.py:628: ConvergenceWarning: Objective did not converge. You might want to increase the number of iterations, check the scale of the features or consider increasing regularisation. Duality gap: 4.844e-04, tolerance: 1.054e-05\n",
      "  model = cd_fast.enet_coordinate_descent(\n",
      "/Users/markhendricks/Projects/finm-data-analysis-2023/venv/lib/python3.9/site-packages/sklearn/linear_model/_coordinate_descent.py:628: ConvergenceWarning: Objective did not converge. You might want to increase the number of iterations, check the scale of the features or consider increasing regularisation. Duality gap: 5.023e-04, tolerance: 1.054e-05\n",
      "  model = cd_fast.enet_coordinate_descent(\n",
      "/Users/markhendricks/Projects/finm-data-analysis-2023/venv/lib/python3.9/site-packages/sklearn/linear_model/_coordinate_descent.py:628: ConvergenceWarning: Objective did not converge. You might want to increase the number of iterations, check the scale of the features or consider increasing regularisation. Duality gap: 4.772e-04, tolerance: 1.054e-05\n",
      "  model = cd_fast.enet_coordinate_descent(\n",
      "/Users/markhendricks/Projects/finm-data-analysis-2023/venv/lib/python3.9/site-packages/sklearn/linear_model/_coordinate_descent.py:628: ConvergenceWarning: Objective did not converge. You might want to increase the number of iterations, check the scale of the features or consider increasing regularisation. Duality gap: 4.634e-04, tolerance: 1.054e-05\n",
      "  model = cd_fast.enet_coordinate_descent(\n",
      "/Users/markhendricks/Projects/finm-data-analysis-2023/venv/lib/python3.9/site-packages/sklearn/linear_model/_coordinate_descent.py:628: ConvergenceWarning: Objective did not converge. You might want to increase the number of iterations, check the scale of the features or consider increasing regularisation. Duality gap: 4.593e-04, tolerance: 1.054e-05\n",
      "  model = cd_fast.enet_coordinate_descent(\n",
      "/Users/markhendricks/Projects/finm-data-analysis-2023/venv/lib/python3.9/site-packages/sklearn/linear_model/_coordinate_descent.py:628: ConvergenceWarning: Objective did not converge. You might want to increase the number of iterations, check the scale of the features or consider increasing regularisation. Duality gap: 4.313e-04, tolerance: 1.054e-05\n",
      "  model = cd_fast.enet_coordinate_descent(\n",
      "/Users/markhendricks/Projects/finm-data-analysis-2023/venv/lib/python3.9/site-packages/sklearn/linear_model/_coordinate_descent.py:628: ConvergenceWarning: Objective did not converge. You might want to increase the number of iterations, check the scale of the features or consider increasing regularisation. Duality gap: 3.912e-04, tolerance: 1.054e-05\n",
      "  model = cd_fast.enet_coordinate_descent(\n",
      "/Users/markhendricks/Projects/finm-data-analysis-2023/venv/lib/python3.9/site-packages/sklearn/linear_model/_coordinate_descent.py:628: ConvergenceWarning: Objective did not converge. You might want to increase the number of iterations, check the scale of the features or consider increasing regularisation. Duality gap: 4.034e-04, tolerance: 1.054e-05\n",
      "  model = cd_fast.enet_coordinate_descent(\n",
      "/Users/markhendricks/Projects/finm-data-analysis-2023/venv/lib/python3.9/site-packages/sklearn/linear_model/_coordinate_descent.py:628: ConvergenceWarning: Objective did not converge. You might want to increase the number of iterations, check the scale of the features or consider increasing regularisation. Duality gap: 4.336e-04, tolerance: 1.054e-05\n",
      "  model = cd_fast.enet_coordinate_descent(\n",
      "/Users/markhendricks/Projects/finm-data-analysis-2023/venv/lib/python3.9/site-packages/sklearn/linear_model/_coordinate_descent.py:628: ConvergenceWarning: Objective did not converge. You might want to increase the number of iterations, check the scale of the features or consider increasing regularisation. Duality gap: 4.241e-04, tolerance: 1.054e-05\n",
      "  model = cd_fast.enet_coordinate_descent(\n",
      "/Users/markhendricks/Projects/finm-data-analysis-2023/venv/lib/python3.9/site-packages/sklearn/linear_model/_coordinate_descent.py:628: ConvergenceWarning: Objective did not converge. You might want to increase the number of iterations, check the scale of the features or consider increasing regularisation. Duality gap: 4.062e-04, tolerance: 1.054e-05\n",
      "  model = cd_fast.enet_coordinate_descent(\n",
      "/Users/markhendricks/Projects/finm-data-analysis-2023/venv/lib/python3.9/site-packages/sklearn/linear_model/_coordinate_descent.py:628: ConvergenceWarning: Objective did not converge. You might want to increase the number of iterations, check the scale of the features or consider increasing regularisation. Duality gap: 4.169e-04, tolerance: 1.054e-05\n",
      "  model = cd_fast.enet_coordinate_descent(\n",
      "/Users/markhendricks/Projects/finm-data-analysis-2023/venv/lib/python3.9/site-packages/sklearn/linear_model/_coordinate_descent.py:628: ConvergenceWarning: Objective did not converge. You might want to increase the number of iterations, check the scale of the features or consider increasing regularisation. Duality gap: 4.344e-04, tolerance: 1.054e-05\n",
      "  model = cd_fast.enet_coordinate_descent(\n",
      "/Users/markhendricks/Projects/finm-data-analysis-2023/venv/lib/python3.9/site-packages/sklearn/linear_model/_coordinate_descent.py:628: ConvergenceWarning: Objective did not converge. You might want to increase the number of iterations, check the scale of the features or consider increasing regularisation. Duality gap: 4.172e-04, tolerance: 1.054e-05\n",
      "  model = cd_fast.enet_coordinate_descent(\n",
      "/Users/markhendricks/Projects/finm-data-analysis-2023/venv/lib/python3.9/site-packages/sklearn/linear_model/_coordinate_descent.py:628: ConvergenceWarning: Objective did not converge. You might want to increase the number of iterations, check the scale of the features or consider increasing regularisation. Duality gap: 3.384e-05, tolerance: 1.120e-05\n",
      "  model = cd_fast.enet_coordinate_descent(\n",
      "/Users/markhendricks/Projects/finm-data-analysis-2023/venv/lib/python3.9/site-packages/sklearn/linear_model/_coordinate_descent.py:628: ConvergenceWarning: Objective did not converge. You might want to increase the number of iterations, check the scale of the features or consider increasing regularisation. Duality gap: 3.831e-05, tolerance: 1.120e-05\n",
      "  model = cd_fast.enet_coordinate_descent(\n",
      "/Users/markhendricks/Projects/finm-data-analysis-2023/venv/lib/python3.9/site-packages/sklearn/linear_model/_coordinate_descent.py:628: ConvergenceWarning: Objective did not converge. You might want to increase the number of iterations, check the scale of the features or consider increasing regularisation. Duality gap: 3.942e-05, tolerance: 1.120e-05\n",
      "  model = cd_fast.enet_coordinate_descent(\n",
      "/Users/markhendricks/Projects/finm-data-analysis-2023/venv/lib/python3.9/site-packages/sklearn/linear_model/_coordinate_descent.py:628: ConvergenceWarning: Objective did not converge. You might want to increase the number of iterations, check the scale of the features or consider increasing regularisation. Duality gap: 5.570e-05, tolerance: 1.120e-05\n",
      "  model = cd_fast.enet_coordinate_descent(\n",
      "/Users/markhendricks/Projects/finm-data-analysis-2023/venv/lib/python3.9/site-packages/sklearn/linear_model/_coordinate_descent.py:628: ConvergenceWarning: Objective did not converge. You might want to increase the number of iterations, check the scale of the features or consider increasing regularisation. Duality gap: 5.827e-05, tolerance: 1.120e-05\n",
      "  model = cd_fast.enet_coordinate_descent(\n",
      "/Users/markhendricks/Projects/finm-data-analysis-2023/venv/lib/python3.9/site-packages/sklearn/linear_model/_coordinate_descent.py:628: ConvergenceWarning: Objective did not converge. You might want to increase the number of iterations, check the scale of the features or consider increasing regularisation. Duality gap: 1.320e-04, tolerance: 1.120e-05\n",
      "  model = cd_fast.enet_coordinate_descent(\n",
      "/Users/markhendricks/Projects/finm-data-analysis-2023/venv/lib/python3.9/site-packages/sklearn/linear_model/_coordinate_descent.py:628: ConvergenceWarning: Objective did not converge. You might want to increase the number of iterations, check the scale of the features or consider increasing regularisation. Duality gap: 2.142e-04, tolerance: 1.120e-05\n",
      "  model = cd_fast.enet_coordinate_descent(\n"
     ]
    },
    {
     "name": "stderr",
     "output_type": "stream",
     "text": [
      "/Users/markhendricks/Projects/finm-data-analysis-2023/venv/lib/python3.9/site-packages/sklearn/linear_model/_coordinate_descent.py:628: ConvergenceWarning: Objective did not converge. You might want to increase the number of iterations, check the scale of the features or consider increasing regularisation. Duality gap: 8.996e-05, tolerance: 1.120e-05\n",
      "  model = cd_fast.enet_coordinate_descent(\n",
      "/Users/markhendricks/Projects/finm-data-analysis-2023/venv/lib/python3.9/site-packages/sklearn/linear_model/_coordinate_descent.py:628: ConvergenceWarning: Objective did not converge. You might want to increase the number of iterations, check the scale of the features or consider increasing regularisation. Duality gap: 5.902e-05, tolerance: 1.120e-05\n",
      "  model = cd_fast.enet_coordinate_descent(\n",
      "/Users/markhendricks/Projects/finm-data-analysis-2023/venv/lib/python3.9/site-packages/sklearn/linear_model/_coordinate_descent.py:628: ConvergenceWarning: Objective did not converge. You might want to increase the number of iterations, check the scale of the features or consider increasing regularisation. Duality gap: 4.938e-05, tolerance: 1.120e-05\n",
      "  model = cd_fast.enet_coordinate_descent(\n",
      "/Users/markhendricks/Projects/finm-data-analysis-2023/venv/lib/python3.9/site-packages/sklearn/linear_model/_coordinate_descent.py:628: ConvergenceWarning: Objective did not converge. You might want to increase the number of iterations, check the scale of the features or consider increasing regularisation. Duality gap: 9.276e-05, tolerance: 1.120e-05\n",
      "  model = cd_fast.enet_coordinate_descent(\n",
      "/Users/markhendricks/Projects/finm-data-analysis-2023/venv/lib/python3.9/site-packages/sklearn/linear_model/_coordinate_descent.py:628: ConvergenceWarning: Objective did not converge. You might want to increase the number of iterations, check the scale of the features or consider increasing regularisation. Duality gap: 1.174e-04, tolerance: 1.120e-05\n",
      "  model = cd_fast.enet_coordinate_descent(\n",
      "/Users/markhendricks/Projects/finm-data-analysis-2023/venv/lib/python3.9/site-packages/sklearn/linear_model/_coordinate_descent.py:628: ConvergenceWarning: Objective did not converge. You might want to increase the number of iterations, check the scale of the features or consider increasing regularisation. Duality gap: 9.453e-05, tolerance: 1.120e-05\n",
      "  model = cd_fast.enet_coordinate_descent(\n",
      "/Users/markhendricks/Projects/finm-data-analysis-2023/venv/lib/python3.9/site-packages/sklearn/linear_model/_coordinate_descent.py:628: ConvergenceWarning: Objective did not converge. You might want to increase the number of iterations, check the scale of the features or consider increasing regularisation. Duality gap: 6.879e-05, tolerance: 1.120e-05\n",
      "  model = cd_fast.enet_coordinate_descent(\n",
      "/Users/markhendricks/Projects/finm-data-analysis-2023/venv/lib/python3.9/site-packages/sklearn/linear_model/_coordinate_descent.py:628: ConvergenceWarning: Objective did not converge. You might want to increase the number of iterations, check the scale of the features or consider increasing regularisation. Duality gap: 3.498e-05, tolerance: 1.120e-05\n",
      "  model = cd_fast.enet_coordinate_descent(\n",
      "/Users/markhendricks/Projects/finm-data-analysis-2023/venv/lib/python3.9/site-packages/sklearn/linear_model/_coordinate_descent.py:628: ConvergenceWarning: Objective did not converge. You might want to increase the number of iterations, check the scale of the features or consider increasing regularisation. Duality gap: 4.238e-05, tolerance: 1.120e-05\n",
      "  model = cd_fast.enet_coordinate_descent(\n",
      "/Users/markhendricks/Projects/finm-data-analysis-2023/venv/lib/python3.9/site-packages/sklearn/linear_model/_coordinate_descent.py:628: ConvergenceWarning: Objective did not converge. You might want to increase the number of iterations, check the scale of the features or consider increasing regularisation. Duality gap: 4.493e-05, tolerance: 1.120e-05\n",
      "  model = cd_fast.enet_coordinate_descent(\n",
      "/Users/markhendricks/Projects/finm-data-analysis-2023/venv/lib/python3.9/site-packages/sklearn/linear_model/_coordinate_descent.py:628: ConvergenceWarning: Objective did not converge. You might want to increase the number of iterations, check the scale of the features or consider increasing regularisation. Duality gap: 3.088e-05, tolerance: 1.120e-05\n",
      "  model = cd_fast.enet_coordinate_descent(\n",
      "/Users/markhendricks/Projects/finm-data-analysis-2023/venv/lib/python3.9/site-packages/sklearn/linear_model/_coordinate_descent.py:628: ConvergenceWarning: Objective did not converge. You might want to increase the number of iterations, check the scale of the features or consider increasing regularisation. Duality gap: 2.333e-05, tolerance: 1.120e-05\n",
      "  model = cd_fast.enet_coordinate_descent(\n",
      "/Users/markhendricks/Projects/finm-data-analysis-2023/venv/lib/python3.9/site-packages/sklearn/linear_model/_coordinate_descent.py:628: ConvergenceWarning: Objective did not converge. You might want to increase the number of iterations, check the scale of the features or consider increasing regularisation. Duality gap: 8.271e-05, tolerance: 1.120e-05\n",
      "  model = cd_fast.enet_coordinate_descent(\n",
      "/Users/markhendricks/Projects/finm-data-analysis-2023/venv/lib/python3.9/site-packages/sklearn/linear_model/_coordinate_descent.py:628: ConvergenceWarning: Objective did not converge. You might want to increase the number of iterations, check the scale of the features or consider increasing regularisation. Duality gap: 1.568e-04, tolerance: 1.120e-05\n",
      "  model = cd_fast.enet_coordinate_descent(\n",
      "/Users/markhendricks/Projects/finm-data-analysis-2023/venv/lib/python3.9/site-packages/sklearn/linear_model/_coordinate_descent.py:628: ConvergenceWarning: Objective did not converge. You might want to increase the number of iterations, check the scale of the features or consider increasing regularisation. Duality gap: 1.885e-04, tolerance: 1.120e-05\n",
      "  model = cd_fast.enet_coordinate_descent(\n",
      "/Users/markhendricks/Projects/finm-data-analysis-2023/venv/lib/python3.9/site-packages/sklearn/linear_model/_coordinate_descent.py:628: ConvergenceWarning: Objective did not converge. You might want to increase the number of iterations, check the scale of the features or consider increasing regularisation. Duality gap: 2.196e-04, tolerance: 1.120e-05\n",
      "  model = cd_fast.enet_coordinate_descent(\n",
      "/Users/markhendricks/Projects/finm-data-analysis-2023/venv/lib/python3.9/site-packages/sklearn/linear_model/_coordinate_descent.py:628: ConvergenceWarning: Objective did not converge. You might want to increase the number of iterations, check the scale of the features or consider increasing regularisation. Duality gap: 2.351e-04, tolerance: 1.120e-05\n",
      "  model = cd_fast.enet_coordinate_descent(\n",
      "/Users/markhendricks/Projects/finm-data-analysis-2023/venv/lib/python3.9/site-packages/sklearn/linear_model/_coordinate_descent.py:628: ConvergenceWarning: Objective did not converge. You might want to increase the number of iterations, check the scale of the features or consider increasing regularisation. Duality gap: 1.436e-04, tolerance: 1.120e-05\n",
      "  model = cd_fast.enet_coordinate_descent(\n",
      "/Users/markhendricks/Projects/finm-data-analysis-2023/venv/lib/python3.9/site-packages/sklearn/linear_model/_coordinate_descent.py:628: ConvergenceWarning: Objective did not converge. You might want to increase the number of iterations, check the scale of the features or consider increasing regularisation. Duality gap: 1.422e-04, tolerance: 1.120e-05\n",
      "  model = cd_fast.enet_coordinate_descent(\n",
      "/Users/markhendricks/Projects/finm-data-analysis-2023/venv/lib/python3.9/site-packages/sklearn/linear_model/_coordinate_descent.py:628: ConvergenceWarning: Objective did not converge. You might want to increase the number of iterations, check the scale of the features or consider increasing regularisation. Duality gap: 2.089e-04, tolerance: 1.120e-05\n",
      "  model = cd_fast.enet_coordinate_descent(\n",
      "/Users/markhendricks/Projects/finm-data-analysis-2023/venv/lib/python3.9/site-packages/sklearn/linear_model/_coordinate_descent.py:628: ConvergenceWarning: Objective did not converge. You might want to increase the number of iterations, check the scale of the features or consider increasing regularisation. Duality gap: 3.163e-04, tolerance: 1.120e-05\n",
      "  model = cd_fast.enet_coordinate_descent(\n",
      "/Users/markhendricks/Projects/finm-data-analysis-2023/venv/lib/python3.9/site-packages/sklearn/linear_model/_coordinate_descent.py:628: ConvergenceWarning: Objective did not converge. You might want to increase the number of iterations, check the scale of the features or consider increasing regularisation. Duality gap: 3.921e-04, tolerance: 1.120e-05\n",
      "  model = cd_fast.enet_coordinate_descent(\n",
      "/Users/markhendricks/Projects/finm-data-analysis-2023/venv/lib/python3.9/site-packages/sklearn/linear_model/_coordinate_descent.py:628: ConvergenceWarning: Objective did not converge. You might want to increase the number of iterations, check the scale of the features or consider increasing regularisation. Duality gap: 3.645e-04, tolerance: 1.120e-05\n",
      "  model = cd_fast.enet_coordinate_descent(\n",
      "/Users/markhendricks/Projects/finm-data-analysis-2023/venv/lib/python3.9/site-packages/sklearn/linear_model/_coordinate_descent.py:628: ConvergenceWarning: Objective did not converge. You might want to increase the number of iterations, check the scale of the features or consider increasing regularisation. Duality gap: 2.919e-04, tolerance: 1.120e-05\n",
      "  model = cd_fast.enet_coordinate_descent(\n",
      "/Users/markhendricks/Projects/finm-data-analysis-2023/venv/lib/python3.9/site-packages/sklearn/linear_model/_coordinate_descent.py:628: ConvergenceWarning: Objective did not converge. You might want to increase the number of iterations, check the scale of the features or consider increasing regularisation. Duality gap: 2.677e-04, tolerance: 1.120e-05\n",
      "  model = cd_fast.enet_coordinate_descent(\n",
      "/Users/markhendricks/Projects/finm-data-analysis-2023/venv/lib/python3.9/site-packages/sklearn/linear_model/_coordinate_descent.py:628: ConvergenceWarning: Objective did not converge. You might want to increase the number of iterations, check the scale of the features or consider increasing regularisation. Duality gap: 3.283e-04, tolerance: 1.120e-05\n",
      "  model = cd_fast.enet_coordinate_descent(\n",
      "/Users/markhendricks/Projects/finm-data-analysis-2023/venv/lib/python3.9/site-packages/sklearn/linear_model/_coordinate_descent.py:628: ConvergenceWarning: Objective did not converge. You might want to increase the number of iterations, check the scale of the features or consider increasing regularisation. Duality gap: 3.980e-04, tolerance: 1.120e-05\n",
      "  model = cd_fast.enet_coordinate_descent(\n",
      "/Users/markhendricks/Projects/finm-data-analysis-2023/venv/lib/python3.9/site-packages/sklearn/linear_model/_coordinate_descent.py:628: ConvergenceWarning: Objective did not converge. You might want to increase the number of iterations, check the scale of the features or consider increasing regularisation. Duality gap: 4.348e-04, tolerance: 1.120e-05\n",
      "  model = cd_fast.enet_coordinate_descent(\n",
      "/Users/markhendricks/Projects/finm-data-analysis-2023/venv/lib/python3.9/site-packages/sklearn/linear_model/_coordinate_descent.py:628: ConvergenceWarning: Objective did not converge. You might want to increase the number of iterations, check the scale of the features or consider increasing regularisation. Duality gap: 3.729e-04, tolerance: 1.120e-05\n",
      "  model = cd_fast.enet_coordinate_descent(\n",
      "/Users/markhendricks/Projects/finm-data-analysis-2023/venv/lib/python3.9/site-packages/sklearn/linear_model/_coordinate_descent.py:628: ConvergenceWarning: Objective did not converge. You might want to increase the number of iterations, check the scale of the features or consider increasing regularisation. Duality gap: 4.017e-04, tolerance: 1.120e-05\n",
      "  model = cd_fast.enet_coordinate_descent(\n",
      "/Users/markhendricks/Projects/finm-data-analysis-2023/venv/lib/python3.9/site-packages/sklearn/linear_model/_coordinate_descent.py:628: ConvergenceWarning: Objective did not converge. You might want to increase the number of iterations, check the scale of the features or consider increasing regularisation. Duality gap: 4.841e-04, tolerance: 1.120e-05\n",
      "  model = cd_fast.enet_coordinate_descent(\n",
      "/Users/markhendricks/Projects/finm-data-analysis-2023/venv/lib/python3.9/site-packages/sklearn/linear_model/_coordinate_descent.py:628: ConvergenceWarning: Objective did not converge. You might want to increase the number of iterations, check the scale of the features or consider increasing regularisation. Duality gap: 5.720e-04, tolerance: 1.120e-05\n",
      "  model = cd_fast.enet_coordinate_descent(\n",
      "/Users/markhendricks/Projects/finm-data-analysis-2023/venv/lib/python3.9/site-packages/sklearn/linear_model/_coordinate_descent.py:628: ConvergenceWarning: Objective did not converge. You might want to increase the number of iterations, check the scale of the features or consider increasing regularisation. Duality gap: 5.228e-04, tolerance: 1.120e-05\n",
      "  model = cd_fast.enet_coordinate_descent(\n"
     ]
    },
    {
     "name": "stderr",
     "output_type": "stream",
     "text": [
      "/Users/markhendricks/Projects/finm-data-analysis-2023/venv/lib/python3.9/site-packages/sklearn/linear_model/_coordinate_descent.py:628: ConvergenceWarning: Objective did not converge. You might want to increase the number of iterations, check the scale of the features or consider increasing regularisation. Duality gap: 4.869e-04, tolerance: 1.120e-05\n",
      "  model = cd_fast.enet_coordinate_descent(\n",
      "/Users/markhendricks/Projects/finm-data-analysis-2023/venv/lib/python3.9/site-packages/sklearn/linear_model/_coordinate_descent.py:628: ConvergenceWarning: Objective did not converge. You might want to increase the number of iterations, check the scale of the features or consider increasing regularisation. Duality gap: 4.320e-04, tolerance: 1.120e-05\n",
      "  model = cd_fast.enet_coordinate_descent(\n",
      "/Users/markhendricks/Projects/finm-data-analysis-2023/venv/lib/python3.9/site-packages/sklearn/linear_model/_coordinate_descent.py:628: ConvergenceWarning: Objective did not converge. You might want to increase the number of iterations, check the scale of the features or consider increasing regularisation. Duality gap: 4.728e-04, tolerance: 1.120e-05\n",
      "  model = cd_fast.enet_coordinate_descent(\n",
      "/Users/markhendricks/Projects/finm-data-analysis-2023/venv/lib/python3.9/site-packages/sklearn/linear_model/_coordinate_descent.py:628: ConvergenceWarning: Objective did not converge. You might want to increase the number of iterations, check the scale of the features or consider increasing regularisation. Duality gap: 5.125e-04, tolerance: 1.120e-05\n",
      "  model = cd_fast.enet_coordinate_descent(\n",
      "/Users/markhendricks/Projects/finm-data-analysis-2023/venv/lib/python3.9/site-packages/sklearn/linear_model/_coordinate_descent.py:628: ConvergenceWarning: Objective did not converge. You might want to increase the number of iterations, check the scale of the features or consider increasing regularisation. Duality gap: 5.606e-04, tolerance: 1.120e-05\n",
      "  model = cd_fast.enet_coordinate_descent(\n",
      "/Users/markhendricks/Projects/finm-data-analysis-2023/venv/lib/python3.9/site-packages/sklearn/linear_model/_coordinate_descent.py:628: ConvergenceWarning: Objective did not converge. You might want to increase the number of iterations, check the scale of the features or consider increasing regularisation. Duality gap: 5.259e-04, tolerance: 1.120e-05\n",
      "  model = cd_fast.enet_coordinate_descent(\n",
      "/Users/markhendricks/Projects/finm-data-analysis-2023/venv/lib/python3.9/site-packages/sklearn/linear_model/_coordinate_descent.py:628: ConvergenceWarning: Objective did not converge. You might want to increase the number of iterations, check the scale of the features or consider increasing regularisation. Duality gap: 5.122e-04, tolerance: 1.120e-05\n",
      "  model = cd_fast.enet_coordinate_descent(\n",
      "/Users/markhendricks/Projects/finm-data-analysis-2023/venv/lib/python3.9/site-packages/sklearn/linear_model/_coordinate_descent.py:628: ConvergenceWarning: Objective did not converge. You might want to increase the number of iterations, check the scale of the features or consider increasing regularisation. Duality gap: 4.856e-04, tolerance: 1.120e-05\n",
      "  model = cd_fast.enet_coordinate_descent(\n",
      "/Users/markhendricks/Projects/finm-data-analysis-2023/venv/lib/python3.9/site-packages/sklearn/linear_model/_coordinate_descent.py:628: ConvergenceWarning: Objective did not converge. You might want to increase the number of iterations, check the scale of the features or consider increasing regularisation. Duality gap: 4.392e-04, tolerance: 1.120e-05\n",
      "  model = cd_fast.enet_coordinate_descent(\n",
      "/Users/markhendricks/Projects/finm-data-analysis-2023/venv/lib/python3.9/site-packages/sklearn/linear_model/_coordinate_descent.py:628: ConvergenceWarning: Objective did not converge. You might want to increase the number of iterations, check the scale of the features or consider increasing regularisation. Duality gap: 5.173e-04, tolerance: 1.120e-05\n",
      "  model = cd_fast.enet_coordinate_descent(\n",
      "/Users/markhendricks/Projects/finm-data-analysis-2023/venv/lib/python3.9/site-packages/sklearn/linear_model/_coordinate_descent.py:628: ConvergenceWarning: Objective did not converge. You might want to increase the number of iterations, check the scale of the features or consider increasing regularisation. Duality gap: 4.627e-04, tolerance: 1.120e-05\n",
      "  model = cd_fast.enet_coordinate_descent(\n",
      "/Users/markhendricks/Projects/finm-data-analysis-2023/venv/lib/python3.9/site-packages/sklearn/linear_model/_coordinate_descent.py:628: ConvergenceWarning: Objective did not converge. You might want to increase the number of iterations, check the scale of the features or consider increasing regularisation. Duality gap: 4.896e-04, tolerance: 1.120e-05\n",
      "  model = cd_fast.enet_coordinate_descent(\n",
      "/Users/markhendricks/Projects/finm-data-analysis-2023/venv/lib/python3.9/site-packages/sklearn/linear_model/_coordinate_descent.py:628: ConvergenceWarning: Objective did not converge. You might want to increase the number of iterations, check the scale of the features or consider increasing regularisation. Duality gap: 5.166e-04, tolerance: 1.120e-05\n",
      "  model = cd_fast.enet_coordinate_descent(\n",
      "/Users/markhendricks/Projects/finm-data-analysis-2023/venv/lib/python3.9/site-packages/sklearn/linear_model/_coordinate_descent.py:628: ConvergenceWarning: Objective did not converge. You might want to increase the number of iterations, check the scale of the features or consider increasing regularisation. Duality gap: 5.707e-04, tolerance: 1.120e-05\n",
      "  model = cd_fast.enet_coordinate_descent(\n",
      "/Users/markhendricks/Projects/finm-data-analysis-2023/venv/lib/python3.9/site-packages/sklearn/linear_model/_coordinate_descent.py:628: ConvergenceWarning: Objective did not converge. You might want to increase the number of iterations, check the scale of the features or consider increasing regularisation. Duality gap: 5.245e-04, tolerance: 1.120e-05\n",
      "  model = cd_fast.enet_coordinate_descent(\n",
      "/Users/markhendricks/Projects/finm-data-analysis-2023/venv/lib/python3.9/site-packages/sklearn/linear_model/_coordinate_descent.py:628: ConvergenceWarning: Objective did not converge. You might want to increase the number of iterations, check the scale of the features or consider increasing regularisation. Duality gap: 5.871e-04, tolerance: 1.120e-05\n",
      "  model = cd_fast.enet_coordinate_descent(\n",
      "/Users/markhendricks/Projects/finm-data-analysis-2023/venv/lib/python3.9/site-packages/sklearn/linear_model/_coordinate_descent.py:628: ConvergenceWarning: Objective did not converge. You might want to increase the number of iterations, check the scale of the features or consider increasing regularisation. Duality gap: 2.504e-05, tolerance: 1.168e-05\n",
      "  model = cd_fast.enet_coordinate_descent(\n",
      "/Users/markhendricks/Projects/finm-data-analysis-2023/venv/lib/python3.9/site-packages/sklearn/linear_model/_coordinate_descent.py:628: ConvergenceWarning: Objective did not converge. You might want to increase the number of iterations, check the scale of the features or consider increasing regularisation. Duality gap: 4.118e-05, tolerance: 1.168e-05\n",
      "  model = cd_fast.enet_coordinate_descent(\n",
      "/Users/markhendricks/Projects/finm-data-analysis-2023/venv/lib/python3.9/site-packages/sklearn/linear_model/_coordinate_descent.py:628: ConvergenceWarning: Objective did not converge. You might want to increase the number of iterations, check the scale of the features or consider increasing regularisation. Duality gap: 1.400e-05, tolerance: 1.168e-05\n",
      "  model = cd_fast.enet_coordinate_descent(\n",
      "/Users/markhendricks/Projects/finm-data-analysis-2023/venv/lib/python3.9/site-packages/sklearn/linear_model/_coordinate_descent.py:628: ConvergenceWarning: Objective did not converge. You might want to increase the number of iterations, check the scale of the features or consider increasing regularisation. Duality gap: 3.509e-05, tolerance: 1.168e-05\n",
      "  model = cd_fast.enet_coordinate_descent(\n",
      "/Users/markhendricks/Projects/finm-data-analysis-2023/venv/lib/python3.9/site-packages/sklearn/linear_model/_coordinate_descent.py:628: ConvergenceWarning: Objective did not converge. You might want to increase the number of iterations, check the scale of the features or consider increasing regularisation. Duality gap: 1.019e-04, tolerance: 1.168e-05\n",
      "  model = cd_fast.enet_coordinate_descent(\n",
      "/Users/markhendricks/Projects/finm-data-analysis-2023/venv/lib/python3.9/site-packages/sklearn/linear_model/_coordinate_descent.py:628: ConvergenceWarning: Objective did not converge. You might want to increase the number of iterations, check the scale of the features or consider increasing regularisation. Duality gap: 7.344e-05, tolerance: 1.168e-05\n",
      "  model = cd_fast.enet_coordinate_descent(\n",
      "/Users/markhendricks/Projects/finm-data-analysis-2023/venv/lib/python3.9/site-packages/sklearn/linear_model/_coordinate_descent.py:628: ConvergenceWarning: Objective did not converge. You might want to increase the number of iterations, check the scale of the features or consider increasing regularisation. Duality gap: 5.530e-05, tolerance: 1.168e-05\n",
      "  model = cd_fast.enet_coordinate_descent(\n",
      "/Users/markhendricks/Projects/finm-data-analysis-2023/venv/lib/python3.9/site-packages/sklearn/linear_model/_coordinate_descent.py:628: ConvergenceWarning: Objective did not converge. You might want to increase the number of iterations, check the scale of the features or consider increasing regularisation. Duality gap: 6.645e-05, tolerance: 1.168e-05\n",
      "  model = cd_fast.enet_coordinate_descent(\n",
      "/Users/markhendricks/Projects/finm-data-analysis-2023/venv/lib/python3.9/site-packages/sklearn/linear_model/_coordinate_descent.py:628: ConvergenceWarning: Objective did not converge. You might want to increase the number of iterations, check the scale of the features or consider increasing regularisation. Duality gap: 1.314e-04, tolerance: 1.168e-05\n",
      "  model = cd_fast.enet_coordinate_descent(\n",
      "/Users/markhendricks/Projects/finm-data-analysis-2023/venv/lib/python3.9/site-packages/sklearn/linear_model/_coordinate_descent.py:628: ConvergenceWarning: Objective did not converge. You might want to increase the number of iterations, check the scale of the features or consider increasing regularisation. Duality gap: 1.091e-04, tolerance: 1.168e-05\n",
      "  model = cd_fast.enet_coordinate_descent(\n",
      "/Users/markhendricks/Projects/finm-data-analysis-2023/venv/lib/python3.9/site-packages/sklearn/linear_model/_coordinate_descent.py:628: ConvergenceWarning: Objective did not converge. You might want to increase the number of iterations, check the scale of the features or consider increasing regularisation. Duality gap: 9.607e-05, tolerance: 1.168e-05\n",
      "  model = cd_fast.enet_coordinate_descent(\n",
      "/Users/markhendricks/Projects/finm-data-analysis-2023/venv/lib/python3.9/site-packages/sklearn/linear_model/_coordinate_descent.py:628: ConvergenceWarning: Objective did not converge. You might want to increase the number of iterations, check the scale of the features or consider increasing regularisation. Duality gap: 5.806e-05, tolerance: 1.168e-05\n",
      "  model = cd_fast.enet_coordinate_descent(\n"
     ]
    },
    {
     "name": "stderr",
     "output_type": "stream",
     "text": [
      "/Users/markhendricks/Projects/finm-data-analysis-2023/venv/lib/python3.9/site-packages/sklearn/linear_model/_coordinate_descent.py:628: ConvergenceWarning: Objective did not converge. You might want to increase the number of iterations, check the scale of the features or consider increasing regularisation. Duality gap: 1.026e-04, tolerance: 1.168e-05\n",
      "  model = cd_fast.enet_coordinate_descent(\n",
      "/Users/markhendricks/Projects/finm-data-analysis-2023/venv/lib/python3.9/site-packages/sklearn/linear_model/_coordinate_descent.py:628: ConvergenceWarning: Objective did not converge. You might want to increase the number of iterations, check the scale of the features or consider increasing regularisation. Duality gap: 9.137e-05, tolerance: 1.168e-05\n",
      "  model = cd_fast.enet_coordinate_descent(\n",
      "/Users/markhendricks/Projects/finm-data-analysis-2023/venv/lib/python3.9/site-packages/sklearn/linear_model/_coordinate_descent.py:628: ConvergenceWarning: Objective did not converge. You might want to increase the number of iterations, check the scale of the features or consider increasing regularisation. Duality gap: 5.995e-05, tolerance: 1.168e-05\n",
      "  model = cd_fast.enet_coordinate_descent(\n",
      "/Users/markhendricks/Projects/finm-data-analysis-2023/venv/lib/python3.9/site-packages/sklearn/linear_model/_coordinate_descent.py:628: ConvergenceWarning: Objective did not converge. You might want to increase the number of iterations, check the scale of the features or consider increasing regularisation. Duality gap: 1.439e-04, tolerance: 1.168e-05\n",
      "  model = cd_fast.enet_coordinate_descent(\n",
      "/Users/markhendricks/Projects/finm-data-analysis-2023/venv/lib/python3.9/site-packages/sklearn/linear_model/_coordinate_descent.py:628: ConvergenceWarning: Objective did not converge. You might want to increase the number of iterations, check the scale of the features or consider increasing regularisation. Duality gap: 2.168e-04, tolerance: 1.168e-05\n",
      "  model = cd_fast.enet_coordinate_descent(\n",
      "/Users/markhendricks/Projects/finm-data-analysis-2023/venv/lib/python3.9/site-packages/sklearn/linear_model/_coordinate_descent.py:628: ConvergenceWarning: Objective did not converge. You might want to increase the number of iterations, check the scale of the features or consider increasing regularisation. Duality gap: 1.740e-04, tolerance: 1.168e-05\n",
      "  model = cd_fast.enet_coordinate_descent(\n",
      "/Users/markhendricks/Projects/finm-data-analysis-2023/venv/lib/python3.9/site-packages/sklearn/linear_model/_coordinate_descent.py:628: ConvergenceWarning: Objective did not converge. You might want to increase the number of iterations, check the scale of the features or consider increasing regularisation. Duality gap: 1.373e-04, tolerance: 1.168e-05\n",
      "  model = cd_fast.enet_coordinate_descent(\n",
      "/Users/markhendricks/Projects/finm-data-analysis-2023/venv/lib/python3.9/site-packages/sklearn/linear_model/_coordinate_descent.py:628: ConvergenceWarning: Objective did not converge. You might want to increase the number of iterations, check the scale of the features or consider increasing regularisation. Duality gap: 7.210e-05, tolerance: 1.168e-05\n",
      "  model = cd_fast.enet_coordinate_descent(\n",
      "/Users/markhendricks/Projects/finm-data-analysis-2023/venv/lib/python3.9/site-packages/sklearn/linear_model/_coordinate_descent.py:628: ConvergenceWarning: Objective did not converge. You might want to increase the number of iterations, check the scale of the features or consider increasing regularisation. Duality gap: 1.270e-04, tolerance: 1.168e-05\n",
      "  model = cd_fast.enet_coordinate_descent(\n",
      "/Users/markhendricks/Projects/finm-data-analysis-2023/venv/lib/python3.9/site-packages/sklearn/linear_model/_coordinate_descent.py:628: ConvergenceWarning: Objective did not converge. You might want to increase the number of iterations, check the scale of the features or consider increasing regularisation. Duality gap: 1.794e-04, tolerance: 1.168e-05\n",
      "  model = cd_fast.enet_coordinate_descent(\n",
      "/Users/markhendricks/Projects/finm-data-analysis-2023/venv/lib/python3.9/site-packages/sklearn/linear_model/_coordinate_descent.py:628: ConvergenceWarning: Objective did not converge. You might want to increase the number of iterations, check the scale of the features or consider increasing regularisation. Duality gap: 9.693e-05, tolerance: 1.168e-05\n",
      "  model = cd_fast.enet_coordinate_descent(\n",
      "/Users/markhendricks/Projects/finm-data-analysis-2023/venv/lib/python3.9/site-packages/sklearn/linear_model/_coordinate_descent.py:628: ConvergenceWarning: Objective did not converge. You might want to increase the number of iterations, check the scale of the features or consider increasing regularisation. Duality gap: 9.510e-05, tolerance: 1.168e-05\n",
      "  model = cd_fast.enet_coordinate_descent(\n",
      "/Users/markhendricks/Projects/finm-data-analysis-2023/venv/lib/python3.9/site-packages/sklearn/linear_model/_coordinate_descent.py:628: ConvergenceWarning: Objective did not converge. You might want to increase the number of iterations, check the scale of the features or consider increasing regularisation. Duality gap: 9.530e-05, tolerance: 1.168e-05\n",
      "  model = cd_fast.enet_coordinate_descent(\n",
      "/Users/markhendricks/Projects/finm-data-analysis-2023/venv/lib/python3.9/site-packages/sklearn/linear_model/_coordinate_descent.py:628: ConvergenceWarning: Objective did not converge. You might want to increase the number of iterations, check the scale of the features or consider increasing regularisation. Duality gap: 1.410e-04, tolerance: 1.168e-05\n",
      "  model = cd_fast.enet_coordinate_descent(\n",
      "/Users/markhendricks/Projects/finm-data-analysis-2023/venv/lib/python3.9/site-packages/sklearn/linear_model/_coordinate_descent.py:628: ConvergenceWarning: Objective did not converge. You might want to increase the number of iterations, check the scale of the features or consider increasing regularisation. Duality gap: 2.970e-04, tolerance: 1.168e-05\n",
      "  model = cd_fast.enet_coordinate_descent(\n",
      "/Users/markhendricks/Projects/finm-data-analysis-2023/venv/lib/python3.9/site-packages/sklearn/linear_model/_coordinate_descent.py:628: ConvergenceWarning: Objective did not converge. You might want to increase the number of iterations, check the scale of the features or consider increasing regularisation. Duality gap: 2.153e-04, tolerance: 1.168e-05\n",
      "  model = cd_fast.enet_coordinate_descent(\n",
      "/Users/markhendricks/Projects/finm-data-analysis-2023/venv/lib/python3.9/site-packages/sklearn/linear_model/_coordinate_descent.py:628: ConvergenceWarning: Objective did not converge. You might want to increase the number of iterations, check the scale of the features or consider increasing regularisation. Duality gap: 2.347e-04, tolerance: 1.168e-05\n",
      "  model = cd_fast.enet_coordinate_descent(\n",
      "/Users/markhendricks/Projects/finm-data-analysis-2023/venv/lib/python3.9/site-packages/sklearn/linear_model/_coordinate_descent.py:628: ConvergenceWarning: Objective did not converge. You might want to increase the number of iterations, check the scale of the features or consider increasing regularisation. Duality gap: 2.409e-04, tolerance: 1.168e-05\n",
      "  model = cd_fast.enet_coordinate_descent(\n",
      "/Users/markhendricks/Projects/finm-data-analysis-2023/venv/lib/python3.9/site-packages/sklearn/linear_model/_coordinate_descent.py:628: ConvergenceWarning: Objective did not converge. You might want to increase the number of iterations, check the scale of the features or consider increasing regularisation. Duality gap: 2.625e-04, tolerance: 1.168e-05\n",
      "  model = cd_fast.enet_coordinate_descent(\n",
      "/Users/markhendricks/Projects/finm-data-analysis-2023/venv/lib/python3.9/site-packages/sklearn/linear_model/_coordinate_descent.py:628: ConvergenceWarning: Objective did not converge. You might want to increase the number of iterations, check the scale of the features or consider increasing regularisation. Duality gap: 2.201e-04, tolerance: 1.168e-05\n",
      "  model = cd_fast.enet_coordinate_descent(\n",
      "/Users/markhendricks/Projects/finm-data-analysis-2023/venv/lib/python3.9/site-packages/sklearn/linear_model/_coordinate_descent.py:628: ConvergenceWarning: Objective did not converge. You might want to increase the number of iterations, check the scale of the features or consider increasing regularisation. Duality gap: 2.334e-04, tolerance: 1.168e-05\n",
      "  model = cd_fast.enet_coordinate_descent(\n",
      "/Users/markhendricks/Projects/finm-data-analysis-2023/venv/lib/python3.9/site-packages/sklearn/linear_model/_coordinate_descent.py:628: ConvergenceWarning: Objective did not converge. You might want to increase the number of iterations, check the scale of the features or consider increasing regularisation. Duality gap: 2.323e-04, tolerance: 1.168e-05\n",
      "  model = cd_fast.enet_coordinate_descent(\n",
      "/Users/markhendricks/Projects/finm-data-analysis-2023/venv/lib/python3.9/site-packages/sklearn/linear_model/_coordinate_descent.py:628: ConvergenceWarning: Objective did not converge. You might want to increase the number of iterations, check the scale of the features or consider increasing regularisation. Duality gap: 2.911e-04, tolerance: 1.168e-05\n",
      "  model = cd_fast.enet_coordinate_descent(\n",
      "/Users/markhendricks/Projects/finm-data-analysis-2023/venv/lib/python3.9/site-packages/sklearn/linear_model/_coordinate_descent.py:628: ConvergenceWarning: Objective did not converge. You might want to increase the number of iterations, check the scale of the features or consider increasing regularisation. Duality gap: 3.723e-04, tolerance: 1.168e-05\n",
      "  model = cd_fast.enet_coordinate_descent(\n",
      "/Users/markhendricks/Projects/finm-data-analysis-2023/venv/lib/python3.9/site-packages/sklearn/linear_model/_coordinate_descent.py:628: ConvergenceWarning: Objective did not converge. You might want to increase the number of iterations, check the scale of the features or consider increasing regularisation. Duality gap: 4.237e-04, tolerance: 1.168e-05\n",
      "  model = cd_fast.enet_coordinate_descent(\n",
      "/Users/markhendricks/Projects/finm-data-analysis-2023/venv/lib/python3.9/site-packages/sklearn/linear_model/_coordinate_descent.py:628: ConvergenceWarning: Objective did not converge. You might want to increase the number of iterations, check the scale of the features or consider increasing regularisation. Duality gap: 5.060e-04, tolerance: 1.168e-05\n",
      "  model = cd_fast.enet_coordinate_descent(\n",
      "/Users/markhendricks/Projects/finm-data-analysis-2023/venv/lib/python3.9/site-packages/sklearn/linear_model/_coordinate_descent.py:628: ConvergenceWarning: Objective did not converge. You might want to increase the number of iterations, check the scale of the features or consider increasing regularisation. Duality gap: 6.034e-04, tolerance: 1.168e-05\n",
      "  model = cd_fast.enet_coordinate_descent(\n",
      "/Users/markhendricks/Projects/finm-data-analysis-2023/venv/lib/python3.9/site-packages/sklearn/linear_model/_coordinate_descent.py:628: ConvergenceWarning: Objective did not converge. You might want to increase the number of iterations, check the scale of the features or consider increasing regularisation. Duality gap: 6.144e-04, tolerance: 1.168e-05\n",
      "  model = cd_fast.enet_coordinate_descent(\n",
      "/Users/markhendricks/Projects/finm-data-analysis-2023/venv/lib/python3.9/site-packages/sklearn/linear_model/_coordinate_descent.py:628: ConvergenceWarning: Objective did not converge. You might want to increase the number of iterations, check the scale of the features or consider increasing regularisation. Duality gap: 5.669e-04, tolerance: 1.168e-05\n",
      "  model = cd_fast.enet_coordinate_descent(\n",
      "/Users/markhendricks/Projects/finm-data-analysis-2023/venv/lib/python3.9/site-packages/sklearn/linear_model/_coordinate_descent.py:628: ConvergenceWarning: Objective did not converge. You might want to increase the number of iterations, check the scale of the features or consider increasing regularisation. Duality gap: 4.661e-04, tolerance: 1.168e-05\n",
      "  model = cd_fast.enet_coordinate_descent(\n"
     ]
    },
    {
     "name": "stderr",
     "output_type": "stream",
     "text": [
      "/Users/markhendricks/Projects/finm-data-analysis-2023/venv/lib/python3.9/site-packages/sklearn/linear_model/_coordinate_descent.py:628: ConvergenceWarning: Objective did not converge. You might want to increase the number of iterations, check the scale of the features or consider increasing regularisation. Duality gap: 3.998e-04, tolerance: 1.168e-05\n",
      "  model = cd_fast.enet_coordinate_descent(\n",
      "/Users/markhendricks/Projects/finm-data-analysis-2023/venv/lib/python3.9/site-packages/sklearn/linear_model/_coordinate_descent.py:628: ConvergenceWarning: Objective did not converge. You might want to increase the number of iterations, check the scale of the features or consider increasing regularisation. Duality gap: 3.229e-04, tolerance: 1.168e-05\n",
      "  model = cd_fast.enet_coordinate_descent(\n",
      "/Users/markhendricks/Projects/finm-data-analysis-2023/venv/lib/python3.9/site-packages/sklearn/linear_model/_coordinate_descent.py:628: ConvergenceWarning: Objective did not converge. You might want to increase the number of iterations, check the scale of the features or consider increasing regularisation. Duality gap: 3.345e-04, tolerance: 1.168e-05\n",
      "  model = cd_fast.enet_coordinate_descent(\n",
      "/Users/markhendricks/Projects/finm-data-analysis-2023/venv/lib/python3.9/site-packages/sklearn/linear_model/_coordinate_descent.py:628: ConvergenceWarning: Objective did not converge. You might want to increase the number of iterations, check the scale of the features or consider increasing regularisation. Duality gap: 3.545e-04, tolerance: 1.168e-05\n",
      "  model = cd_fast.enet_coordinate_descent(\n",
      "/Users/markhendricks/Projects/finm-data-analysis-2023/venv/lib/python3.9/site-packages/sklearn/linear_model/_coordinate_descent.py:628: ConvergenceWarning: Objective did not converge. You might want to increase the number of iterations, check the scale of the features or consider increasing regularisation. Duality gap: 4.101e-04, tolerance: 1.168e-05\n",
      "  model = cd_fast.enet_coordinate_descent(\n",
      "/Users/markhendricks/Projects/finm-data-analysis-2023/venv/lib/python3.9/site-packages/sklearn/linear_model/_coordinate_descent.py:628: ConvergenceWarning: Objective did not converge. You might want to increase the number of iterations, check the scale of the features or consider increasing regularisation. Duality gap: 4.699e-04, tolerance: 1.168e-05\n",
      "  model = cd_fast.enet_coordinate_descent(\n",
      "/Users/markhendricks/Projects/finm-data-analysis-2023/venv/lib/python3.9/site-packages/sklearn/linear_model/_coordinate_descent.py:628: ConvergenceWarning: Objective did not converge. You might want to increase the number of iterations, check the scale of the features or consider increasing regularisation. Duality gap: 4.572e-04, tolerance: 1.168e-05\n",
      "  model = cd_fast.enet_coordinate_descent(\n",
      "/Users/markhendricks/Projects/finm-data-analysis-2023/venv/lib/python3.9/site-packages/sklearn/linear_model/_coordinate_descent.py:628: ConvergenceWarning: Objective did not converge. You might want to increase the number of iterations, check the scale of the features or consider increasing regularisation. Duality gap: 4.310e-04, tolerance: 1.168e-05\n",
      "  model = cd_fast.enet_coordinate_descent(\n",
      "/Users/markhendricks/Projects/finm-data-analysis-2023/venv/lib/python3.9/site-packages/sklearn/linear_model/_coordinate_descent.py:628: ConvergenceWarning: Objective did not converge. You might want to increase the number of iterations, check the scale of the features or consider increasing regularisation. Duality gap: 4.093e-04, tolerance: 1.168e-05\n",
      "  model = cd_fast.enet_coordinate_descent(\n",
      "/Users/markhendricks/Projects/finm-data-analysis-2023/venv/lib/python3.9/site-packages/sklearn/linear_model/_coordinate_descent.py:628: ConvergenceWarning: Objective did not converge. You might want to increase the number of iterations, check the scale of the features or consider increasing regularisation. Duality gap: 4.749e-04, tolerance: 1.168e-05\n",
      "  model = cd_fast.enet_coordinate_descent(\n",
      "/Users/markhendricks/Projects/finm-data-analysis-2023/venv/lib/python3.9/site-packages/sklearn/linear_model/_coordinate_descent.py:628: ConvergenceWarning: Objective did not converge. You might want to increase the number of iterations, check the scale of the features or consider increasing regularisation. Duality gap: 5.193e-04, tolerance: 1.168e-05\n",
      "  model = cd_fast.enet_coordinate_descent(\n"
     ]
    }
   ],
   "source": [
    "model_lasso_cv = LassoCV(max_iter=100).fit(rets_sp500, np.ravel(rets_gld))"
   ]
  },
  {
   "cell_type": "code",
   "execution_count": 22,
   "id": "0fc20f71",
   "metadata": {},
   "outputs": [
    {
     "data": {
      "text/plain": [
       "3.92150551527154e-05"
      ]
     },
     "execution_count": 22,
     "metadata": {},
     "output_type": "execute_result"
    }
   ],
   "source": [
    "model_lasso_cv.alpha_"
   ]
  },
  {
   "cell_type": "markdown",
   "id": "ff1b8344",
   "metadata": {},
   "source": [
    "***"
   ]
  },
  {
   "cell_type": "markdown",
   "id": "222e2f66",
   "metadata": {},
   "source": [
    "# 6.\n",
    "\n",
    "Use your estimations based on data through 2021 to fit the model for 2022-2023. \n",
    "\n",
    "Use the CV penalty parameters (from the previous problem) for Ridge and Lasso.\n",
    "\n",
    "What is the r-squared in these out-of-sample fits?\n",
    "\n",
    "#### Note\n",
    "Doing this is really easy in Python. For instance, for the LASSO estimation, you could try\n",
    "\n",
    "`est = Lasso(alpha=3e-4).fit(X,y)`\n",
    "\n",
    "`score_is = est.score(X_insamp,y_insamp)`\n",
    "\n",
    "`score_oos = est.score(X_oos,y_oos)`\n",
    "\n",
    "Which method does better out-of-sample?"
   ]
  },
  {
   "cell_type": "markdown",
   "id": "1e3ccb4d",
   "metadata": {},
   "source": [
    "# <span style='color:red'>Solution 6</span>"
   ]
  },
  {
   "cell_type": "code",
   "execution_count": 23,
   "id": "8d2e0c39",
   "metadata": {},
   "outputs": [],
   "source": [
    "train_X = rets_sp500.loc[:'2021']\n",
    "train_y = rets_gld.loc[:'2021']\n",
    "\n",
    "test_X = rets_sp500.loc['2022':]\n",
    "test_y = rets_gld.loc['2022':]"
   ]
  },
  {
   "cell_type": "code",
   "execution_count": 24,
   "id": "665878b8",
   "metadata": {},
   "outputs": [],
   "source": [
    "ols_is = LinearRegression().fit(train_X, train_y)\n",
    "ridge_is = Ridge(alpha=model_ridge_cv.alpha_).fit(train_X, train_y)\n",
    "lasso_is = Lasso(alpha=model_lasso_cv.alpha_).fit(train_X, train_y)"
   ]
  },
  {
   "cell_type": "code",
   "execution_count": 25,
   "id": "7dd6a4d1",
   "metadata": {},
   "outputs": [
    {
     "data": {
      "text/plain": [
       "-0.6340475878414387"
      ]
     },
     "execution_count": 25,
     "metadata": {},
     "output_type": "execute_result"
    }
   ],
   "source": [
    "# OLS OOS R-Squared\n",
    "ols_is.score(test_X, test_y)"
   ]
  },
  {
   "cell_type": "code",
   "execution_count": 26,
   "id": "7b2b4267",
   "metadata": {},
   "outputs": [
    {
     "data": {
      "text/plain": [
       "0.3149992259008487"
      ]
     },
     "execution_count": 26,
     "metadata": {},
     "output_type": "execute_result"
    }
   ],
   "source": [
    "# Ridge OOS R-Squared\n",
    "ridge_is.score(test_X, test_y)"
   ]
  },
  {
   "cell_type": "code",
   "execution_count": 27,
   "id": "d8c65037",
   "metadata": {},
   "outputs": [
    {
     "data": {
      "text/plain": [
       "0.511469715459716"
      ]
     },
     "execution_count": 27,
     "metadata": {},
     "output_type": "execute_result"
    }
   ],
   "source": [
    "# Lasso OOS R-Squared\n",
    "lasso_is.score(test_X, test_y)"
   ]
  },
  {
   "cell_type": "markdown",
   "id": "4f5d3c88",
   "metadata": {},
   "source": [
    "As demonstrated by the out of sample r-squared values, OLS performs far worse than does penalized regression. In fact, both Lasso and Ridge perform far better than the null model. Given more penalty values in our cross-validation for Ridge (instead of the default scikit-learn parameters), we may be better able to compare Lasso and Ridge. In general, however, it is important to remember that the \"optimal\" penalties found in part 5 were calculated using the test sample, which gives rise to some lookahead bias."
   ]
  }
 ],
 "metadata": {
  "hide_input": false,
  "kernelspec": {
   "display_name": "Python 3 (ipykernel)",
   "language": "python",
   "name": "python3"
  },
  "language_info": {
   "codemirror_mode": {
    "name": "ipython",
    "version": 3
   },
   "file_extension": ".py",
   "mimetype": "text/x-python",
   "name": "python",
   "nbconvert_exporter": "python",
   "pygments_lexer": "ipython3",
   "version": "3.9.6"
  },
  "toc": {
   "base_numbering": 1,
   "nav_menu": {},
   "number_sections": true,
   "sideBar": true,
   "skip_h1_title": false,
   "title_cell": "Table of Contents",
   "title_sidebar": "Contents",
   "toc_cell": false,
   "toc_position": {},
   "toc_section_display": true,
   "toc_window_display": false
  },
  "varInspector": {
   "cols": {
    "lenName": 16,
    "lenType": 16,
    "lenVar": 40
   },
   "kernels_config": {
    "python": {
     "delete_cmd_postfix": "",
     "delete_cmd_prefix": "del ",
     "library": "var_list.py",
     "varRefreshCmd": "print(var_dic_list())"
    },
    "r": {
     "delete_cmd_postfix": ") ",
     "delete_cmd_prefix": "rm(",
     "library": "var_list.r",
     "varRefreshCmd": "cat(var_dic_list()) "
    }
   },
   "types_to_exclude": [
    "module",
    "function",
    "builtin_function_or_method",
    "instance",
    "_Feature"
   ],
   "window_display": false
  }
 },
 "nbformat": 4,
 "nbformat_minor": 5
}
