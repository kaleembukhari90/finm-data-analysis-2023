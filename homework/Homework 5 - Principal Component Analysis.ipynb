{
 "cells": [
  {
   "cell_type": "markdown",
   "id": "6c96fd9f",
   "metadata": {},
   "source": [
    "# Homework 5 - Principal Component Analysis\n",
    "## Data Analysis\n",
    "### FINM August Review \n",
    "\n",
    "Mark Hendricks\n",
    "\n",
    "hendricks@uchicago.edu"
   ]
  },
  {
   "cell_type": "markdown",
   "id": "8b85006d",
   "metadata": {},
   "source": [
    "## 1 Principal Components"
   ]
  },
  {
   "cell_type": "markdown",
   "id": "1c6dcfde",
   "metadata": {},
   "source": [
    "Use the single-name equity data from the data set mentioned above. (That is, leave out SPY and SHV.)\n",
    "\n",
    "1. Calculate the principal components of the return series.\n",
    "\n",
    "\n",
    "2. Report the eigenvalues associated with these principal components. Report each eigenvalue as a percentage of the sum of all the eigenvalues. This is the total variation each PCA explains.\n",
    "\n",
    "\n",
    "3. How many PCs are needed to explain 75% of the variation?\n",
    "\n",
    "\n",
    "4. Calculate the correlation between the first (largest eigenvalue) principal component with each of the 22 single-name equities. Which correlation is highest?\n",
    "\n",
    "\n",
    "5. Calculate the correlation between the SPY and the first, second, third principal components."
   ]
  },
  {
   "cell_type": "markdown",
   "id": "d73c143c",
   "metadata": {},
   "source": [
    "***"
   ]
  },
  {
   "cell_type": "markdown",
   "id": "7a64525a",
   "metadata": {},
   "source": [
    "## 2 PCR and PLS"
   ]
  },
  {
   "cell_type": "markdown",
   "id": "8719b936",
   "metadata": {},
   "source": [
    "1. Principal Component Regression (PCR) refers to using PCA for dimension reduction, and then utilizing the principal components in a regression. Try this by regressing SPY on the first 3 PCs calculated in the previous section. Report the r-squared.\n",
    "\n",
    "\n",
    "2. Calculate the Partial Least Squares estimation of SPY on the 22 single-name equities. Model it for 3 factors. Report the r-squared.\n",
    "\n",
    "\n",
    "3. Compare the results between these two approaches and against penalized regression seen in the past homework."
   ]
  }
 ],
 "metadata": {
  "hide_input": false,
  "kernelspec": {
   "display_name": "Python 3 (ipykernel)",
   "language": "python",
   "name": "python3"
  },
  "language_info": {
   "codemirror_mode": {
    "name": "ipython",
    "version": 3
   },
   "file_extension": ".py",
   "mimetype": "text/x-python",
   "name": "python",
   "nbconvert_exporter": "python",
   "pygments_lexer": "ipython3",
   "version": "3.9.6"
  }
 },
 "nbformat": 4,
 "nbformat_minor": 5
}
