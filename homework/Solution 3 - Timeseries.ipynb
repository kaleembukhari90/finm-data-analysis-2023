{
 "cells": [
  {
   "cell_type": "markdown",
   "id": "bf864131",
   "metadata": {},
   "source": [
    "# Solution 3 - Timeseries\n",
    "## Data Analysis\n",
    "### FINM August Review \n",
    "\n",
    "Mark Hendricks\n",
    "\n",
    "hendricks@uchicago.edu"
   ]
  },
  {
   "cell_type": "markdown",
   "id": "11dcf279",
   "metadata": {},
   "source": [
    "# Data\n",
    "* This homework uses the file, `data/money_inflation_spy_data.xlsx`.\n",
    "* Find the data in the Github repo associated with the module, (link on Canvas.)\n",
    "\n",
    "The data file contains...\n",
    "* Macroeconomic Data\n",
    "    - Core CPI price index, denoted as $p$. \n",
    "    - M2 Money Supply, denoted as $m$.\n",
    "* Financial data\n",
    "    - Returns on the S&P 500, (via the SPY ETF)\n",
    "* See the “build data” folder for the details on how the data was constructed\n",
    "\n",
    "$$\\newcommand{\\spy}{\\text{spy}}$$\n",
    "$$\\newcommand{\\hyg}{\\text{hyg}}$$"
   ]
  },
  {
   "cell_type": "markdown",
   "id": "e3907147",
   "metadata": {},
   "source": [
    "# 1. Assessing the OLS Model\n",
    "\n",
    "This problem considers the predictability of inflation over various horizons. To do so, note the following:\n",
    "* $i_{t,t+h}$: Inflation is the h-period growth rate of CPI: \n",
    "\n",
    "$$i_{t,t+h} ≡ \\frac{p_{t+h}}{p_t} − 1$$\n",
    "\n",
    "* $g_{t,t+h}$: Money growth considered below is the growth rate of M2 Money supply:\n",
    "\n",
    "$$g_{t,t+h} ≡ \\frac{m_{t+h}}{m_t} − 1$$"
   ]
  },
  {
   "cell_type": "markdown",
   "id": "f9e16bf1",
   "metadata": {},
   "source": [
    "## 1. \n",
    "\n",
    "Estimate an OLS regression to see if CPI and Money are contemporaneously correlated: \n",
    "\n",
    "$$p_t = \\alpha + \\beta m_t + \\epsilon_t$$\n",
    "\n",
    "* Note that this is not a lagged regression, but rather a contemporaneous time-series regression. (We are not predicting a period ahead but rather fitting one series to the other at the same time period.)\n",
    "\n",
    "- (a) Report the estimated R-squared. \n",
    "- (b) Report the point-estimate of $\\beta$.\n",
    "\n",
    "## 2. \n",
    "\n",
    "This time, examine a regression of growth rates. Specifically, estimate an OLS regression to see if inflation and money growth are contemporaneously correlated:\n",
    "\n",
    "$$i_{t,t+h} = \\alpha + \\beta g_{t,t+h} + \\epsilon_{t,t+h}$$\n",
    "\n",
    "* Note that this is not a lagged regression, but rather a regular time-series regression.\n",
    "\n",
    "Answer the questions below for a one-year horizon: $h = 12$. \n",
    "- (a) Report the estimated R-squared.\n",
    "- (b) Report the point-estimate of $\\beta$.\n",
    "\n",
    "## 3. \n",
    "\n",
    "The result of regressing inflation on money growth is very different from regressing CPI on Money. \n",
    "\n",
    "- (a) What do you conclude? \n",
    "- (b) Does it seem that variation in money contemporaneously explains variation in inflation?\n",
    "- (c) In particular, what is wrong with one of the two regression models? Consider plotting the raw dependent and independent variable of each.\n",
    "\n",
    "## 4.\n",
    "\n",
    "Answer the remaining questions regarding the estimation of inflation on money growth in 1.2 above.\n",
    "\n",
    "Do the sample residuals, $e$ seem to be iid? That is,\n",
    "- (a) do they seem to be drawn from a constant variance? \n",
    "- (b) do they have serial correlation?\n",
    "\n",
    "Assess this informally by plotting the time-series of estimated sample residuals, $e$."
   ]
  },
  {
   "cell_type": "markdown",
   "id": "1653b184",
   "metadata": {},
   "source": [
    "## 5.\n",
    "\n",
    "\n",
    "Suppose that the residuals do not fit the classic OLS assumptions. (Technically speaking, consider that they are heteroskedastic and have serial correlation.)\n",
    "\n",
    "- (a) Report whether the estimates for $\\alpha$ or $\\beta$ are statistically significant relative to 0, for a significance level of 5%. (Check the reported p-value for each of the estimates, perhaps using stats-models OLS function.)\n",
    "- (b) Do you have concerns about the accuracy of the reported p-values?\n",
    "- (c) Do you have concerns about the estimated beta? For small samples, for large samples?\n",
    "\n",
    "## 6. \n",
    "\n",
    "- (a) Assess the residuals with the Durbin-Watson test for serial correlation. \n",
    "- (b) Formally assess heteroskedasticity of the residuals with White’s test.\n",
    "\n",
    "### Hints\n",
    "\n",
    "- (a) This is reported by default in the stats-models OLS estimation summary. A value less than 2 would indicate potential issues with serial correlation.\n",
    "- (b) See the documentation for the stats-model package.\n",
    "\n",
    "## 7. \n",
    "\n",
    "Try redoing this entire problem, but this time with a lagged, forecasting regression instead of a contemporaneous regression. Namely, replace the equation in 1.2 with,\n",
    "\n",
    "$$i_{t,t+h} = \\alpha + \\beta g_{t-h,t} + \\epsilon_{t,t+h}$$\n",
    "\n",
    "What do you think of the ability of past inflation and money growth to forecast future inflation?\n",
    "\n",
    "### Hint\n",
    "This should be easy to reform just this equation and then rerun the same code."
   ]
  },
  {
   "cell_type": "markdown",
   "id": "fd8ed75b",
   "metadata": {},
   "source": [
    "# <span style='color:red'>Solution 1</span>"
   ]
  },
  {
   "cell_type": "code",
   "execution_count": 1,
   "id": "e15bfb6e",
   "metadata": {},
   "outputs": [],
   "source": [
    "import pandas as pd\n",
    "import datetime\n",
    "\n",
    "import numpy as np\n",
    "import warnings\n",
    "\n",
    "from sklearn.linear_model import LinearRegression\n",
    "\n",
    "import statsmodels.api as sm\n",
    "\n",
    "import matplotlib.pyplot as plt\n",
    "%matplotlib inline\n",
    "plt.rcParams['figure.figsize'] = (12,6)\n",
    "plt.rcParams['font.size'] = 15\n",
    "plt.rcParams['legend.fontsize'] = 13\n",
    "\n",
    "from matplotlib.ticker import (MultipleLocator,\n",
    "                               StrMethodFormatter,\n",
    "                               AutoMinorLocator)"
   ]
  },
  {
   "cell_type": "code",
   "execution_count": 3,
   "id": "8df40c43",
   "metadata": {},
   "outputs": [],
   "source": [
    "data = pd.read_excel('hw_3_2_data.xlsx',sheet_name='macro')\n",
    "prices = data['CPI']\n",
    "money = data['M2']\n",
    "\n",
    "FREQ = 12"
   ]
  },
  {
   "cell_type": "markdown",
   "id": "27ce101f",
   "metadata": {},
   "source": [
    "## <span style='color:red'>1.1</span>"
   ]
  },
  {
   "cell_type": "code",
   "execution_count": 4,
   "id": "dc828d37",
   "metadata": {
    "scrolled": false
   },
   "outputs": [
    {
     "data": {
      "image/png": "[encoded data removed]",
      "text/plain": [
       "<Figure size 864x432 with 2 Axes>"
      ]
     },
     "metadata": {
      "needs_background": "light"
     },
     "output_type": "display_data"
    }
   ],
   "source": [
    "ax = data[['CPI']].plot(color='b',linewidth=3,ylabel='CPI',legend=['CPI'])\n",
    "ax2 = plt.twinx(ax)\n",
    "data[['M2']].plot(ax=ax2,color='r',linewidth=3,ylabel='M2',legend=['M2'])\n",
    "plt.legend(loc='upper center')\n",
    "plt.show()"
   ]
  },
  {
   "cell_type": "code",
   "execution_count": 5,
   "id": "ed3b0bc9",
   "metadata": {},
   "outputs": [
    {
     "data": {
      "text/plain": [
       "0       29.010\n",
       "1       29.000\n",
       "2       28.970\n",
       "3       28.980\n",
       "4       29.040\n",
       "        ...   \n",
       "767    298.990\n",
       "768    300.536\n",
       "769    301.648\n",
       "770    301.808\n",
       "771    302.918\n",
       "Name: CPI, Length: 772, dtype: float64"
      ]
     },
     "metadata": {},
     "output_type": "display_data"
    },
    {
     "data": {
      "text/plain": [
       "0        286.6\n",
       "1        287.7\n",
       "2        289.2\n",
       "3        290.1\n",
       "4        292.2\n",
       "        ...   \n",
       "767    21358.1\n",
       "768    21212.6\n",
       "769    21076.9\n",
       "770    20840.3\n",
       "771    20673.1\n",
       "Name: M2, Length: 772, dtype: float64"
      ]
     },
     "metadata": {},
     "output_type": "display_data"
    }
   ],
   "source": [
    "display(prices)\n",
    "display(money)"
   ]
  },
  {
   "cell_type": "code",
   "execution_count": 14,
   "id": "f004f473",
   "metadata": {
    "scrolled": false
   },
   "outputs": [
    {
     "name": "stderr",
     "output_type": "stream",
     "text": [
      "C:\\ProgramData\\Anaconda3\\lib\\site-packages\\statsmodels\\tsa\\tsatools.py:142: FutureWarning: In a future version of pandas all arguments of concat except for the argument 'objs' will be keyword-only\n",
      "  x = pd.concat(x[::order], 1)\n"
     ]
    },
    {
     "data": {
      "text/html": [
       "<table class=\"simpletable\">\n",
       "<caption>OLS Regression Results</caption>\n",
       "<tr>\n",
       "  <th>Dep. Variable:</th>           <td>M2</td>        <th>  R-squared:         </th> <td>   0.827</td> \n",
       "</tr>\n",
       "<tr>\n",
       "  <th>Model:</th>                   <td>OLS</td>       <th>  Adj. R-squared:    </th> <td>   0.827</td> \n",
       "</tr>\n",
       "<tr>\n",
       "  <th>Method:</th>             <td>Least Squares</td>  <th>  F-statistic:       </th> <td>   3683.</td> \n",
       "</tr>\n",
       "<tr>\n",
       "  <th>Date:</th>             <td>Wed, 05 Jul 2023</td> <th>  Prob (F-statistic):</th> <td>1.19e-295</td>\n",
       "</tr>\n",
       "<tr>\n",
       "  <th>Time:</th>                 <td>21:28:43</td>     <th>  Log-Likelihood:    </th> <td> -7032.3</td> \n",
       "</tr>\n",
       "<tr>\n",
       "  <th>No. Observations:</th>      <td>   772</td>      <th>  AIC:               </th> <td>1.407e+04</td>\n",
       "</tr>\n",
       "<tr>\n",
       "  <th>Df Residuals:</th>          <td>   770</td>      <th>  BIC:               </th> <td>1.408e+04</td>\n",
       "</tr>\n",
       "<tr>\n",
       "  <th>Df Model:</th>              <td>     1</td>      <th>                     </th>     <td> </td>    \n",
       "</tr>\n",
       "<tr>\n",
       "  <th>Covariance Type:</th>      <td>nonrobust</td>    <th>                     </th>     <td> </td>    \n",
       "</tr>\n",
       "</table>\n",
       "<table class=\"simpletable\">\n",
       "<tr>\n",
       "    <td></td>       <th>coef</th>     <th>std err</th>      <th>t</th>      <th>P>|t|</th>  <th>[0.025</th>    <th>0.975]</th>  \n",
       "</tr>\n",
       "<tr>\n",
       "  <th>const</th> <td>-3020.1627</td> <td>  154.225</td> <td>  -19.583</td> <td> 0.000</td> <td>-3322.915</td> <td>-2717.410</td>\n",
       "</tr>\n",
       "<tr>\n",
       "  <th>CPI</th>   <td>   59.8390</td> <td>    0.986</td> <td>   60.686</td> <td> 0.000</td> <td>   57.903</td> <td>   61.775</td>\n",
       "</tr>\n",
       "</table>\n",
       "<table class=\"simpletable\">\n",
       "<tr>\n",
       "  <th>Omnibus:</th>       <td>170.915</td> <th>  Durbin-Watson:     </th> <td>   0.001</td>\n",
       "</tr>\n",
       "<tr>\n",
       "  <th>Prob(Omnibus):</th> <td> 0.000</td>  <th>  Jarque-Bera (JB):  </th> <td> 345.017</td>\n",
       "</tr>\n",
       "<tr>\n",
       "  <th>Skew:</th>          <td> 1.247</td>  <th>  Prob(JB):          </th> <td>1.20e-75</td>\n",
       "</tr>\n",
       "<tr>\n",
       "  <th>Kurtosis:</th>      <td> 5.123</td>  <th>  Cond. No.          </th> <td>    306.</td>\n",
       "</tr>\n",
       "</table><br/><br/>Notes:<br/>[1] Standard Errors assume that the covariance matrix of the errors is correctly specified."
      ],
      "text/plain": [
       "<class 'statsmodels.iolib.summary.Summary'>\n",
       "\"\"\"\n",
       "                            OLS Regression Results                            \n",
       "==============================================================================\n",
       "Dep. Variable:                     M2   R-squared:                       0.827\n",
       "Model:                            OLS   Adj. R-squared:                  0.827\n",
       "Method:                 Least Squares   F-statistic:                     3683.\n",
       "Date:                Wed, 05 Jul 2023   Prob (F-statistic):          1.19e-295\n",
       "Time:                        21:28:43   Log-Likelihood:                -7032.3\n",
       "No. Observations:                 772   AIC:                         1.407e+04\n",
       "Df Residuals:                     770   BIC:                         1.408e+04\n",
       "Df Model:                           1                                         \n",
       "Covariance Type:            nonrobust                                         \n",
       "==============================================================================\n",
       "                 coef    std err          t      P>|t|      [0.025      0.975]\n",
       "------------------------------------------------------------------------------\n",
       "const      -3020.1627    154.225    -19.583      0.000   -3322.915   -2717.410\n",
       "CPI           59.8390      0.986     60.686      0.000      57.903      61.775\n",
       "==============================================================================\n",
       "Omnibus:                      170.915   Durbin-Watson:                   0.001\n",
       "Prob(Omnibus):                  0.000   Jarque-Bera (JB):              345.017\n",
       "Skew:                           1.247   Prob(JB):                     1.20e-75\n",
       "Kurtosis:                       5.123   Cond. No.                         306.\n",
       "==============================================================================\n",
       "\n",
       "Notes:\n",
       "[1] Standard Errors assume that the covariance matrix of the errors is correctly specified.\n",
       "\"\"\""
      ]
     },
     "execution_count": 14,
     "metadata": {},
     "output_type": "execute_result"
    }
   ],
   "source": [
    "LAG = FREQ\n",
    "\n",
    "X = prices\n",
    "y = money\n",
    "\n",
    "results = sm.OLS(y,sm.add_constant(X)).fit()\n",
    "results.summary()"
   ]
  },
  {
   "cell_type": "markdown",
   "id": "3742a7e5",
   "metadata": {},
   "source": [
    "## <span style='color:red'>1.2</span>"
   ]
  },
  {
   "cell_type": "code",
   "execution_count": 10,
   "id": "191c3a38",
   "metadata": {},
   "outputs": [
    {
     "name": "stderr",
     "output_type": "stream",
     "text": [
      "C:\\ProgramData\\Anaconda3\\lib\\site-packages\\statsmodels\\tsa\\tsatools.py:142: FutureWarning: In a future version of pandas all arguments of concat except for the argument 'objs' will be keyword-only\n",
      "  x = pd.concat(x[::order], 1)\n"
     ]
    },
    {
     "data": {
      "text/html": [
       "<table class=\"simpletable\">\n",
       "<caption>OLS Regression Results</caption>\n",
       "<tr>\n",
       "  <th>Dep. Variable:</th>        <td>inflation</td>    <th>  R-squared:         </th> <td>   0.004</td>\n",
       "</tr>\n",
       "<tr>\n",
       "  <th>Model:</th>                   <td>OLS</td>       <th>  Adj. R-squared:    </th> <td>   0.003</td>\n",
       "</tr>\n",
       "<tr>\n",
       "  <th>Method:</th>             <td>Least Squares</td>  <th>  F-statistic:       </th> <td>   2.975</td>\n",
       "</tr>\n",
       "<tr>\n",
       "  <th>Date:</th>             <td>Wed, 05 Jul 2023</td> <th>  Prob (F-statistic):</th>  <td>0.0850</td> \n",
       "</tr>\n",
       "<tr>\n",
       "  <th>Time:</th>                 <td>15:50:27</td>     <th>  Log-Likelihood:    </th> <td>  1630.0</td>\n",
       "</tr>\n",
       "<tr>\n",
       "  <th>No. Observations:</th>      <td>   760</td>      <th>  AIC:               </th> <td>  -3256.</td>\n",
       "</tr>\n",
       "<tr>\n",
       "  <th>Df Residuals:</th>          <td>   758</td>      <th>  BIC:               </th> <td>  -3247.</td>\n",
       "</tr>\n",
       "<tr>\n",
       "  <th>Df Model:</th>              <td>     1</td>      <th>                     </th>     <td> </td>   \n",
       "</tr>\n",
       "<tr>\n",
       "  <th>Covariance Type:</th>      <td>nonrobust</td>    <th>                     </th>     <td> </td>   \n",
       "</tr>\n",
       "</table>\n",
       "<table class=\"simpletable\">\n",
       "<tr>\n",
       "        <td></td>          <th>coef</th>     <th>std err</th>      <th>t</th>      <th>P>|t|</th>  <th>[0.025</th>    <th>0.975]</th>  \n",
       "</tr>\n",
       "<tr>\n",
       "  <th>const</th>        <td>    0.0343</td> <td>    0.002</td> <td>   15.283</td> <td> 0.000</td> <td>    0.030</td> <td>    0.039</td>\n",
       "</tr>\n",
       "<tr>\n",
       "  <th>money growth</th> <td>    0.0487</td> <td>    0.028</td> <td>    1.725</td> <td> 0.085</td> <td>   -0.007</td> <td>    0.104</td>\n",
       "</tr>\n",
       "</table>\n",
       "<table class=\"simpletable\">\n",
       "<tr>\n",
       "  <th>Omnibus:</th>       <td>201.249</td> <th>  Durbin-Watson:     </th> <td>   0.019</td>\n",
       "</tr>\n",
       "<tr>\n",
       "  <th>Prob(Omnibus):</th> <td> 0.000</td>  <th>  Jarque-Bera (JB):  </th> <td> 428.752</td>\n",
       "</tr>\n",
       "<tr>\n",
       "  <th>Skew:</th>          <td> 1.464</td>  <th>  Prob(JB):          </th> <td>7.90e-94</td>\n",
       "</tr>\n",
       "<tr>\n",
       "  <th>Kurtosis:</th>      <td> 5.229</td>  <th>  Cond. No.          </th> <td>    27.6</td>\n",
       "</tr>\n",
       "</table><br/><br/>Notes:<br/>[1] Standard Errors assume that the covariance matrix of the errors is correctly specified."
      ],
      "text/plain": [
       "<class 'statsmodels.iolib.summary.Summary'>\n",
       "\"\"\"\n",
       "                            OLS Regression Results                            \n",
       "==============================================================================\n",
       "Dep. Variable:              inflation   R-squared:                       0.004\n",
       "Model:                            OLS   Adj. R-squared:                  0.003\n",
       "Method:                 Least Squares   F-statistic:                     2.975\n",
       "Date:                Wed, 05 Jul 2023   Prob (F-statistic):             0.0850\n",
       "Time:                        15:50:27   Log-Likelihood:                 1630.0\n",
       "No. Observations:                 760   AIC:                            -3256.\n",
       "Df Residuals:                     758   BIC:                            -3247.\n",
       "Df Model:                           1                                         \n",
       "Covariance Type:            nonrobust                                         \n",
       "================================================================================\n",
       "                   coef    std err          t      P>|t|      [0.025      0.975]\n",
       "--------------------------------------------------------------------------------\n",
       "const            0.0343      0.002     15.283      0.000       0.030       0.039\n",
       "money growth     0.0487      0.028      1.725      0.085      -0.007       0.104\n",
       "==============================================================================\n",
       "Omnibus:                      201.249   Durbin-Watson:                   0.019\n",
       "Prob(Omnibus):                  0.000   Jarque-Bera (JB):              428.752\n",
       "Skew:                           1.464   Prob(JB):                     7.90e-94\n",
       "Kurtosis:                       5.229   Cond. No.                         27.6\n",
       "==============================================================================\n",
       "\n",
       "Notes:\n",
       "[1] Standard Errors assume that the covariance matrix of the errors is correctly specified.\n",
       "\"\"\""
      ]
     },
     "execution_count": 10,
     "metadata": {},
     "output_type": "execute_result"
    }
   ],
   "source": [
    "HORZ = FREQ\n",
    "\n",
    "inflation = (prices / prices.shift(HORZ) -1).dropna()\n",
    "money_growth = (money/money.shift(HORZ) - 1).dropna()\n",
    "\n",
    "inflation.name = 'inflation'\n",
    "money_growth.name = 'money growth'\n",
    "\n",
    "X = money_growth\n",
    "y = inflation\n",
    "\n",
    "results = sm.OLS(y,sm.add_constant(X)).fit()\n",
    "results.summary()"
   ]
  },
  {
   "cell_type": "markdown",
   "id": "f060ff65",
   "metadata": {},
   "source": [
    "## <span style='color:red'>1.3</span>"
   ]
  },
  {
   "cell_type": "markdown",
   "id": "3055b8a3",
   "metadata": {},
   "source": [
    "The results from the first regression, in levels, differ greatly from the results from the second regression, in growth rates.\n",
    "\n",
    "* In the level regression, we get an r-squared near one and large, significant beta.\n",
    "\n",
    "* In the growth-rate regression, we get an r-squared near zero, and small, insignificant beta.\n",
    "\n",
    "This is because the level regression is trying to analyze data that have trends, and thus aren't stationary. The regression is finding the common trends in both series and interpreting that as a large explanatory power. This is an inappropriate model for trending data.\n",
    "\n",
    "Using growth rates, we see that there is very little **contemporaneous** relation between money growth and inflation.\n",
    "\n",
    "See 1.7 for a look at whether money growth and/or inflation can explain future values."
   ]
  },
  {
   "cell_type": "markdown",
   "id": "ed62e7e5",
   "metadata": {},
   "source": [
    "## <span style='color:red'>1.4</span>"
   ]
  },
  {
   "cell_type": "code",
   "execution_count": 11,
   "id": "bf68d335",
   "metadata": {},
   "outputs": [
    {
     "name": "stderr",
     "output_type": "stream",
     "text": [
      "C:\\ProgramData\\Anaconda3\\lib\\site-packages\\statsmodels\\tsa\\tsatools.py:142: FutureWarning: In a future version of pandas all arguments of concat except for the argument 'objs' will be keyword-only\n",
      "  x = pd.concat(x[::order], 1)\n"
     ]
    },
    {
     "data": {
      "text/html": [
       "<table class=\"simpletable\">\n",
       "<caption>OLS Regression Results</caption>\n",
       "<tr>\n",
       "  <th>Dep. Variable:</th>        <td>inflation</td>    <th>  R-squared:         </th> <td>   0.004</td>\n",
       "</tr>\n",
       "<tr>\n",
       "  <th>Model:</th>                   <td>OLS</td>       <th>  Adj. R-squared:    </th> <td>   0.003</td>\n",
       "</tr>\n",
       "<tr>\n",
       "  <th>Method:</th>             <td>Least Squares</td>  <th>  F-statistic:       </th> <td>   2.975</td>\n",
       "</tr>\n",
       "<tr>\n",
       "  <th>Date:</th>             <td>Wed, 05 Jul 2023</td> <th>  Prob (F-statistic):</th>  <td>0.0850</td> \n",
       "</tr>\n",
       "<tr>\n",
       "  <th>Time:</th>                 <td>15:50:45</td>     <th>  Log-Likelihood:    </th> <td>  1630.0</td>\n",
       "</tr>\n",
       "<tr>\n",
       "  <th>No. Observations:</th>      <td>   760</td>      <th>  AIC:               </th> <td>  -3256.</td>\n",
       "</tr>\n",
       "<tr>\n",
       "  <th>Df Residuals:</th>          <td>   758</td>      <th>  BIC:               </th> <td>  -3247.</td>\n",
       "</tr>\n",
       "<tr>\n",
       "  <th>Df Model:</th>              <td>     1</td>      <th>                     </th>     <td> </td>   \n",
       "</tr>\n",
       "<tr>\n",
       "  <th>Covariance Type:</th>      <td>nonrobust</td>    <th>                     </th>     <td> </td>   \n",
       "</tr>\n",
       "</table>\n",
       "<table class=\"simpletable\">\n",
       "<tr>\n",
       "        <td></td>          <th>coef</th>     <th>std err</th>      <th>t</th>      <th>P>|t|</th>  <th>[0.025</th>    <th>0.975]</th>  \n",
       "</tr>\n",
       "<tr>\n",
       "  <th>const</th>        <td>    0.0343</td> <td>    0.002</td> <td>   15.283</td> <td> 0.000</td> <td>    0.030</td> <td>    0.039</td>\n",
       "</tr>\n",
       "<tr>\n",
       "  <th>money growth</th> <td>    0.0487</td> <td>    0.028</td> <td>    1.725</td> <td> 0.085</td> <td>   -0.007</td> <td>    0.104</td>\n",
       "</tr>\n",
       "</table>\n",
       "<table class=\"simpletable\">\n",
       "<tr>\n",
       "  <th>Omnibus:</th>       <td>201.249</td> <th>  Durbin-Watson:     </th> <td>   0.019</td>\n",
       "</tr>\n",
       "<tr>\n",
       "  <th>Prob(Omnibus):</th> <td> 0.000</td>  <th>  Jarque-Bera (JB):  </th> <td> 428.752</td>\n",
       "</tr>\n",
       "<tr>\n",
       "  <th>Skew:</th>          <td> 1.464</td>  <th>  Prob(JB):          </th> <td>7.90e-94</td>\n",
       "</tr>\n",
       "<tr>\n",
       "  <th>Kurtosis:</th>      <td> 5.229</td>  <th>  Cond. No.          </th> <td>    27.6</td>\n",
       "</tr>\n",
       "</table><br/><br/>Notes:<br/>[1] Standard Errors assume that the covariance matrix of the errors is correctly specified."
      ],
      "text/plain": [
       "<class 'statsmodels.iolib.summary.Summary'>\n",
       "\"\"\"\n",
       "                            OLS Regression Results                            \n",
       "==============================================================================\n",
       "Dep. Variable:              inflation   R-squared:                       0.004\n",
       "Model:                            OLS   Adj. R-squared:                  0.003\n",
       "Method:                 Least Squares   F-statistic:                     2.975\n",
       "Date:                Wed, 05 Jul 2023   Prob (F-statistic):             0.0850\n",
       "Time:                        15:50:45   Log-Likelihood:                 1630.0\n",
       "No. Observations:                 760   AIC:                            -3256.\n",
       "Df Residuals:                     758   BIC:                            -3247.\n",
       "Df Model:                           1                                         \n",
       "Covariance Type:            nonrobust                                         \n",
       "================================================================================\n",
       "                   coef    std err          t      P>|t|      [0.025      0.975]\n",
       "--------------------------------------------------------------------------------\n",
       "const            0.0343      0.002     15.283      0.000       0.030       0.039\n",
       "money growth     0.0487      0.028      1.725      0.085      -0.007       0.104\n",
       "==============================================================================\n",
       "Omnibus:                      201.249   Durbin-Watson:                   0.019\n",
       "Prob(Omnibus):                  0.000   Jarque-Bera (JB):              428.752\n",
       "Skew:                           1.464   Prob(JB):                     7.90e-94\n",
       "Kurtosis:                       5.229   Cond. No.                         27.6\n",
       "==============================================================================\n",
       "\n",
       "Notes:\n",
       "[1] Standard Errors assume that the covariance matrix of the errors is correctly specified.\n",
       "\"\"\""
      ]
     },
     "execution_count": 11,
     "metadata": {},
     "output_type": "execute_result"
    }
   ],
   "source": [
    "results = sm.OLS(y,sm.add_constant(X)).fit()\n",
    "\n",
    "e = results.resid\n",
    "\n",
    "if len(e.shape)==1:\n",
    "    e = pd.Series(e)\n",
    "\n",
    "results.summary()"
   ]
  },
  {
   "cell_type": "code",
   "execution_count": 12,
   "id": "55179865",
   "metadata": {},
   "outputs": [
    {
     "data": {
      "image/png": "[encoded data removed]",
      "text/plain": [
       "<Figure size 864x432 with 1 Axes>"
      ]
     },
     "metadata": {
      "needs_background": "light"
     },
     "output_type": "display_data"
    }
   ],
   "source": [
    "e.plot()\n",
    "plt.show()"
   ]
  },
  {
   "cell_type": "markdown",
   "id": "52c9a7ad",
   "metadata": {},
   "source": [
    "## <span style='color:red'>1.5</span>"
   ]
  },
  {
   "cell_type": "markdown",
   "id": "385e189e",
   "metadata": {},
   "source": [
    "Under the classic OLS assumptions, we find that for the growth-rate regression of 1.2...\n",
    "* alpha is statistically significant, which simply confirms the series have different menas.\n",
    "* beta is not statistically significant at the 5-percent level, (though it is at the 10-percent level.)\n",
    "\n",
    "These p-values are dependent on OLS fitting the classic assumptions.\n",
    "* This is a concern, as the data seemingly has heteroskedasticity, as well as serial correlation. Thus, we have reason to not trust the default, classic inference stats above.\n",
    "\n",
    "The estimated beta and alpha are not impacted by the heteroskedasticy.\n",
    "* The beta estimate might be consistent (diminishing bias in large samples.) But this depends on the nature of the serial correlation of the errors.\n",
    "* As seen in the lecture discussion, we have more concerns about beta estimates being inconsistent, (biased even in large samples,) for autoregressions with AR serial correlation. \n",
    "* Here, we are regressing contemporaneously rather than on lags, so we can expect the beta estimates to avoid this problem."
   ]
  },
  {
   "cell_type": "markdown",
   "id": "c6734e7e",
   "metadata": {},
   "source": [
    "## <span style='color:red'>1.6</span>"
   ]
  },
  {
   "cell_type": "markdown",
   "id": "cc4a05c3",
   "metadata": {},
   "source": [
    "We clearly have serial correlation, as indicated by the Durbin-Watson test, and as indicated in the plot of the residuals.\n",
    "\n",
    "White's test indicates clearly that there is heteroskedasticity."
   ]
  },
  {
   "cell_type": "markdown",
   "id": "2af0c8ce",
   "metadata": {},
   "source": [
    "## <span style='color:red'>1.7</span>"
   ]
  },
  {
   "cell_type": "code",
   "execution_count": 13,
   "id": "ac928a31",
   "metadata": {},
   "outputs": [],
   "source": [
    "horizons = FREQ * np.array([1,2,3])\n",
    "if 1 not in horizons:\n",
    "    horizons = np.insert(horizons,0,1)\n",
    "\n",
    "r2 = pd.DataFrame(index=pd.Index(horizons,name='horizon (months)'),columns=['inflation','money growth','both'],dtype=float)\n",
    "betas_uni = r2[['inflation','money growth']].copy()\n",
    "betas_multi = betas_uni.copy()\n",
    "\n",
    "for LAG in horizons:\n",
    "\n",
    "    inflation = (prices / prices.shift(LAG) -1).dropna()\n",
    "    money_growth = (money/money.shift(LAG) - 1).dropna()\n",
    "    inflation.name = 'inflation'\n",
    "    money_growth.name = 'money growth'\n",
    "    \n",
    "    Xi,y = set_autoregressor(inflation,LAG)\n",
    "    mod = LinearRegression().fit(Xi,y)    \n",
    "    lab = r2.columns[0]\n",
    "    r2.loc[LAG,lab] = mod.score(Xi,y)\n",
    "    betas_uni.loc[LAG,lab] = mod.coef_\n",
    "    \n",
    "    Xm,y = set_autoregressor(money_growth,LAG)\n",
    "    mod = LinearRegression().fit(Xm,y)\n",
    "    lab = r2.columns[1]\n",
    "    r2.loc[LAG,lab] = mod.score(Xm,y)\n",
    "    betas_uni.loc[LAG,lab] = mod.coef_\n",
    "        \n",
    "    X = pd.DataFrame(index=inflation.index[LAG:],data=np.concatenate((Xi,Xm),axis=1),columns=['inflation','money growth'])\n",
    "    y,X = inflation.align(X,join='inner')\n",
    "    mod = LinearRegression().fit(X,y)\n",
    "    lab = r2.columns[2]\n",
    "    r2.loc[LAG,lab] = mod.score(X,y)\n",
    "    betas_multi.loc[LAG,:] = mod.coef_"
   ]
  },
  {
   "cell_type": "code",
   "execution_count": 14,
   "id": "ebbe27ab",
   "metadata": {},
   "outputs": [
    {
     "data": {
      "text/html": [
       "<style type=\"text/css\">\n",
       "</style>\n",
       "<table id=\"T_1c963_\">\n",
       "  <caption>betas</caption>\n",
       "  <thead>\n",
       "    <tr>\n",
       "      <th class=\"blank level0\" >&nbsp;</th>\n",
       "      <th class=\"col_heading level0 col0\" colspan=\"2\">univariate</th>\n",
       "      <th class=\"col_heading level0 col2\" colspan=\"2\">multivariate</th>\n",
       "    </tr>\n",
       "    <tr>\n",
       "      <th class=\"blank level1\" >&nbsp;</th>\n",
       "      <th class=\"col_heading level1 col0\" >inflation</th>\n",
       "      <th class=\"col_heading level1 col1\" >money growth</th>\n",
       "      <th class=\"col_heading level1 col2\" >inflation</th>\n",
       "      <th class=\"col_heading level1 col3\" >money growth</th>\n",
       "    </tr>\n",
       "    <tr>\n",
       "      <th class=\"index_name level0\" >horizon (months)</th>\n",
       "      <th class=\"blank col0\" >&nbsp;</th>\n",
       "      <th class=\"blank col1\" >&nbsp;</th>\n",
       "      <th class=\"blank col2\" >&nbsp;</th>\n",
       "      <th class=\"blank col3\" >&nbsp;</th>\n",
       "    </tr>\n",
       "  </thead>\n",
       "  <tbody>\n",
       "    <tr>\n",
       "      <th id=\"T_1c963_level0_row0\" class=\"row_heading level0 row0\" >1</th>\n",
       "      <td id=\"T_1c963_row0_col0\" class=\"data row0 col0\" >62.5%</td>\n",
       "      <td id=\"T_1c963_row0_col1\" class=\"data row0 col1\" >65.6%</td>\n",
       "      <td id=\"T_1c963_row0_col2\" class=\"data row0 col2\" >62.8%</td>\n",
       "      <td id=\"T_1c963_row0_col3\" class=\"data row0 col3\" >2.5%</td>\n",
       "    </tr>\n",
       "    <tr>\n",
       "      <th id=\"T_1c963_level0_row1\" class=\"row_heading level0 row1\" >12</th>\n",
       "      <td id=\"T_1c963_row1_col0\" class=\"data row1 col0\" >75.0%</td>\n",
       "      <td id=\"T_1c963_row1_col1\" class=\"data row1 col1\" >37.6%</td>\n",
       "      <td id=\"T_1c963_row1_col2\" class=\"data row1 col2\" >72.7%</td>\n",
       "      <td id=\"T_1c963_row1_col3\" class=\"data row1 col3\" >20.0%</td>\n",
       "    </tr>\n",
       "    <tr>\n",
       "      <th id=\"T_1c963_level0_row2\" class=\"row_heading level0 row2\" >24</th>\n",
       "      <td id=\"T_1c963_row2_col0\" class=\"data row2 col0\" >61.0%</td>\n",
       "      <td id=\"T_1c963_row2_col1\" class=\"data row2 col1\" >24.7%</td>\n",
       "      <td id=\"T_1c963_row2_col2\" class=\"data row2 col2\" >51.7%</td>\n",
       "      <td id=\"T_1c963_row2_col3\" class=\"data row2 col3\" >39.8%</td>\n",
       "    </tr>\n",
       "    <tr>\n",
       "      <th id=\"T_1c963_level0_row3\" class=\"row_heading level0 row3\" >36</th>\n",
       "      <td id=\"T_1c963_row3_col0\" class=\"data row3 col0\" >58.5%</td>\n",
       "      <td id=\"T_1c963_row3_col1\" class=\"data row3 col1\" >43.5%</td>\n",
       "      <td id=\"T_1c963_row3_col2\" class=\"data row3 col2\" >40.0%</td>\n",
       "      <td id=\"T_1c963_row3_col3\" class=\"data row3 col3\" >49.3%</td>\n",
       "    </tr>\n",
       "  </tbody>\n",
       "</table>\n"
      ],
      "text/plain": [
       "<pandas.io.formats.style.Styler at 0x202d3f3d1f0>"
      ]
     },
     "metadata": {},
     "output_type": "display_data"
    },
    {
     "data": {
      "text/html": [
       "<style type=\"text/css\">\n",
       "</style>\n",
       "<table id=\"T_0ef76_\">\n",
       "  <caption>r-squared</caption>\n",
       "  <thead>\n",
       "    <tr>\n",
       "      <th class=\"blank level0\" >&nbsp;</th>\n",
       "      <th class=\"col_heading level0 col0\" >inflation</th>\n",
       "      <th class=\"col_heading level0 col1\" >money growth</th>\n",
       "      <th class=\"col_heading level0 col2\" >both</th>\n",
       "    </tr>\n",
       "    <tr>\n",
       "      <th class=\"index_name level0\" >horizon (months)</th>\n",
       "      <th class=\"blank col0\" >&nbsp;</th>\n",
       "      <th class=\"blank col1\" >&nbsp;</th>\n",
       "      <th class=\"blank col2\" >&nbsp;</th>\n",
       "    </tr>\n",
       "  </thead>\n",
       "  <tbody>\n",
       "    <tr>\n",
       "      <th id=\"T_0ef76_level0_row0\" class=\"row_heading level0 row0\" >1</th>\n",
       "      <td id=\"T_0ef76_row0_col0\" class=\"data row0 col0\" >39.1%</td>\n",
       "      <td id=\"T_0ef76_row0_col1\" class=\"data row0 col1\" >42.6%</td>\n",
       "      <td id=\"T_0ef76_row0_col2\" class=\"data row0 col2\" >39.3%</td>\n",
       "    </tr>\n",
       "    <tr>\n",
       "      <th id=\"T_0ef76_level0_row1\" class=\"row_heading level0 row1\" >12</th>\n",
       "      <td id=\"T_0ef76_row1_col0\" class=\"data row1 col0\" >55.4%</td>\n",
       "      <td id=\"T_0ef76_row1_col1\" class=\"data row1 col1\" >13.5%</td>\n",
       "      <td id=\"T_0ef76_row1_col2\" class=\"data row1 col2\" >61.6%</td>\n",
       "    </tr>\n",
       "    <tr>\n",
       "      <th id=\"T_0ef76_level0_row2\" class=\"row_heading level0 row2\" >24</th>\n",
       "      <td id=\"T_0ef76_row2_col0\" class=\"data row2 col0\" >37.5%</td>\n",
       "      <td id=\"T_0ef76_row2_col1\" class=\"data row2 col1\" >4.7%</td>\n",
       "      <td id=\"T_0ef76_row2_col2\" class=\"data row2 col2\" >53.0%</td>\n",
       "    </tr>\n",
       "    <tr>\n",
       "      <th id=\"T_0ef76_level0_row3\" class=\"row_heading level0 row3\" >36</th>\n",
       "      <td id=\"T_0ef76_row3_col0\" class=\"data row3 col0\" >35.5%</td>\n",
       "      <td id=\"T_0ef76_row3_col1\" class=\"data row3 col1\" >14.0%</td>\n",
       "      <td id=\"T_0ef76_row3_col2\" class=\"data row3 col2\" >52.3%</td>\n",
       "    </tr>\n",
       "  </tbody>\n",
       "</table>\n"
      ],
      "text/plain": [
       "<pandas.io.formats.style.Styler at 0x202d3f3da90>"
      ]
     },
     "metadata": {},
     "output_type": "display_data"
    }
   ],
   "source": [
    "display(pd.concat([betas_uni,betas_multi],axis=1,keys=['univariate','multivariate']).style.set_caption('betas').format('{:.1%}'))\n",
    "display(r2.style.set_caption('r-squared').format('{:.1%}'))"
   ]
  },
  {
   "cell_type": "markdown",
   "id": "6d88f282",
   "metadata": {},
   "source": [
    "***"
   ]
  },
  {
   "cell_type": "markdown",
   "id": "3e75c798",
   "metadata": {},
   "source": [
    "# 2 Models of Volatility"
   ]
  },
  {
   "cell_type": "markdown",
   "id": "7cf2a725",
   "metadata": {},
   "source": [
    "We will calculate a time-series of volatility estimates using a few different methods. For each, we use $\\sigma_t$ to denote our estimate of the time-$t$ return volatility, as based on data over periods through $t-1$, but not including $t$ itself. \n",
    "\n",
    "This problem uses data from `data/money_inflation_spy_data.xlsx`.\n",
    "\n",
    "Estimate the following using the SPY return series. We use a common (but biased) version of the usual variance estimator by ignoring $\\mu$ and dividing by the number of data points, rather than by the degrees of freedom. "
   ]
  },
  {
   "cell_type": "markdown",
   "id": "f9497901",
   "metadata": {},
   "source": [
    "### Expanding Series\n",
    "$$\\begin{align*}\n",
    "\\sigma^2_{t} =& \\frac{1}{t-1}\\sum_{\\tau=1}^{t-1} r_\\tau ^ 2\n",
    "\\end{align*}$$\n",
    "\n",
    "Begin the calculation at $t=61$, so that the first estimate is based on 60 data points.\n",
    "\n",
    "### Rolling Window\n",
    "\\begin{align*}\n",
    "\\sigma^2_{t} =& \\frac{1}{m}\\sum_{l=1}^{m} r_{t-l}^2\n",
    "\\end{align*}\n",
    "Use $m=60$, and begin the calculation at the $t=61$, (so that the calculation has a full 60 data points.) Consider using pandas method `df.rolling(60).std()`, where `df` is replaced by the name of your pandas dataframe."
   ]
  },
  {
   "cell_type": "markdown",
   "id": "bb563290",
   "metadata": {},
   "source": [
    "### IGARCH \n",
    "(famously used in *JP Morgan's Risk Metrics*)\n",
    "$$\\begin{align*}\n",
    "\\sigma^2_{t} =& \\theta \\sigma^2_{t-1} + (1-\\theta) r_{t-1}^2\n",
    "\\end{align*}$$\n",
    "\n",
    "Rather than estimating $\\theta$, simply use $\\theta = 0.97$, and initialize with $\\sigma_1 = 0.15\\left(\\frac{1}{\\sqrt{12}}\\right)$.\n",
    "\n",
    "\n",
    "### GARCH(1,1)\n",
    "$$\\begin{align*}\n",
    "\\sigma^2_{t} =& \\omega + \\theta \\sigma^2_{t-1} + \\gamma r_{t-1}^2\n",
    "\\end{align*}$$\n",
    "\n",
    "To estimate GARCH(1,1), try using the ARCH package in Python. The default estimation implementation is fine, (and will account for $\\mu$ and degrees of freedom.) "
   ]
  },
  {
   "cell_type": "markdown",
   "id": "174ee830",
   "metadata": {},
   "source": [
    "For each of these methods, \n",
    "\n",
    "## 2.1\n",
    "Plot $\\sigma_t$. (Plot the volatility, the square-root of the variance.)\n",
    "\n",
    "## 2.2\n",
    "Report the estimation for October 2008, April 2020, and May 2023."
   ]
  },
  {
   "cell_type": "markdown",
   "id": "361679e2",
   "metadata": {},
   "source": [
    "***"
   ]
  },
  {
   "cell_type": "markdown",
   "id": "e511ee4a",
   "metadata": {},
   "source": [
    "# <span style='color:red'>Solution 2</span>"
   ]
  },
  {
   "cell_type": "code",
   "execution_count": 15,
   "id": "2712cf00",
   "metadata": {
    "ExecuteTime": {
     "end_time": "2021-06-24T01:37:08.632979Z",
     "start_time": "2021-06-24T01:37:08.625990Z"
    }
   },
   "outputs": [],
   "source": [
    "import pandas as pd\n",
    "import numpy as np\n",
    "\n",
    "import warnings\n",
    "warnings.filterwarnings('ignore')\n",
    "\n",
    "from matplotlib import pyplot as plt\n",
    "import matplotlib.pyplot as plt\n",
    "%matplotlib inline\n",
    "plt.rcParams['figure.figsize'] = (12,6)\n",
    "plt.rcParams['font.size'] = 15\n",
    "plt.rcParams['legend.fontsize'] = 13"
   ]
  },
  {
   "cell_type": "code",
   "execution_count": 16,
   "id": "cb77c8f4",
   "metadata": {
    "ExecuteTime": {
     "end_time": "2021-06-24T01:37:08.632979Z",
     "start_time": "2021-06-24T01:37:08.625990Z"
    }
   },
   "outputs": [],
   "source": [
    "import statsmodels.api as sm\n",
    "from sklearn.linear_model import LinearRegression\n",
    "\n",
    "from arch import arch_model\n",
    "from arch.univariate import GARCH, EWMAVariance "
   ]
  },
  {
   "cell_type": "markdown",
   "id": "ae9e0798",
   "metadata": {},
   "source": [
    "### Setup"
   ]
  },
  {
   "cell_type": "code",
   "execution_count": 19,
   "id": "2c44ed51",
   "metadata": {},
   "outputs": [],
   "source": [
    "spy = pd.read_excel('hw_3_2_data.xlsx',sheet_name='s&p500').set_index('Date')\n",
    "FREQ = 12"
   ]
  },
  {
   "cell_type": "markdown",
   "id": "9f516578",
   "metadata": {},
   "source": [
    "## <span style='color:red'>2.1</span>"
   ]
  },
  {
   "cell_type": "markdown",
   "id": "5a3641ff",
   "metadata": {},
   "source": [
    "### Initial Conditions"
   ]
  },
  {
   "cell_type": "code",
   "execution_count": 20,
   "id": "eb0a8c41",
   "metadata": {},
   "outputs": [],
   "source": [
    "var_1 = (0.15 * (1 / (12**0.5)))**2\n",
    "theta = 0.97"
   ]
  },
  {
   "cell_type": "markdown",
   "id": "48ee4d4e",
   "metadata": {},
   "source": [
    "### Calculate the Expanding Series and Rolling Window estimates:"
   ]
  },
  {
   "cell_type": "code",
   "execution_count": 24,
   "id": "4a91b14a",
   "metadata": {},
   "outputs": [],
   "source": [
    "### Expanding Window\n",
    "var = (spy**2).shift(1).expanding().mean().rename(columns={'SPY':'Expanding Window'})\n",
    "\n",
    "### Rolling Window\n",
    "var['Rolling Window'] = (spy**2).shift(1).rolling(5*FREQ).mean() "
   ]
  },
  {
   "cell_type": "markdown",
   "id": "bed7727e",
   "metadata": {},
   "source": [
    "### Using the arch package, fit a GARCH(1, 1) model. We will use the parameters generated to find our estimates:"
   ]
  },
  {
   "cell_type": "code",
   "execution_count": 16,
   "id": "b8bf2024",
   "metadata": {},
   "outputs": [
    {
     "name": "stdout",
     "output_type": "stream",
     "text": [
      "Iteration:      1,   Func. Count:      6,   Neg. LLF: 113576792.48929049\n",
      "Iteration:      2,   Func. Count:     17,   Neg. LLF: 865.0833522750617\n",
      "Iteration:      3,   Func. Count:     24,   Neg. LLF: -620.3029832091712\n",
      "Iteration:      4,   Func. Count:     32,   Neg. LLF: -558.9999841312294\n",
      "Iteration:      5,   Func. Count:     38,   Neg. LLF: -657.183244313001\n",
      "Iteration:      6,   Func. Count:     44,   Neg. LLF: -656.748524290093\n",
      "Iteration:      7,   Func. Count:     50,   Neg. LLF: -655.4629992663108\n",
      "Iteration:      8,   Func. Count:     56,   Neg. LLF: -658.9168771786276\n",
      "Iteration:      9,   Func. Count:     61,   Neg. LLF: -658.9213625978581\n",
      "Iteration:     10,   Func. Count:     66,   Neg. LLF: -658.92177659182\n",
      "Iteration:     11,   Func. Count:     71,   Neg. LLF: -658.9217865189701\n",
      "Iteration:     12,   Func. Count:     75,   Neg. LLF: -658.9217865183964\n",
      "Optimization terminated successfully    (Exit mode 0)\n",
      "            Current function value: -658.9217865189701\n",
      "            Iterations: 12\n",
      "            Function evaluations: 75\n",
      "            Gradient evaluations: 12\n"
     ]
    },
    {
     "data": {
      "text/plain": [
       "mu          0.009896\n",
       "omega       0.000102\n",
       "alpha[1]    0.201481\n",
       "beta[1]     0.757830\n",
       "Name: params, dtype: float64"
      ]
     },
     "execution_count": 16,
     "metadata": {},
     "output_type": "execute_result"
    }
   ],
   "source": [
    "GARCH = arch_model(spy, vol='Garch', p=1, o=0, q=1, dist='Normal')\n",
    "\n",
    "GARCH_model = GARCH.fit()\n",
    "\n",
    "GARCH_model.params"
   ]
  },
  {
   "cell_type": "markdown",
   "id": "dc7f1508",
   "metadata": {},
   "source": [
    "We have $\\theta$ so we do not need the step below to find our estimates. However, this is an example of how to use the arch package to fit an IGARCH model. The package has several methods that could be useful in other applications."
   ]
  },
  {
   "cell_type": "code",
   "execution_count": 17,
   "id": "67f8367c",
   "metadata": {},
   "outputs": [
    {
     "name": "stdout",
     "output_type": "stream",
     "text": [
      "Iteration:      1,   Func. Count:      3,   Neg. LLF: 807806.4283460587\n",
      "Iteration:      2,   Func. Count:     10,   Neg. LLF: -632.7695495691239\n",
      "Optimization terminated successfully    (Exit mode 0)\n",
      "            Current function value: -632.7695495691593\n",
      "            Iterations: 2\n",
      "            Function evaluations: 10\n",
      "            Gradient evaluations: 2\n"
     ]
    },
    {
     "data": {
      "text/plain": [
       "mu    0.008559\n",
       "Name: params, dtype: float64"
      ]
     },
     "execution_count": 17,
     "metadata": {},
     "output_type": "execute_result"
    }
   ],
   "source": [
    "IGARCH = arch_model(spy)\n",
    "\n",
    "IGARCH.volatility = EWMAVariance(theta)\n",
    "\n",
    "IGARCH_model = IGARCH.fit()\n",
    "\n",
    "IGARCH_model.params"
   ]
  },
  {
   "cell_type": "markdown",
   "id": "c29ff692",
   "metadata": {},
   "source": [
    "We calculate our variance estimates for the GARCH and IGARCH models:"
   ]
  },
  {
   "cell_type": "code",
   "execution_count": 18,
   "id": "b26efb3b",
   "metadata": {},
   "outputs": [
    {
     "data": {
      "text/html": [
       "<div>\n",
       "<style scoped>\n",
       "    .dataframe tbody tr th:only-of-type {\n",
       "        vertical-align: middle;\n",
       "    }\n",
       "\n",
       "    .dataframe tbody tr th {\n",
       "        vertical-align: top;\n",
       "    }\n",
       "\n",
       "    .dataframe thead th {\n",
       "        text-align: right;\n",
       "    }\n",
       "</style>\n",
       "<table border=\"1\" class=\"dataframe\">\n",
       "  <thead>\n",
       "    <tr style=\"text-align: right;\">\n",
       "      <th></th>\n",
       "      <th>Expanding Window</th>\n",
       "      <th>Rolling Window</th>\n",
       "      <th>GARCH</th>\n",
       "      <th>IGARCH</th>\n",
       "    </tr>\n",
       "    <tr>\n",
       "      <th>Date</th>\n",
       "      <th></th>\n",
       "      <th></th>\n",
       "      <th></th>\n",
       "      <th></th>\n",
       "    </tr>\n",
       "  </thead>\n",
       "  <tbody>\n",
       "    <tr>\n",
       "      <th>2023-01-31</th>\n",
       "      <td>0.023204</td>\n",
       "      <td>0.035116</td>\n",
       "      <td>0.049894</td>\n",
       "      <td>0.03461</td>\n",
       "    </tr>\n",
       "    <tr>\n",
       "      <th>2023-02-28</th>\n",
       "      <td>0.023271</td>\n",
       "      <td>0.035272</td>\n",
       "      <td>0.048595</td>\n",
       "      <td>0.034995</td>\n",
       "    </tr>\n",
       "    <tr>\n",
       "      <th>2023-03-31</th>\n",
       "      <td>0.023228</td>\n",
       "      <td>0.035134</td>\n",
       "      <td>0.039577</td>\n",
       "      <td>0.034173</td>\n",
       "    </tr>\n",
       "    <tr>\n",
       "      <th>2023-04-30</th>\n",
       "      <td>0.023209</td>\n",
       "      <td>0.035259</td>\n",
       "      <td>0.034538</td>\n",
       "      <td>0.033642</td>\n",
       "    </tr>\n",
       "    <tr>\n",
       "      <th>2023-05-31</th>\n",
       "      <td>0.023153</td>\n",
       "      <td>0.035304</td>\n",
       "      <td>0.028013</td>\n",
       "      <td>0.032725</td>\n",
       "    </tr>\n",
       "  </tbody>\n",
       "</table>\n",
       "</div>"
      ],
      "text/plain": [
       "            Expanding Window  Rolling Window     GARCH    IGARCH\n",
       "Date                                                            \n",
       "2023-01-31          0.023204        0.035116  0.049894   0.03461\n",
       "2023-02-28          0.023271        0.035272  0.048595  0.034995\n",
       "2023-03-31          0.023228        0.035134  0.039577  0.034173\n",
       "2023-04-30          0.023209        0.035259  0.034538  0.033642\n",
       "2023-05-31          0.023153        0.035304  0.028013  0.032725"
      ]
     },
     "execution_count": 18,
     "metadata": {},
     "output_type": "execute_result"
    }
   ],
   "source": [
    "var[['GARCH','IGARCH']] = None\n",
    "\n",
    "### Initialize with the given parameter\n",
    "var.iloc[0,2:] = var_1 \n",
    "\n",
    "### Simulate the rest of the period using the initial variance given\n",
    "for i in range(1, len(var)):\n",
    "    ### Forecast variance by plugging the GARCH and IGARCH parameters into their respective equations\n",
    "    var['IGARCH'].iloc[i] = var['IGARCH'].iloc[i-1] * theta + (1-theta)*(spy.iloc[i-1,0]**2)\n",
    "    var['GARCH'].iloc[i] = GARCH_model.params['omega'] + var['GARCH'].iloc[i-1] * GARCH_model.params['beta[1]'] + GARCH_model.params['alpha[1]']*(spy.iloc[i-1,0]**2)\n",
    "    \n",
    "var = var.dropna()\n",
    "\n",
    "var.tail() * FREQ"
   ]
  },
  {
   "cell_type": "markdown",
   "id": "f1baa512",
   "metadata": {},
   "source": [
    "Let's plot our volatility estimates now:"
   ]
  },
  {
   "cell_type": "code",
   "execution_count": 19,
   "id": "5d93bf5e",
   "metadata": {},
   "outputs": [
    {
     "data": {
      "image/png": "[encoded data removed]",
      "text/plain": [
       "<Figure size 1200x600 with 1 Axes>"
      ]
     },
     "metadata": {},
     "output_type": "display_data"
    }
   ],
   "source": [
    "### Convert variance to volatility\n",
    "vol = (var * FREQ)**.5\n",
    "\n",
    "vol.plot()\n",
    "plt.title('Volatility Forecasts')\n",
    "plt.ylabel('Volatility')\n",
    "\n",
    "plt.show()"
   ]
  },
  {
   "cell_type": "markdown",
   "id": "26e5d32d",
   "metadata": {},
   "source": [
    "## <span style='color:red'>2.2</span>"
   ]
  },
  {
   "cell_type": "code",
   "execution_count": 20,
   "id": "a9fed76d",
   "metadata": {},
   "outputs": [
    {
     "data": {
      "text/html": [
       "<div>\n",
       "<style scoped>\n",
       "    .dataframe tbody tr th:only-of-type {\n",
       "        vertical-align: middle;\n",
       "    }\n",
       "\n",
       "    .dataframe tbody tr th {\n",
       "        vertical-align: top;\n",
       "    }\n",
       "\n",
       "    .dataframe thead th {\n",
       "        text-align: right;\n",
       "    }\n",
       "</style>\n",
       "<table border=\"1\" class=\"dataframe\">\n",
       "  <thead>\n",
       "    <tr style=\"text-align: right;\">\n",
       "      <th></th>\n",
       "      <th>Expanding Window</th>\n",
       "      <th>Rolling Window</th>\n",
       "      <th>GARCH</th>\n",
       "      <th>IGARCH</th>\n",
       "    </tr>\n",
       "    <tr>\n",
       "      <th>Date</th>\n",
       "      <th></th>\n",
       "      <th></th>\n",
       "      <th></th>\n",
       "      <th></th>\n",
       "    </tr>\n",
       "  </thead>\n",
       "  <tbody>\n",
       "    <tr>\n",
       "      <th>2008-10-31</th>\n",
       "      <td>0.140610</td>\n",
       "      <td>0.104488</td>\n",
       "      <td>0.194271</td>\n",
       "      <td>0.12933</td>\n",
       "    </tr>\n",
       "    <tr>\n",
       "      <th>2020-03-31</th>\n",
       "      <td>0.144813</td>\n",
       "      <td>0.124986</td>\n",
       "      <td>0.164485</td>\n",
       "      <td>0.134557</td>\n",
       "    </tr>\n",
       "    <tr>\n",
       "      <th>2023-05-31</th>\n",
       "      <td>0.152163</td>\n",
       "      <td>0.187894</td>\n",
       "      <td>0.167371</td>\n",
       "      <td>0.180901</td>\n",
       "    </tr>\n",
       "  </tbody>\n",
       "</table>\n",
       "</div>"
      ],
      "text/plain": [
       "            Expanding Window  Rolling Window     GARCH    IGARCH\n",
       "Date                                                            \n",
       "2008-10-31          0.140610        0.104488  0.194271   0.12933\n",
       "2020-03-31          0.144813        0.124986  0.164485  0.134557\n",
       "2023-05-31          0.152163        0.187894  0.167371  0.180901"
      ]
     },
     "execution_count": 20,
     "metadata": {},
     "output_type": "execute_result"
    }
   ],
   "source": [
    "dts = ['2008-10-31','2020-03-31','2023-05-31']\n",
    "vol.loc[dts]"
   ]
  }
 ],
 "metadata": {
  "hide_input": false,
  "kernelspec": {
   "display_name": "Python 3 (ipykernel)",
   "language": "python",
   "name": "python3"
  },
  "language_info": {
   "codemirror_mode": {
    "name": "ipython",
    "version": 3
   },
   "file_extension": ".py",
   "mimetype": "text/x-python",
   "name": "python",
   "nbconvert_exporter": "python",
   "pygments_lexer": "ipython3",
   "version": "3.9.6"
  },
  "toc": {
   "base_numbering": 1,
   "nav_menu": {},
   "number_sections": true,
   "sideBar": true,
   "skip_h1_title": false,
   "title_cell": "Table of Contents",
   "title_sidebar": "Contents",
   "toc_cell": false,
   "toc_position": {},
   "toc_section_display": true,
   "toc_window_display": false
  },
  "varInspector": {
   "cols": {
    "lenName": 16,
    "lenType": 16,
    "lenVar": 40
   },
   "kernels_config": {
    "python": {
     "delete_cmd_postfix": "",
     "delete_cmd_prefix": "del ",
     "library": "var_list.py",
     "varRefreshCmd": "print(var_dic_list())"
    },
    "r": {
     "delete_cmd_postfix": ") ",
     "delete_cmd_prefix": "rm(",
     "library": "var_list.r",
     "varRefreshCmd": "cat(var_dic_list()) "
    }
   },
   "types_to_exclude": [
    "module",
    "function",
    "builtin_function_or_method",
    "instance",
    "_Feature"
   ],
   "window_display": false
  }
 },
 "nbformat": 4,
 "nbformat_minor": 5
}
